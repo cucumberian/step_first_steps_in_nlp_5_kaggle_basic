{
 "cells": [
  {
   "cell_type": "code",
   "execution_count": 1,
   "metadata": {},
   "outputs": [],
   "source": [
    "import pandas as pd\n",
    "import numpy as np\n",
    "import matplotlib.pyplot as plt"
   ]
  },
  {
   "cell_type": "code",
   "execution_count": 2,
   "metadata": {},
   "outputs": [],
   "source": [
    "RANDOM_STATE = 42"
   ]
  },
  {
   "cell_type": "code",
   "execution_count": 3,
   "metadata": {},
   "outputs": [],
   "source": [
    "df = pd.read_csv('./train_ml.csv')"
   ]
  },
  {
   "cell_type": "code",
   "execution_count": 4,
   "metadata": {},
   "outputs": [],
   "source": [
    "test_df = pd.read_csv('./new_test_ml.csv', index_col=0)"
   ]
  },
  {
   "cell_type": "code",
   "execution_count": 5,
   "metadata": {},
   "outputs": [
    {
     "data": {
      "text/html": [
       "<div>\n",
       "<style scoped>\n",
       "    .dataframe tbody tr th:only-of-type {\n",
       "        vertical-align: middle;\n",
       "    }\n",
       "\n",
       "    .dataframe tbody tr th {\n",
       "        vertical-align: top;\n",
       "    }\n",
       "\n",
       "    .dataframe thead th {\n",
       "        text-align: right;\n",
       "    }\n",
       "</style>\n",
       "<table border=\"1\" class=\"dataframe\">\n",
       "  <thead>\n",
       "    <tr style=\"text-align: right;\">\n",
       "      <th></th>\n",
       "      <th>bank</th>\n",
       "      <th>feeds</th>\n",
       "      <th>grades</th>\n",
       "      <th>date</th>\n",
       "    </tr>\n",
       "  </thead>\n",
       "  <tbody>\n",
       "    <tr>\n",
       "      <th>0</th>\n",
       "      <td>ubrr</td>\n",
       "      <td>Много лет являюсь клиентом этого банка, но пос...</td>\n",
       "      <td>1.0</td>\n",
       "      <td>16.02.2017 16:10</td>\n",
       "    </tr>\n",
       "    <tr>\n",
       "      <th>1</th>\n",
       "      <td>fk_otkritie</td>\n",
       "      <td>Г. Ростов-на-Дону, ул. Ленина, 48. Были 10.12....</td>\n",
       "      <td>2.0</td>\n",
       "      <td>13.12.2016 1:05</td>\n",
       "    </tr>\n",
       "    <tr>\n",
       "      <th>2</th>\n",
       "      <td>alfabank</td>\n",
       "      <td>Здравствуйте!Ранее уже оставлял отзыв о вашем ...</td>\n",
       "      <td>NaN</td>\n",
       "      <td>28.06.2019 13:54</td>\n",
       "    </tr>\n",
       "  </tbody>\n",
       "</table>\n",
       "</div>"
      ],
      "text/plain": [
       "          bank                                              feeds  grades   \n",
       "0         ubrr  Много лет являюсь клиентом этого банка, но пос...     1.0  \\\n",
       "1  fk_otkritie  Г. Ростов-на-Дону, ул. Ленина, 48. Были 10.12....     2.0   \n",
       "2     alfabank  Здравствуйте!Ранее уже оставлял отзыв о вашем ...     NaN   \n",
       "\n",
       "               date  \n",
       "0  16.02.2017 16:10  \n",
       "1   13.12.2016 1:05  \n",
       "2  28.06.2019 13:54  "
      ]
     },
     "execution_count": 5,
     "metadata": {},
     "output_type": "execute_result"
    }
   ],
   "source": [
    "df.head(n=3)"
   ]
  },
  {
   "cell_type": "code",
   "execution_count": 6,
   "metadata": {},
   "outputs": [
    {
     "data": {
      "text/html": [
       "<div>\n",
       "<style scoped>\n",
       "    .dataframe tbody tr th:only-of-type {\n",
       "        vertical-align: middle;\n",
       "    }\n",
       "\n",
       "    .dataframe tbody tr th {\n",
       "        vertical-align: top;\n",
       "    }\n",
       "\n",
       "    .dataframe thead th {\n",
       "        text-align: right;\n",
       "    }\n",
       "</style>\n",
       "<table border=\"1\" class=\"dataframe\">\n",
       "  <thead>\n",
       "    <tr style=\"text-align: right;\">\n",
       "      <th></th>\n",
       "      <th>bank</th>\n",
       "      <th>feeds</th>\n",
       "      <th>date</th>\n",
       "    </tr>\n",
       "  </thead>\n",
       "  <tbody>\n",
       "    <tr>\n",
       "      <th>0</th>\n",
       "      <td>sberbank</td>\n",
       "      <td>Оформляем ипотеку в Сбербанке. 22.06.2020 были...</td>\n",
       "      <td>01.07.2020 10:53</td>\n",
       "    </tr>\n",
       "    <tr>\n",
       "      <th>1</th>\n",
       "      <td>alfabank</td>\n",
       "      <td>Краткое содержание: не рекомендую брать кредит...</td>\n",
       "      <td>20.06.2019 13:19</td>\n",
       "    </tr>\n",
       "    <tr>\n",
       "      <th>2</th>\n",
       "      <td>v-express-bank</td>\n",
       "      <td>Добрый день, уважаемые сотрудники службы контр...</td>\n",
       "      <td>20.02.2016 11:46</td>\n",
       "    </tr>\n",
       "    <tr>\n",
       "      <th>3</th>\n",
       "      <td>homecreditbank</td>\n",
       "      <td>Обращался за получением карты \"Зеленая польза\"...</td>\n",
       "      <td>06.05.2019 15:48</td>\n",
       "    </tr>\n",
       "    <tr>\n",
       "      <th>4</th>\n",
       "      <td>vtb</td>\n",
       "      <td>20.05.2016 обратилась в отделение банка на про...</td>\n",
       "      <td>23.05.2016 15:41</td>\n",
       "    </tr>\n",
       "  </tbody>\n",
       "</table>\n",
       "</div>"
      ],
      "text/plain": [
       "             bank                                              feeds   \n",
       "0        sberbank  Оформляем ипотеку в Сбербанке. 22.06.2020 были...  \\\n",
       "1        alfabank  Краткое содержание: не рекомендую брать кредит...   \n",
       "2  v-express-bank  Добрый день, уважаемые сотрудники службы контр...   \n",
       "3  homecreditbank  Обращался за получением карты \"Зеленая польза\"...   \n",
       "4             vtb  20.05.2016 обратилась в отделение банка на про...   \n",
       "\n",
       "               date  \n",
       "0  01.07.2020 10:53  \n",
       "1  20.06.2019 13:19  \n",
       "2  20.02.2016 11:46  \n",
       "3  06.05.2019 15:48  \n",
       "4  23.05.2016 15:41  "
      ]
     },
     "execution_count": 6,
     "metadata": {},
     "output_type": "execute_result"
    }
   ],
   "source": [
    "test_df.head()"
   ]
  },
  {
   "cell_type": "code",
   "execution_count": 7,
   "metadata": {},
   "outputs": [
    {
     "data": {
      "text/plain": [
       "(75000, 4)"
      ]
     },
     "execution_count": 7,
     "metadata": {},
     "output_type": "execute_result"
    }
   ],
   "source": [
    "df.shape"
   ]
  },
  {
   "cell_type": "code",
   "execution_count": 8,
   "metadata": {},
   "outputs": [],
   "source": [
    "# удаляю все строки из обучающих данных, в которых нет оценки\n",
    "\n",
    "na_indexes = df[df.grades.isna()].index\n",
    "df.drop(index=na_indexes, inplace=True)"
   ]
  },
  {
   "cell_type": "code",
   "execution_count": 9,
   "metadata": {},
   "outputs": [
    {
     "data": {
      "text/plain": [
       "51476"
      ]
     },
     "execution_count": 9,
     "metadata": {},
     "output_type": "execute_result"
    }
   ],
   "source": [
    "df.grades = df.grades.astype(np.int8)\n",
    "df.grades.nbytes"
   ]
  },
  {
   "cell_type": "code",
   "execution_count": 10,
   "metadata": {},
   "outputs": [
    {
     "data": {
      "text/html": [
       "<div>\n",
       "<style scoped>\n",
       "    .dataframe tbody tr th:only-of-type {\n",
       "        vertical-align: middle;\n",
       "    }\n",
       "\n",
       "    .dataframe tbody tr th {\n",
       "        vertical-align: top;\n",
       "    }\n",
       "\n",
       "    .dataframe thead th {\n",
       "        text-align: right;\n",
       "    }\n",
       "</style>\n",
       "<table border=\"1\" class=\"dataframe\">\n",
       "  <thead>\n",
       "    <tr style=\"text-align: right;\">\n",
       "      <th></th>\n",
       "      <th>bank</th>\n",
       "      <th>feeds</th>\n",
       "      <th>grades</th>\n",
       "      <th>date</th>\n",
       "      <th>bank_name_len</th>\n",
       "      <th>feed_words</th>\n",
       "      <th>feed_len</th>\n",
       "      <th>day_of_week</th>\n",
       "      <th>is_workday</th>\n",
       "      <th>is_friday</th>\n",
       "      <th>is_monday</th>\n",
       "    </tr>\n",
       "  </thead>\n",
       "  <tbody>\n",
       "    <tr>\n",
       "      <th>56618</th>\n",
       "      <td>fk_otkritie</td>\n",
       "      <td>Обратился в отделение в связи с закрытием счет...</td>\n",
       "      <td>1</td>\n",
       "      <td>2019-11-19 17:13:00</td>\n",
       "      <td>11</td>\n",
       "      <td>66</td>\n",
       "      <td>414</td>\n",
       "      <td>2</td>\n",
       "      <td>True</td>\n",
       "      <td>False</td>\n",
       "      <td>False</td>\n",
       "    </tr>\n",
       "    <tr>\n",
       "      <th>50287</th>\n",
       "      <td>tcs</td>\n",
       "      <td>С января 2017 года стал клиентом Тинькофф банк...</td>\n",
       "      <td>4</td>\n",
       "      <td>2017-05-12 08:40:00</td>\n",
       "      <td>3</td>\n",
       "      <td>440</td>\n",
       "      <td>2873</td>\n",
       "      <td>5</td>\n",
       "      <td>True</td>\n",
       "      <td>True</td>\n",
       "      <td>False</td>\n",
       "    </tr>\n",
       "    <tr>\n",
       "      <th>62050</th>\n",
       "      <td>investtorgbank</td>\n",
       "      <td>Мы являемся заемщиками в Инвестторгбанке по ип...</td>\n",
       "      <td>1</td>\n",
       "      <td>2013-11-19 12:41:00</td>\n",
       "      <td>14</td>\n",
       "      <td>88</td>\n",
       "      <td>620</td>\n",
       "      <td>2</td>\n",
       "      <td>True</td>\n",
       "      <td>False</td>\n",
       "      <td>False</td>\n",
       "    </tr>\n",
       "    <tr>\n",
       "      <th>39779</th>\n",
       "      <td>trust</td>\n",
       "      <td>12.04.2017 мною был написано заявление на доср...</td>\n",
       "      <td>1</td>\n",
       "      <td>2017-05-30 10:31:00</td>\n",
       "      <td>5</td>\n",
       "      <td>237</td>\n",
       "      <td>1558</td>\n",
       "      <td>2</td>\n",
       "      <td>True</td>\n",
       "      <td>False</td>\n",
       "      <td>False</td>\n",
       "    </tr>\n",
       "    <tr>\n",
       "      <th>68966</th>\n",
       "      <td>tcs</td>\n",
       "      <td>Дебетовой картой Тинькофф Блэк пользуюсь не пе...</td>\n",
       "      <td>3</td>\n",
       "      <td>2019-11-04 15:10:00</td>\n",
       "      <td>3</td>\n",
       "      <td>236</td>\n",
       "      <td>1503</td>\n",
       "      <td>1</td>\n",
       "      <td>True</td>\n",
       "      <td>False</td>\n",
       "      <td>True</td>\n",
       "    </tr>\n",
       "  </tbody>\n",
       "</table>\n",
       "</div>"
      ],
      "text/plain": [
       "                 bank                                              feeds   \n",
       "56618     fk_otkritie  Обратился в отделение в связи с закрытием счет...  \\\n",
       "50287             tcs  С января 2017 года стал клиентом Тинькофф банк...   \n",
       "62050  investtorgbank  Мы являемся заемщиками в Инвестторгбанке по ип...   \n",
       "39779           trust  12.04.2017 мною был написано заявление на доср...   \n",
       "68966             tcs  Дебетовой картой Тинькофф Блэк пользуюсь не пе...   \n",
       "\n",
       "       grades                date  bank_name_len  feed_words  feed_len   \n",
       "56618       1 2019-11-19 17:13:00             11          66       414  \\\n",
       "50287       4 2017-05-12 08:40:00              3         440      2873   \n",
       "62050       1 2013-11-19 12:41:00             14          88       620   \n",
       "39779       1 2017-05-30 10:31:00              5         237      1558   \n",
       "68966       3 2019-11-04 15:10:00              3         236      1503   \n",
       "\n",
       "       day_of_week  is_workday  is_friday  is_monday  \n",
       "56618            2        True      False      False  \n",
       "50287            5        True       True      False  \n",
       "62050            2        True      False      False  \n",
       "39779            2        True      False      False  \n",
       "68966            1        True      False       True  "
      ]
     },
     "execution_count": 10,
     "metadata": {},
     "output_type": "execute_result"
    }
   ],
   "source": [
    "import datetime\n",
    "\n",
    "df.date = df.date.apply(lambda i: datetime.datetime.strptime(i, '%d.%m.%Y %H:%M'))\n",
    "df['bank_name_len'] = df.bank.apply(lambda i: len(i))\n",
    "df['feed_words'] = df.feeds.apply(lambda i: i.split().__len__())\n",
    "df['feed_len'] = df.feeds.apply(lambda i: len(i))\n",
    "df['day_of_week'] = df.date.apply(lambda i: i.isoweekday())\n",
    "df['is_workday'] = df.day_of_week < 6\n",
    "df['is_friday'] = df.day_of_week == 5\n",
    "df['is_monday'] = df.day_of_week == 1\n",
    "\n",
    "# для тестового датасета\n",
    "test_df.date = test_df.date.apply(lambda i: datetime.datetime.strptime(i, '%d.%m.%Y %H:%M'))\n",
    "test_df['bank_name_len'] = test_df.bank.apply(lambda i: len(i))\n",
    "test_df['feed_words'] = test_df.feeds.apply(lambda i: i.split().__len__())\n",
    "test_df['feed_len'] = test_df.feeds.apply(lambda i: len(i))\n",
    "test_df['day_of_week'] = test_df.date.apply(lambda i: i.isoweekday())\n",
    "test_df['is_workday'] = test_df.day_of_week < 6\n",
    "test_df['is_friday'] = test_df.day_of_week == 5\n",
    "test_df['is_monday'] = test_df.day_of_week == 1\n",
    "\n",
    "df.sample(5)\n"
   ]
  },
  {
   "cell_type": "code",
   "execution_count": 11,
   "metadata": {},
   "outputs": [],
   "source": [
    "df['mean_word_len'] = df.feeds.apply(lambda x: np.mean([i.__len__() for i in x.split()]))\n",
    "df['mean_word_len2'] = df.feed_len / df.feed_words\n",
    "\n",
    "\n",
    "test_df['mean_word_len'] = test_df.feeds.apply(lambda x: np.mean([i.__len__() for i in x.split()]))\n",
    "test_df['mean_word_len2'] = test_df.feed_len / test_df.feed_words"
   ]
  },
  {
   "cell_type": "code",
   "execution_count": 199,
   "metadata": {},
   "outputs": [
    {
     "data": {
      "image/png": "[encoded data removed]",
      "text/plain": [
       "<Figure size 640x480 with 2 Axes>"
      ]
     },
     "metadata": {},
     "output_type": "display_data"
    }
   ],
   "source": [
    "column_names = ['bank_name_len', 'feed_words', 'day_of_week', 'mean_word_len', 'is_workday', 'is_monday', 'is_friday']\n",
    "corr_data = df[column_names +['grades']]\n",
    "import seaborn as sns\n",
    "import matplotlib.pyplot as plt\n",
    "sns.heatmap(data=corr_data.corr(), annot=True, annot_kws=dict(size=8), cmap='Blues', linewidths=0.5)\n",
    "plt.show()"
   ]
  },
  {
   "cell_type": "code",
   "execution_count": 13,
   "metadata": {},
   "outputs": [],
   "source": [
    "from sklearn.model_selection import train_test_split\n",
    "X_train, X_test, y_train, y_test = train_test_split(\n",
    "    df[column_names], \n",
    "    df.grades, \n",
    "    test_size=0.2,\n",
    "    random_state=RANDOM_STATE,\n",
    ")"
   ]
  },
  {
   "cell_type": "code",
   "execution_count": 14,
   "metadata": {},
   "outputs": [],
   "source": [
    "from sklearn.preprocessing import StandardScaler\n",
    "\n",
    "scaler = StandardScaler()\n",
    "scaler.fit(X_train)\n",
    "\n",
    "X_train = scaler.transform(X_train)\n",
    "X_test = scaler.transform(X_test)"
   ]
  },
  {
   "cell_type": "code",
   "execution_count": 15,
   "metadata": {},
   "outputs": [
    {
     "data": {
      "text/plain": [
       "(17220, 7)"
      ]
     },
     "execution_count": 15,
     "metadata": {},
     "output_type": "execute_result"
    }
   ],
   "source": [
    "test_X = scaler.transform(test_df[column_names])\n",
    "test_X.shape"
   ]
  },
  {
   "cell_type": "code",
   "execution_count": 16,
   "metadata": {},
   "outputs": [
    {
     "data": {
      "text/plain": [
       "<Axes: >"
      ]
     },
     "execution_count": 16,
     "metadata": {},
     "output_type": "execute_result"
    },
    {
     "data": {
      "image/png": "[encoded data removed]",
      "text/plain": [
       "<Figure size 640x480 with 1 Axes>"
      ]
     },
     "metadata": {},
     "output_type": "display_data"
    }
   ],
   "source": [
    "y_train.hist()"
   ]
  },
  {
   "cell_type": "code",
   "execution_count": 17,
   "metadata": {},
   "outputs": [],
   "source": [
    "from sklearn.linear_model import LogisticRegression\n",
    "\n",
    "lr = LogisticRegression( solver='lbfgs')\n",
    "lr.fit(X_train, y_train)\n",
    "lr_pred = lr.predict(X_test)\n",
    "lr_pred_proba = lr.predict_proba(X_test)[:, 1]"
   ]
  },
  {
   "cell_type": "code",
   "execution_count": 18,
   "metadata": {},
   "outputs": [
    {
     "data": {
      "text/plain": [
       "1    0.793512\n",
       "5    0.206488\n",
       "Name: proportion, dtype: float64"
      ]
     },
     "execution_count": 18,
     "metadata": {},
     "output_type": "execute_result"
    }
   ],
   "source": [
    "pd.Series(lr_pred).value_counts(normalize=True)"
   ]
  },
  {
   "cell_type": "code",
   "execution_count": 179,
   "metadata": {},
   "outputs": [
    {
     "name": "stdout",
     "output_type": "stream",
     "text": [
      "Classification reposrt:\n",
      "              precision    recall  f1-score   support\n",
      "\n",
      "           1       0.54      0.80      0.65      5548\n",
      "           2       0.00      0.00      0.00      1127\n",
      "           3       0.00      0.00      0.00       471\n",
      "           4       0.00      0.00      0.00       304\n",
      "           5       0.30      0.22      0.25      2846\n",
      "\n",
      "    accuracy                           0.49     10296\n",
      "   macro avg       0.17      0.20      0.18     10296\n",
      "weighted avg       0.37      0.49      0.42     10296\n",
      "\n",
      "Confusion matrix:\n",
      "[[4437    0    0    0 1111]\n",
      " [ 900    0    0    0  227]\n",
      " [ 372    0    0    0   99]\n",
      " [ 243    0    0    0   61]\n",
      " [2218    0    0    0  628]]\n",
      "Accuracy score: 49.2%\n",
      "f1 score: 41.8%\n"
     ]
    },
    {
     "name": "stderr",
     "output_type": "stream",
     "text": [
      "/root/scripts/python/ml/.venv/lib/python3.10/site-packages/sklearn/metrics/_classification.py:1344: UndefinedMetricWarning: Precision and F-score are ill-defined and being set to 0.0 in labels with no predicted samples. Use `zero_division` parameter to control this behavior.\n",
      "  _warn_prf(average, modifier, msg_start, len(result))\n",
      "/root/scripts/python/ml/.venv/lib/python3.10/site-packages/sklearn/metrics/_classification.py:1344: UndefinedMetricWarning: Precision and F-score are ill-defined and being set to 0.0 in labels with no predicted samples. Use `zero_division` parameter to control this behavior.\n",
      "  _warn_prf(average, modifier, msg_start, len(result))\n",
      "/root/scripts/python/ml/.venv/lib/python3.10/site-packages/sklearn/metrics/_classification.py:1344: UndefinedMetricWarning: Precision and F-score are ill-defined and being set to 0.0 in labels with no predicted samples. Use `zero_division` parameter to control this behavior.\n",
      "  _warn_prf(average, modifier, msg_start, len(result))\n"
     ]
    }
   ],
   "source": [
    "from sklearn.metrics import classification_report\n",
    "from sklearn.metrics import confusion_matrix\n",
    "from sklearn.metrics import accuracy_score\n",
    "from sklearn.metrics import f1_score\n",
    "\n",
    "\n",
    "def print_results(test_data, predictions):\n",
    "    print(f\"Classification reposrt:\\n{classification_report(test_data, predictions)}\")\n",
    "    print(f\"Confusion matrix:\\n{confusion_matrix(test_data, predictions)}\")\n",
    "    print(f\"Accuracy score: {accuracy_score(test_data, predictions)*100:2.1f}%\")\n",
    "    print(f\"f1 score: {f1_score(test_data, predictions, average='weighted')*100:2.1f}%\")\n",
    "\n",
    "print_results(y_test, lr_pred)"
   ]
  },
  {
   "cell_type": "code",
   "execution_count": 20,
   "metadata": {},
   "outputs": [
    {
     "name": "stdout",
     "output_type": "stream",
     "text": [
      "BIAS Accuracy score: 53.5%\n",
      "BIAS f1 score: 37.3%\n"
     ]
    }
   ],
   "source": [
    "bias_pred = np.ones_like(y_test)\n",
    "print(f\"BIAS Accuracy score: {accuracy_score(y_test, bias_pred)*100:2.1f}%\")\n",
    "print(f\"BIAS f1 score: {f1_score(y_test, bias_pred, average='weighted')*100:2.1f}%\")"
   ]
  },
  {
   "cell_type": "code",
   "execution_count": 21,
   "metadata": {},
   "outputs": [],
   "source": [
    "test_df_pred = lr.predict(test_X)\n"
   ]
  },
  {
   "cell_type": "code",
   "execution_count": 22,
   "metadata": {},
   "outputs": [],
   "source": [
    "test_index = test_df.index\n",
    "answer = pd.DataFrame(data=test_df_pred, index=test_index, columns=['grades'])\n",
    "answer.to_csv('my_answer_lr.csv', index_label='inds')"
   ]
  },
  {
   "cell_type": "code",
   "execution_count": 23,
   "metadata": {},
   "outputs": [],
   "source": [
    "from catboost import CatBoostClassifier\n",
    "\n",
    "cb = CatBoostClassifier()"
   ]
  },
  {
   "cell_type": "code",
   "execution_count": 24,
   "metadata": {},
   "outputs": [
    {
     "name": "stdout",
     "output_type": "stream",
     "text": [
      "Learning rate set to 0.095647\n",
      "0:\tlearn: 1.4975624\ttotal: 54.7ms\tremaining: 54.6s\n",
      "1:\tlearn: 1.4165623\ttotal: 61.4ms\tremaining: 30.7s\n",
      "2:\tlearn: 1.3539177\ttotal: 69.6ms\tremaining: 23.1s\n",
      "3:\tlearn: 1.3037371\ttotal: 76.7ms\tremaining: 19.1s\n",
      "4:\tlearn: 1.2631421\ttotal: 84.1ms\tremaining: 16.7s\n",
      "5:\tlearn: 1.2299468\ttotal: 91.9ms\tremaining: 15.2s\n",
      "6:\tlearn: 1.2027331\ttotal: 99.2ms\tremaining: 14.1s\n",
      "7:\tlearn: 1.1801194\ttotal: 107ms\tremaining: 13.3s\n",
      "8:\tlearn: 1.1613961\ttotal: 114ms\tremaining: 12.6s\n",
      "9:\tlearn: 1.1455658\ttotal: 122ms\tremaining: 12.1s\n",
      "10:\tlearn: 1.1301361\ttotal: 130ms\tremaining: 11.7s\n",
      "11:\tlearn: 1.1181826\ttotal: 137ms\tremaining: 11.3s\n",
      "12:\tlearn: 1.1084809\ttotal: 143ms\tremaining: 10.9s\n",
      "13:\tlearn: 1.0990228\ttotal: 150ms\tremaining: 10.6s\n",
      "14:\tlearn: 1.0915031\ttotal: 157ms\tremaining: 10.3s\n",
      "15:\tlearn: 1.0851564\ttotal: 164ms\tremaining: 10.1s\n",
      "16:\tlearn: 1.0793875\ttotal: 171ms\tremaining: 9.89s\n",
      "17:\tlearn: 1.0738387\ttotal: 179ms\tremaining: 9.75s\n",
      "18:\tlearn: 1.0690739\ttotal: 186ms\tremaining: 9.59s\n",
      "19:\tlearn: 1.0647224\ttotal: 193ms\tremaining: 9.44s\n",
      "20:\tlearn: 1.0614878\ttotal: 200ms\tremaining: 9.32s\n",
      "21:\tlearn: 1.0589050\ttotal: 206ms\tremaining: 9.18s\n",
      "22:\tlearn: 1.0564414\ttotal: 214ms\tremaining: 9.08s\n",
      "23:\tlearn: 1.0539801\ttotal: 221ms\tremaining: 8.98s\n",
      "24:\tlearn: 1.0522195\ttotal: 228ms\tremaining: 8.89s\n",
      "25:\tlearn: 1.0503191\ttotal: 235ms\tremaining: 8.81s\n",
      "26:\tlearn: 1.0488129\ttotal: 242ms\tremaining: 8.73s\n",
      "27:\tlearn: 1.0475018\ttotal: 250ms\tremaining: 8.67s\n",
      "28:\tlearn: 1.0464635\ttotal: 257ms\tremaining: 8.6s\n",
      "29:\tlearn: 1.0454378\ttotal: 265ms\tremaining: 8.55s\n",
      "30:\tlearn: 1.0446815\ttotal: 271ms\tremaining: 8.48s\n",
      "31:\tlearn: 1.0436637\ttotal: 278ms\tremaining: 8.42s\n",
      "32:\tlearn: 1.0431607\ttotal: 286ms\tremaining: 8.38s\n",
      "33:\tlearn: 1.0425166\ttotal: 294ms\tremaining: 8.34s\n",
      "34:\tlearn: 1.0419807\ttotal: 301ms\tremaining: 8.3s\n",
      "35:\tlearn: 1.0413278\ttotal: 308ms\tremaining: 8.24s\n",
      "36:\tlearn: 1.0408930\ttotal: 315ms\tremaining: 8.19s\n",
      "37:\tlearn: 1.0404078\ttotal: 321ms\tremaining: 8.13s\n",
      "38:\tlearn: 1.0398085\ttotal: 329ms\tremaining: 8.1s\n",
      "39:\tlearn: 1.0394641\ttotal: 336ms\tremaining: 8.05s\n",
      "40:\tlearn: 1.0389212\ttotal: 342ms\tremaining: 8.01s\n",
      "41:\tlearn: 1.0383652\ttotal: 349ms\tremaining: 7.97s\n",
      "42:\tlearn: 1.0380696\ttotal: 356ms\tremaining: 7.92s\n",
      "43:\tlearn: 1.0377895\ttotal: 363ms\tremaining: 7.89s\n",
      "44:\tlearn: 1.0373724\ttotal: 370ms\tremaining: 7.86s\n",
      "45:\tlearn: 1.0370024\ttotal: 378ms\tremaining: 7.84s\n",
      "46:\tlearn: 1.0366117\ttotal: 386ms\tremaining: 7.82s\n",
      "47:\tlearn: 1.0363558\ttotal: 393ms\tremaining: 7.79s\n",
      "48:\tlearn: 1.0360817\ttotal: 400ms\tremaining: 7.76s\n",
      "49:\tlearn: 1.0358759\ttotal: 407ms\tremaining: 7.73s\n",
      "50:\tlearn: 1.0356547\ttotal: 415ms\tremaining: 7.71s\n",
      "51:\tlearn: 1.0353137\ttotal: 423ms\tremaining: 7.7s\n",
      "52:\tlearn: 1.0351684\ttotal: 430ms\tremaining: 7.69s\n",
      "53:\tlearn: 1.0349594\ttotal: 439ms\tremaining: 7.7s\n",
      "54:\tlearn: 1.0347651\ttotal: 448ms\tremaining: 7.69s\n",
      "55:\tlearn: 1.0345893\ttotal: 455ms\tremaining: 7.68s\n",
      "56:\tlearn: 1.0342993\ttotal: 464ms\tremaining: 7.68s\n",
      "57:\tlearn: 1.0340975\ttotal: 471ms\tremaining: 7.65s\n",
      "58:\tlearn: 1.0338663\ttotal: 479ms\tremaining: 7.64s\n",
      "59:\tlearn: 1.0336907\ttotal: 487ms\tremaining: 7.62s\n",
      "60:\tlearn: 1.0335590\ttotal: 494ms\tremaining: 7.61s\n",
      "61:\tlearn: 1.0333358\ttotal: 502ms\tremaining: 7.59s\n",
      "62:\tlearn: 1.0331894\ttotal: 509ms\tremaining: 7.57s\n",
      "63:\tlearn: 1.0330054\ttotal: 518ms\tremaining: 7.57s\n",
      "64:\tlearn: 1.0327156\ttotal: 525ms\tremaining: 7.55s\n",
      "65:\tlearn: 1.0325281\ttotal: 533ms\tremaining: 7.54s\n",
      "66:\tlearn: 1.0323240\ttotal: 540ms\tremaining: 7.53s\n",
      "67:\tlearn: 1.0321424\ttotal: 548ms\tremaining: 7.51s\n",
      "68:\tlearn: 1.0319200\ttotal: 555ms\tremaining: 7.49s\n",
      "69:\tlearn: 1.0316293\ttotal: 562ms\tremaining: 7.46s\n",
      "70:\tlearn: 1.0314266\ttotal: 569ms\tremaining: 7.44s\n",
      "71:\tlearn: 1.0313043\ttotal: 576ms\tremaining: 7.43s\n",
      "72:\tlearn: 1.0311556\ttotal: 583ms\tremaining: 7.4s\n",
      "73:\tlearn: 1.0309618\ttotal: 590ms\tremaining: 7.39s\n",
      "74:\tlearn: 1.0309047\ttotal: 596ms\tremaining: 7.35s\n",
      "75:\tlearn: 1.0306748\ttotal: 604ms\tremaining: 7.34s\n",
      "76:\tlearn: 1.0305885\ttotal: 611ms\tremaining: 7.32s\n",
      "77:\tlearn: 1.0304445\ttotal: 618ms\tremaining: 7.3s\n",
      "78:\tlearn: 1.0303633\ttotal: 625ms\tremaining: 7.29s\n",
      "79:\tlearn: 1.0302381\ttotal: 632ms\tremaining: 7.27s\n",
      "80:\tlearn: 1.0301203\ttotal: 640ms\tremaining: 7.26s\n",
      "81:\tlearn: 1.0298768\ttotal: 647ms\tremaining: 7.25s\n",
      "82:\tlearn: 1.0295479\ttotal: 655ms\tremaining: 7.23s\n",
      "83:\tlearn: 1.0294363\ttotal: 662ms\tremaining: 7.22s\n",
      "84:\tlearn: 1.0293085\ttotal: 669ms\tremaining: 7.2s\n",
      "85:\tlearn: 1.0291759\ttotal: 676ms\tremaining: 7.18s\n",
      "86:\tlearn: 1.0290293\ttotal: 684ms\tremaining: 7.17s\n",
      "87:\tlearn: 1.0288331\ttotal: 691ms\tremaining: 7.16s\n",
      "88:\tlearn: 1.0286755\ttotal: 698ms\tremaining: 7.15s\n",
      "89:\tlearn: 1.0285053\ttotal: 706ms\tremaining: 7.13s\n",
      "90:\tlearn: 1.0283028\ttotal: 713ms\tremaining: 7.12s\n",
      "91:\tlearn: 1.0281511\ttotal: 720ms\tremaining: 7.11s\n",
      "92:\tlearn: 1.0279958\ttotal: 727ms\tremaining: 7.09s\n",
      "93:\tlearn: 1.0278305\ttotal: 736ms\tremaining: 7.09s\n",
      "94:\tlearn: 1.0277181\ttotal: 746ms\tremaining: 7.11s\n",
      "95:\tlearn: 1.0275320\ttotal: 754ms\tremaining: 7.1s\n",
      "96:\tlearn: 1.0273898\ttotal: 761ms\tremaining: 7.08s\n",
      "97:\tlearn: 1.0272723\ttotal: 769ms\tremaining: 7.07s\n",
      "98:\tlearn: 1.0271259\ttotal: 777ms\tremaining: 7.07s\n",
      "99:\tlearn: 1.0268720\ttotal: 784ms\tremaining: 7.05s\n",
      "100:\tlearn: 1.0268020\ttotal: 791ms\tremaining: 7.04s\n",
      "101:\tlearn: 1.0266345\ttotal: 798ms\tremaining: 7.03s\n",
      "102:\tlearn: 1.0265151\ttotal: 805ms\tremaining: 7.01s\n",
      "103:\tlearn: 1.0263252\ttotal: 813ms\tremaining: 7s\n",
      "104:\tlearn: 1.0261978\ttotal: 820ms\tremaining: 6.99s\n",
      "105:\tlearn: 1.0260648\ttotal: 828ms\tremaining: 6.98s\n",
      "106:\tlearn: 1.0258862\ttotal: 835ms\tremaining: 6.97s\n",
      "107:\tlearn: 1.0257457\ttotal: 842ms\tremaining: 6.95s\n",
      "108:\tlearn: 1.0255919\ttotal: 849ms\tremaining: 6.94s\n",
      "109:\tlearn: 1.0254893\ttotal: 856ms\tremaining: 6.92s\n",
      "110:\tlearn: 1.0253670\ttotal: 863ms\tremaining: 6.91s\n",
      "111:\tlearn: 1.0251996\ttotal: 872ms\tremaining: 6.91s\n",
      "112:\tlearn: 1.0250408\ttotal: 879ms\tremaining: 6.9s\n",
      "113:\tlearn: 1.0248304\ttotal: 887ms\tremaining: 6.89s\n",
      "114:\tlearn: 1.0247416\ttotal: 893ms\tremaining: 6.87s\n",
      "115:\tlearn: 1.0246114\ttotal: 901ms\tremaining: 6.87s\n",
      "116:\tlearn: 1.0244452\ttotal: 908ms\tremaining: 6.85s\n",
      "117:\tlearn: 1.0243546\ttotal: 915ms\tremaining: 6.84s\n",
      "118:\tlearn: 1.0242421\ttotal: 922ms\tremaining: 6.83s\n",
      "119:\tlearn: 1.0240905\ttotal: 930ms\tremaining: 6.82s\n",
      "120:\tlearn: 1.0239865\ttotal: 936ms\tremaining: 6.8s\n",
      "121:\tlearn: 1.0238780\ttotal: 943ms\tremaining: 6.79s\n",
      "122:\tlearn: 1.0237093\ttotal: 950ms\tremaining: 6.78s\n",
      "123:\tlearn: 1.0235716\ttotal: 957ms\tremaining: 6.76s\n",
      "124:\tlearn: 1.0234383\ttotal: 964ms\tremaining: 6.75s\n",
      "125:\tlearn: 1.0232578\ttotal: 972ms\tremaining: 6.75s\n",
      "126:\tlearn: 1.0231298\ttotal: 982ms\tremaining: 6.75s\n",
      "127:\tlearn: 1.0228855\ttotal: 991ms\tremaining: 6.75s\n",
      "128:\tlearn: 1.0227572\ttotal: 998ms\tremaining: 6.74s\n",
      "129:\tlearn: 1.0226116\ttotal: 1.01s\tremaining: 6.74s\n",
      "130:\tlearn: 1.0224338\ttotal: 1.01s\tremaining: 6.74s\n",
      "131:\tlearn: 1.0222477\ttotal: 1.02s\tremaining: 6.73s\n",
      "132:\tlearn: 1.0221500\ttotal: 1.03s\tremaining: 6.71s\n",
      "133:\tlearn: 1.0219928\ttotal: 1.04s\tremaining: 6.7s\n",
      "134:\tlearn: 1.0218297\ttotal: 1.04s\tremaining: 6.69s\n",
      "135:\tlearn: 1.0216825\ttotal: 1.05s\tremaining: 6.69s\n",
      "136:\tlearn: 1.0215717\ttotal: 1.06s\tremaining: 6.67s\n",
      "137:\tlearn: 1.0214321\ttotal: 1.07s\tremaining: 6.66s\n",
      "138:\tlearn: 1.0212977\ttotal: 1.07s\tremaining: 6.65s\n",
      "139:\tlearn: 1.0212088\ttotal: 1.08s\tremaining: 6.63s\n",
      "140:\tlearn: 1.0210991\ttotal: 1.09s\tremaining: 6.62s\n",
      "141:\tlearn: 1.0209802\ttotal: 1.09s\tremaining: 6.61s\n",
      "142:\tlearn: 1.0208379\ttotal: 1.1s\tremaining: 6.6s\n",
      "143:\tlearn: 1.0207079\ttotal: 1.11s\tremaining: 6.59s\n",
      "144:\tlearn: 1.0205321\ttotal: 1.12s\tremaining: 6.58s\n",
      "145:\tlearn: 1.0203865\ttotal: 1.12s\tremaining: 6.57s\n",
      "146:\tlearn: 1.0202828\ttotal: 1.13s\tremaining: 6.57s\n",
      "147:\tlearn: 1.0201675\ttotal: 1.14s\tremaining: 6.56s\n",
      "148:\tlearn: 1.0200539\ttotal: 1.15s\tremaining: 6.55s\n",
      "149:\tlearn: 1.0199018\ttotal: 1.15s\tremaining: 6.54s\n",
      "150:\tlearn: 1.0197491\ttotal: 1.16s\tremaining: 6.53s\n",
      "151:\tlearn: 1.0196634\ttotal: 1.17s\tremaining: 6.51s\n",
      "152:\tlearn: 1.0195299\ttotal: 1.17s\tremaining: 6.5s\n",
      "153:\tlearn: 1.0194212\ttotal: 1.18s\tremaining: 6.49s\n",
      "154:\tlearn: 1.0193106\ttotal: 1.19s\tremaining: 6.48s\n",
      "155:\tlearn: 1.0191828\ttotal: 1.2s\tremaining: 6.47s\n",
      "156:\tlearn: 1.0190831\ttotal: 1.2s\tremaining: 6.46s\n",
      "157:\tlearn: 1.0189238\ttotal: 1.21s\tremaining: 6.45s\n",
      "158:\tlearn: 1.0187435\ttotal: 1.22s\tremaining: 6.44s\n",
      "159:\tlearn: 1.0185909\ttotal: 1.22s\tremaining: 6.43s\n",
      "160:\tlearn: 1.0184670\ttotal: 1.23s\tremaining: 6.42s\n",
      "161:\tlearn: 1.0183573\ttotal: 1.24s\tremaining: 6.41s\n",
      "162:\tlearn: 1.0181634\ttotal: 1.25s\tremaining: 6.41s\n",
      "163:\tlearn: 1.0180177\ttotal: 1.25s\tremaining: 6.4s\n",
      "164:\tlearn: 1.0178301\ttotal: 1.26s\tremaining: 6.39s\n",
      "165:\tlearn: 1.0177333\ttotal: 1.27s\tremaining: 6.38s\n",
      "166:\tlearn: 1.0175918\ttotal: 1.28s\tremaining: 6.37s\n",
      "167:\tlearn: 1.0174227\ttotal: 1.28s\tremaining: 6.36s\n",
      "168:\tlearn: 1.0173150\ttotal: 1.29s\tremaining: 6.35s\n",
      "169:\tlearn: 1.0171498\ttotal: 1.3s\tremaining: 6.34s\n",
      "170:\tlearn: 1.0170227\ttotal: 1.31s\tremaining: 6.33s\n",
      "171:\tlearn: 1.0169020\ttotal: 1.31s\tremaining: 6.32s\n",
      "172:\tlearn: 1.0168089\ttotal: 1.32s\tremaining: 6.31s\n",
      "173:\tlearn: 1.0166955\ttotal: 1.33s\tremaining: 6.3s\n",
      "174:\tlearn: 1.0166011\ttotal: 1.33s\tremaining: 6.29s\n",
      "175:\tlearn: 1.0164985\ttotal: 1.34s\tremaining: 6.29s\n",
      "176:\tlearn: 1.0164040\ttotal: 1.35s\tremaining: 6.27s\n",
      "177:\tlearn: 1.0163303\ttotal: 1.36s\tremaining: 6.26s\n",
      "178:\tlearn: 1.0162292\ttotal: 1.36s\tremaining: 6.25s\n",
      "179:\tlearn: 1.0161155\ttotal: 1.37s\tremaining: 6.24s\n",
      "180:\tlearn: 1.0159740\ttotal: 1.38s\tremaining: 6.23s\n",
      "181:\tlearn: 1.0159089\ttotal: 1.38s\tremaining: 6.22s\n",
      "182:\tlearn: 1.0157621\ttotal: 1.39s\tremaining: 6.21s\n",
      "183:\tlearn: 1.0156629\ttotal: 1.4s\tremaining: 6.2s\n",
      "184:\tlearn: 1.0155301\ttotal: 1.4s\tremaining: 6.19s\n",
      "185:\tlearn: 1.0153741\ttotal: 1.41s\tremaining: 6.18s\n",
      "186:\tlearn: 1.0152754\ttotal: 1.42s\tremaining: 6.17s\n",
      "187:\tlearn: 1.0151772\ttotal: 1.43s\tremaining: 6.16s\n",
      "188:\tlearn: 1.0150839\ttotal: 1.43s\tremaining: 6.16s\n",
      "189:\tlearn: 1.0149180\ttotal: 1.44s\tremaining: 6.15s\n",
      "190:\tlearn: 1.0148025\ttotal: 1.45s\tremaining: 6.14s\n",
      "191:\tlearn: 1.0147055\ttotal: 1.46s\tremaining: 6.13s\n",
      "192:\tlearn: 1.0146261\ttotal: 1.46s\tremaining: 6.12s\n",
      "193:\tlearn: 1.0145372\ttotal: 1.47s\tremaining: 6.1s\n",
      "194:\tlearn: 1.0143901\ttotal: 1.48s\tremaining: 6.09s\n",
      "195:\tlearn: 1.0142666\ttotal: 1.48s\tremaining: 6.08s\n",
      "196:\tlearn: 1.0141529\ttotal: 1.49s\tremaining: 6.07s\n",
      "197:\tlearn: 1.0140808\ttotal: 1.5s\tremaining: 6.06s\n",
      "198:\tlearn: 1.0139634\ttotal: 1.5s\tremaining: 6.05s\n",
      "199:\tlearn: 1.0138145\ttotal: 1.51s\tremaining: 6.04s\n",
      "200:\tlearn: 1.0137076\ttotal: 1.52s\tremaining: 6.03s\n",
      "201:\tlearn: 1.0136019\ttotal: 1.52s\tremaining: 6.02s\n",
      "202:\tlearn: 1.0134254\ttotal: 1.53s\tremaining: 6.01s\n",
      "203:\tlearn: 1.0133262\ttotal: 1.54s\tremaining: 6.01s\n",
      "204:\tlearn: 1.0132027\ttotal: 1.55s\tremaining: 6s\n",
      "205:\tlearn: 1.0131376\ttotal: 1.55s\tremaining: 5.99s\n",
      "206:\tlearn: 1.0130112\ttotal: 1.56s\tremaining: 5.98s\n",
      "207:\tlearn: 1.0128963\ttotal: 1.57s\tremaining: 5.97s\n",
      "208:\tlearn: 1.0127763\ttotal: 1.58s\tremaining: 5.96s\n",
      "209:\tlearn: 1.0126356\ttotal: 1.58s\tremaining: 5.96s\n",
      "210:\tlearn: 1.0125186\ttotal: 1.59s\tremaining: 5.95s\n",
      "211:\tlearn: 1.0123753\ttotal: 1.6s\tremaining: 5.94s\n",
      "212:\tlearn: 1.0122276\ttotal: 1.61s\tremaining: 5.94s\n",
      "213:\tlearn: 1.0121320\ttotal: 1.61s\tremaining: 5.93s\n",
      "214:\tlearn: 1.0119761\ttotal: 1.62s\tremaining: 5.93s\n",
      "215:\tlearn: 1.0118485\ttotal: 1.63s\tremaining: 5.92s\n",
      "216:\tlearn: 1.0117195\ttotal: 1.64s\tremaining: 5.91s\n",
      "217:\tlearn: 1.0116120\ttotal: 1.65s\tremaining: 5.9s\n",
      "218:\tlearn: 1.0115221\ttotal: 1.65s\tremaining: 5.89s\n",
      "219:\tlearn: 1.0114329\ttotal: 1.66s\tremaining: 5.89s\n",
      "220:\tlearn: 1.0112839\ttotal: 1.67s\tremaining: 5.88s\n",
      "221:\tlearn: 1.0110730\ttotal: 1.68s\tremaining: 5.87s\n",
      "222:\tlearn: 1.0108905\ttotal: 1.68s\tremaining: 5.87s\n",
      "223:\tlearn: 1.0107972\ttotal: 1.69s\tremaining: 5.86s\n",
      "224:\tlearn: 1.0107088\ttotal: 1.7s\tremaining: 5.85s\n",
      "225:\tlearn: 1.0105780\ttotal: 1.7s\tremaining: 5.84s\n",
      "226:\tlearn: 1.0104489\ttotal: 1.71s\tremaining: 5.83s\n",
      "227:\tlearn: 1.0103444\ttotal: 1.72s\tremaining: 5.82s\n",
      "228:\tlearn: 1.0101765\ttotal: 1.73s\tremaining: 5.81s\n",
      "229:\tlearn: 1.0100533\ttotal: 1.73s\tremaining: 5.8s\n",
      "230:\tlearn: 1.0099593\ttotal: 1.74s\tremaining: 5.8s\n",
      "231:\tlearn: 1.0098514\ttotal: 1.75s\tremaining: 5.79s\n",
      "232:\tlearn: 1.0096976\ttotal: 1.75s\tremaining: 5.78s\n",
      "233:\tlearn: 1.0095639\ttotal: 1.76s\tremaining: 5.77s\n",
      "234:\tlearn: 1.0094539\ttotal: 1.77s\tremaining: 5.76s\n",
      "235:\tlearn: 1.0093147\ttotal: 1.78s\tremaining: 5.76s\n",
      "236:\tlearn: 1.0092109\ttotal: 1.78s\tremaining: 5.75s\n",
      "237:\tlearn: 1.0090550\ttotal: 1.79s\tremaining: 5.74s\n",
      "238:\tlearn: 1.0089531\ttotal: 1.8s\tremaining: 5.72s\n",
      "239:\tlearn: 1.0088403\ttotal: 1.8s\tremaining: 5.72s\n",
      "240:\tlearn: 1.0087345\ttotal: 1.81s\tremaining: 5.71s\n",
      "241:\tlearn: 1.0085806\ttotal: 1.82s\tremaining: 5.7s\n",
      "242:\tlearn: 1.0084416\ttotal: 1.83s\tremaining: 5.69s\n",
      "243:\tlearn: 1.0083081\ttotal: 1.83s\tremaining: 5.68s\n",
      "244:\tlearn: 1.0081622\ttotal: 1.84s\tremaining: 5.67s\n",
      "245:\tlearn: 1.0080598\ttotal: 1.85s\tremaining: 5.66s\n",
      "246:\tlearn: 1.0079672\ttotal: 1.85s\tremaining: 5.65s\n",
      "247:\tlearn: 1.0078507\ttotal: 1.86s\tremaining: 5.64s\n",
      "248:\tlearn: 1.0077450\ttotal: 1.87s\tremaining: 5.63s\n",
      "249:\tlearn: 1.0076024\ttotal: 1.88s\tremaining: 5.63s\n",
      "250:\tlearn: 1.0074894\ttotal: 1.88s\tremaining: 5.62s\n",
      "251:\tlearn: 1.0074176\ttotal: 1.89s\tremaining: 5.61s\n",
      "252:\tlearn: 1.0072910\ttotal: 1.9s\tremaining: 5.6s\n",
      "253:\tlearn: 1.0071931\ttotal: 1.9s\tremaining: 5.59s\n",
      "254:\tlearn: 1.0070601\ttotal: 1.91s\tremaining: 5.58s\n",
      "255:\tlearn: 1.0069289\ttotal: 1.92s\tremaining: 5.58s\n",
      "256:\tlearn: 1.0068205\ttotal: 1.93s\tremaining: 5.57s\n",
      "257:\tlearn: 1.0066996\ttotal: 1.93s\tremaining: 5.56s\n",
      "258:\tlearn: 1.0065757\ttotal: 1.94s\tremaining: 5.56s\n",
      "259:\tlearn: 1.0064797\ttotal: 1.95s\tremaining: 5.55s\n",
      "260:\tlearn: 1.0063446\ttotal: 1.96s\tremaining: 5.54s\n",
      "261:\tlearn: 1.0062103\ttotal: 1.96s\tremaining: 5.53s\n",
      "262:\tlearn: 1.0060988\ttotal: 1.97s\tremaining: 5.52s\n",
      "263:\tlearn: 1.0059599\ttotal: 1.98s\tremaining: 5.51s\n",
      "264:\tlearn: 1.0058362\ttotal: 1.99s\tremaining: 5.5s\n",
      "265:\tlearn: 1.0057666\ttotal: 1.99s\tremaining: 5.5s\n",
      "266:\tlearn: 1.0056824\ttotal: 2s\tremaining: 5.49s\n",
      "267:\tlearn: 1.0055737\ttotal: 2.01s\tremaining: 5.48s\n",
      "268:\tlearn: 1.0054697\ttotal: 2.01s\tremaining: 5.47s\n",
      "269:\tlearn: 1.0054166\ttotal: 2.02s\tremaining: 5.46s\n",
      "270:\tlearn: 1.0053097\ttotal: 2.03s\tremaining: 5.46s\n",
      "271:\tlearn: 1.0051521\ttotal: 2.04s\tremaining: 5.45s\n",
      "272:\tlearn: 1.0050407\ttotal: 2.04s\tremaining: 5.44s\n",
      "273:\tlearn: 1.0049734\ttotal: 2.05s\tremaining: 5.43s\n",
      "274:\tlearn: 1.0048516\ttotal: 2.06s\tremaining: 5.43s\n",
      "275:\tlearn: 1.0047466\ttotal: 2.07s\tremaining: 5.42s\n",
      "276:\tlearn: 1.0045849\ttotal: 2.07s\tremaining: 5.41s\n",
      "277:\tlearn: 1.0044988\ttotal: 2.08s\tremaining: 5.41s\n",
      "278:\tlearn: 1.0043663\ttotal: 2.09s\tremaining: 5.4s\n",
      "279:\tlearn: 1.0042846\ttotal: 2.1s\tremaining: 5.39s\n",
      "280:\tlearn: 1.0042311\ttotal: 2.1s\tremaining: 5.38s\n",
      "281:\tlearn: 1.0041257\ttotal: 2.11s\tremaining: 5.37s\n",
      "282:\tlearn: 1.0040577\ttotal: 2.12s\tremaining: 5.36s\n",
      "283:\tlearn: 1.0039673\ttotal: 2.12s\tremaining: 5.35s\n",
      "284:\tlearn: 1.0038864\ttotal: 2.13s\tremaining: 5.34s\n",
      "285:\tlearn: 1.0037397\ttotal: 2.14s\tremaining: 5.34s\n",
      "286:\tlearn: 1.0035848\ttotal: 2.15s\tremaining: 5.33s\n",
      "287:\tlearn: 1.0034714\ttotal: 2.15s\tremaining: 5.32s\n",
      "288:\tlearn: 1.0033602\ttotal: 2.16s\tremaining: 5.31s\n",
      "289:\tlearn: 1.0031993\ttotal: 2.17s\tremaining: 5.31s\n",
      "290:\tlearn: 1.0031029\ttotal: 2.17s\tremaining: 5.3s\n",
      "291:\tlearn: 1.0030177\ttotal: 2.18s\tremaining: 5.29s\n",
      "292:\tlearn: 1.0029417\ttotal: 2.19s\tremaining: 5.28s\n",
      "293:\tlearn: 1.0028599\ttotal: 2.19s\tremaining: 5.27s\n",
      "294:\tlearn: 1.0027373\ttotal: 2.2s\tremaining: 5.26s\n",
      "295:\tlearn: 1.0026146\ttotal: 2.21s\tremaining: 5.25s\n",
      "296:\tlearn: 1.0024994\ttotal: 2.21s\tremaining: 5.24s\n",
      "297:\tlearn: 1.0024068\ttotal: 2.22s\tremaining: 5.24s\n",
      "298:\tlearn: 1.0023226\ttotal: 2.23s\tremaining: 5.23s\n",
      "299:\tlearn: 1.0022302\ttotal: 2.24s\tremaining: 5.22s\n",
      "300:\tlearn: 1.0021430\ttotal: 2.24s\tremaining: 5.21s\n",
      "301:\tlearn: 1.0020845\ttotal: 2.25s\tremaining: 5.21s\n",
      "302:\tlearn: 1.0019443\ttotal: 2.26s\tremaining: 5.2s\n",
      "303:\tlearn: 1.0018502\ttotal: 2.27s\tremaining: 5.19s\n",
      "304:\tlearn: 1.0017592\ttotal: 2.28s\tremaining: 5.19s\n",
      "305:\tlearn: 1.0016572\ttotal: 2.28s\tremaining: 5.18s\n",
      "306:\tlearn: 1.0015579\ttotal: 2.29s\tremaining: 5.17s\n",
      "307:\tlearn: 1.0014632\ttotal: 2.3s\tremaining: 5.17s\n",
      "308:\tlearn: 1.0013686\ttotal: 2.31s\tremaining: 5.16s\n",
      "309:\tlearn: 1.0012444\ttotal: 2.31s\tremaining: 5.15s\n",
      "310:\tlearn: 1.0011594\ttotal: 2.32s\tremaining: 5.14s\n",
      "311:\tlearn: 1.0010576\ttotal: 2.33s\tremaining: 5.13s\n",
      "312:\tlearn: 1.0009836\ttotal: 2.33s\tremaining: 5.12s\n",
      "313:\tlearn: 1.0008921\ttotal: 2.34s\tremaining: 5.11s\n",
      "314:\tlearn: 1.0007954\ttotal: 2.35s\tremaining: 5.1s\n",
      "315:\tlearn: 1.0007088\ttotal: 2.35s\tremaining: 5.09s\n",
      "316:\tlearn: 1.0006211\ttotal: 2.36s\tremaining: 5.08s\n",
      "317:\tlearn: 1.0005149\ttotal: 2.37s\tremaining: 5.08s\n",
      "318:\tlearn: 1.0003584\ttotal: 2.38s\tremaining: 5.07s\n",
      "319:\tlearn: 1.0002745\ttotal: 2.38s\tremaining: 5.06s\n",
      "320:\tlearn: 1.0001897\ttotal: 2.39s\tremaining: 5.06s\n",
      "321:\tlearn: 1.0000615\ttotal: 2.4s\tremaining: 5.05s\n",
      "322:\tlearn: 0.9999747\ttotal: 2.4s\tremaining: 5.04s\n",
      "323:\tlearn: 0.9998802\ttotal: 2.41s\tremaining: 5.03s\n",
      "324:\tlearn: 0.9997882\ttotal: 2.42s\tremaining: 5.03s\n",
      "325:\tlearn: 0.9996589\ttotal: 2.43s\tremaining: 5.02s\n",
      "326:\tlearn: 0.9995644\ttotal: 2.43s\tremaining: 5.01s\n",
      "327:\tlearn: 0.9994776\ttotal: 2.44s\tremaining: 5s\n",
      "328:\tlearn: 0.9993806\ttotal: 2.45s\tremaining: 5s\n",
      "329:\tlearn: 0.9993135\ttotal: 2.46s\tremaining: 4.99s\n",
      "330:\tlearn: 0.9992206\ttotal: 2.46s\tremaining: 4.98s\n",
      "331:\tlearn: 0.9991272\ttotal: 2.47s\tremaining: 4.97s\n",
      "332:\tlearn: 0.9990078\ttotal: 2.48s\tremaining: 4.96s\n",
      "333:\tlearn: 0.9988870\ttotal: 2.48s\tremaining: 4.96s\n",
      "334:\tlearn: 0.9987844\ttotal: 2.49s\tremaining: 4.95s\n",
      "335:\tlearn: 0.9986939\ttotal: 2.5s\tremaining: 4.94s\n",
      "336:\tlearn: 0.9986460\ttotal: 2.51s\tremaining: 4.93s\n",
      "337:\tlearn: 0.9985907\ttotal: 2.51s\tremaining: 4.92s\n",
      "338:\tlearn: 0.9984761\ttotal: 2.52s\tremaining: 4.91s\n",
      "339:\tlearn: 0.9983518\ttotal: 2.53s\tremaining: 4.9s\n",
      "340:\tlearn: 0.9982444\ttotal: 2.53s\tremaining: 4.9s\n",
      "341:\tlearn: 0.9981167\ttotal: 2.54s\tremaining: 4.89s\n",
      "342:\tlearn: 0.9980452\ttotal: 2.55s\tremaining: 4.88s\n",
      "343:\tlearn: 0.9979542\ttotal: 2.56s\tremaining: 4.87s\n",
      "344:\tlearn: 0.9978303\ttotal: 2.56s\tremaining: 4.87s\n",
      "345:\tlearn: 0.9977718\ttotal: 2.57s\tremaining: 4.86s\n",
      "346:\tlearn: 0.9976300\ttotal: 2.58s\tremaining: 4.85s\n",
      "347:\tlearn: 0.9974910\ttotal: 2.58s\tremaining: 4.84s\n",
      "348:\tlearn: 0.9973858\ttotal: 2.59s\tremaining: 4.83s\n",
      "349:\tlearn: 0.9972498\ttotal: 2.6s\tremaining: 4.83s\n",
      "350:\tlearn: 0.9971585\ttotal: 2.6s\tremaining: 4.82s\n",
      "351:\tlearn: 0.9970383\ttotal: 2.61s\tremaining: 4.81s\n",
      "352:\tlearn: 0.9969613\ttotal: 2.62s\tremaining: 4.8s\n",
      "353:\tlearn: 0.9968228\ttotal: 2.63s\tremaining: 4.79s\n",
      "354:\tlearn: 0.9967445\ttotal: 2.63s\tremaining: 4.78s\n",
      "355:\tlearn: 0.9966227\ttotal: 2.64s\tremaining: 4.78s\n",
      "356:\tlearn: 0.9965326\ttotal: 2.65s\tremaining: 4.77s\n",
      "357:\tlearn: 0.9964332\ttotal: 2.65s\tremaining: 4.76s\n",
      "358:\tlearn: 0.9963512\ttotal: 2.66s\tremaining: 4.75s\n",
      "359:\tlearn: 0.9962277\ttotal: 2.67s\tremaining: 4.75s\n",
      "360:\tlearn: 0.9961568\ttotal: 2.68s\tremaining: 4.74s\n",
      "361:\tlearn: 0.9960483\ttotal: 2.68s\tremaining: 4.73s\n",
      "362:\tlearn: 0.9959809\ttotal: 2.69s\tremaining: 4.72s\n",
      "363:\tlearn: 0.9958509\ttotal: 2.7s\tremaining: 4.71s\n",
      "364:\tlearn: 0.9957563\ttotal: 2.71s\tremaining: 4.71s\n",
      "365:\tlearn: 0.9957033\ttotal: 2.71s\tremaining: 4.7s\n",
      "366:\tlearn: 0.9956534\ttotal: 2.72s\tremaining: 4.69s\n",
      "367:\tlearn: 0.9955846\ttotal: 2.73s\tremaining: 4.68s\n",
      "368:\tlearn: 0.9955217\ttotal: 2.73s\tremaining: 4.67s\n",
      "369:\tlearn: 0.9954146\ttotal: 2.74s\tremaining: 4.66s\n",
      "370:\tlearn: 0.9953196\ttotal: 2.75s\tremaining: 4.66s\n",
      "371:\tlearn: 0.9952106\ttotal: 2.75s\tremaining: 4.65s\n",
      "372:\tlearn: 0.9950751\ttotal: 2.76s\tremaining: 4.64s\n",
      "373:\tlearn: 0.9949919\ttotal: 2.77s\tremaining: 4.63s\n",
      "374:\tlearn: 0.9948551\ttotal: 2.77s\tremaining: 4.63s\n",
      "375:\tlearn: 0.9947656\ttotal: 2.78s\tremaining: 4.62s\n",
      "376:\tlearn: 0.9946584\ttotal: 2.79s\tremaining: 4.61s\n",
      "377:\tlearn: 0.9945820\ttotal: 2.8s\tremaining: 4.6s\n",
      "378:\tlearn: 0.9945089\ttotal: 2.8s\tremaining: 4.59s\n",
      "379:\tlearn: 0.9943823\ttotal: 2.81s\tremaining: 4.59s\n",
      "380:\tlearn: 0.9943297\ttotal: 2.82s\tremaining: 4.58s\n",
      "381:\tlearn: 0.9941514\ttotal: 2.83s\tremaining: 4.57s\n",
      "382:\tlearn: 0.9940124\ttotal: 2.83s\tremaining: 4.57s\n",
      "383:\tlearn: 0.9938732\ttotal: 2.84s\tremaining: 4.56s\n",
      "384:\tlearn: 0.9937955\ttotal: 2.85s\tremaining: 4.55s\n",
      "385:\tlearn: 0.9937114\ttotal: 2.85s\tremaining: 4.54s\n",
      "386:\tlearn: 0.9935783\ttotal: 2.86s\tremaining: 4.54s\n",
      "387:\tlearn: 0.9935312\ttotal: 2.87s\tremaining: 4.53s\n",
      "388:\tlearn: 0.9934690\ttotal: 2.88s\tremaining: 4.52s\n",
      "389:\tlearn: 0.9933944\ttotal: 2.88s\tremaining: 4.51s\n",
      "390:\tlearn: 0.9933297\ttotal: 2.89s\tremaining: 4.5s\n",
      "391:\tlearn: 0.9931971\ttotal: 2.9s\tremaining: 4.49s\n",
      "392:\tlearn: 0.9931264\ttotal: 2.9s\tremaining: 4.49s\n",
      "393:\tlearn: 0.9930198\ttotal: 2.91s\tremaining: 4.48s\n",
      "394:\tlearn: 0.9928966\ttotal: 2.92s\tremaining: 4.47s\n",
      "395:\tlearn: 0.9927748\ttotal: 2.93s\tremaining: 4.46s\n",
      "396:\tlearn: 0.9926487\ttotal: 2.93s\tremaining: 4.46s\n",
      "397:\tlearn: 0.9925250\ttotal: 2.94s\tremaining: 4.45s\n",
      "398:\tlearn: 0.9924194\ttotal: 2.95s\tremaining: 4.44s\n",
      "399:\tlearn: 0.9922619\ttotal: 2.96s\tremaining: 4.43s\n",
      "400:\tlearn: 0.9922055\ttotal: 2.96s\tremaining: 4.42s\n",
      "401:\tlearn: 0.9921150\ttotal: 2.97s\tremaining: 4.42s\n",
      "402:\tlearn: 0.9920259\ttotal: 2.98s\tremaining: 4.41s\n",
      "403:\tlearn: 0.9919507\ttotal: 2.98s\tremaining: 4.4s\n",
      "404:\tlearn: 0.9918423\ttotal: 2.99s\tremaining: 4.4s\n",
      "405:\tlearn: 0.9917355\ttotal: 3s\tremaining: 4.39s\n",
      "406:\tlearn: 0.9916174\ttotal: 3.01s\tremaining: 4.38s\n",
      "407:\tlearn: 0.9915256\ttotal: 3.02s\tremaining: 4.38s\n",
      "408:\tlearn: 0.9914019\ttotal: 3.02s\tremaining: 4.37s\n",
      "409:\tlearn: 0.9913322\ttotal: 3.03s\tremaining: 4.36s\n",
      "410:\tlearn: 0.9912548\ttotal: 3.04s\tremaining: 4.35s\n",
      "411:\tlearn: 0.9911418\ttotal: 3.05s\tremaining: 4.35s\n",
      "412:\tlearn: 0.9910668\ttotal: 3.05s\tremaining: 4.34s\n",
      "413:\tlearn: 0.9909881\ttotal: 3.06s\tremaining: 4.33s\n",
      "414:\tlearn: 0.9908361\ttotal: 3.07s\tremaining: 4.33s\n",
      "415:\tlearn: 0.9907737\ttotal: 3.08s\tremaining: 4.32s\n",
      "416:\tlearn: 0.9906885\ttotal: 3.08s\tremaining: 4.31s\n",
      "417:\tlearn: 0.9905491\ttotal: 3.09s\tremaining: 4.31s\n",
      "418:\tlearn: 0.9904448\ttotal: 3.1s\tremaining: 4.3s\n",
      "419:\tlearn: 0.9903499\ttotal: 3.11s\tremaining: 4.29s\n",
      "420:\tlearn: 0.9902662\ttotal: 3.12s\tremaining: 4.28s\n",
      "421:\tlearn: 0.9901739\ttotal: 3.12s\tremaining: 4.28s\n",
      "422:\tlearn: 0.9900446\ttotal: 3.13s\tremaining: 4.27s\n",
      "423:\tlearn: 0.9899799\ttotal: 3.14s\tremaining: 4.26s\n",
      "424:\tlearn: 0.9898958\ttotal: 3.15s\tremaining: 4.26s\n",
      "425:\tlearn: 0.9897842\ttotal: 3.15s\tremaining: 4.25s\n",
      "426:\tlearn: 0.9896713\ttotal: 3.16s\tremaining: 4.24s\n",
      "427:\tlearn: 0.9895791\ttotal: 3.17s\tremaining: 4.24s\n",
      "428:\tlearn: 0.9894046\ttotal: 3.18s\tremaining: 4.23s\n",
      "429:\tlearn: 0.9893335\ttotal: 3.18s\tremaining: 4.22s\n",
      "430:\tlearn: 0.9892573\ttotal: 3.19s\tremaining: 4.21s\n",
      "431:\tlearn: 0.9892118\ttotal: 3.2s\tremaining: 4.2s\n",
      "432:\tlearn: 0.9891152\ttotal: 3.21s\tremaining: 4.2s\n",
      "433:\tlearn: 0.9890298\ttotal: 3.21s\tremaining: 4.19s\n",
      "434:\tlearn: 0.9889790\ttotal: 3.22s\tremaining: 4.18s\n",
      "435:\tlearn: 0.9888886\ttotal: 3.22s\tremaining: 4.17s\n",
      "436:\tlearn: 0.9887740\ttotal: 3.23s\tremaining: 4.16s\n",
      "437:\tlearn: 0.9886442\ttotal: 3.24s\tremaining: 4.16s\n",
      "438:\tlearn: 0.9885435\ttotal: 3.25s\tremaining: 4.15s\n",
      "439:\tlearn: 0.9884262\ttotal: 3.26s\tremaining: 4.14s\n",
      "440:\tlearn: 0.9883229\ttotal: 3.26s\tremaining: 4.13s\n",
      "441:\tlearn: 0.9882148\ttotal: 3.27s\tremaining: 4.13s\n",
      "442:\tlearn: 0.9880910\ttotal: 3.28s\tremaining: 4.12s\n",
      "443:\tlearn: 0.9879882\ttotal: 3.29s\tremaining: 4.12s\n",
      "444:\tlearn: 0.9878637\ttotal: 3.29s\tremaining: 4.11s\n",
      "445:\tlearn: 0.9878158\ttotal: 3.3s\tremaining: 4.1s\n",
      "446:\tlearn: 0.9877546\ttotal: 3.31s\tremaining: 4.09s\n",
      "447:\tlearn: 0.9876579\ttotal: 3.31s\tremaining: 4.08s\n",
      "448:\tlearn: 0.9875601\ttotal: 3.32s\tremaining: 4.08s\n",
      "449:\tlearn: 0.9874496\ttotal: 3.33s\tremaining: 4.07s\n",
      "450:\tlearn: 0.9873909\ttotal: 3.34s\tremaining: 4.06s\n",
      "451:\tlearn: 0.9873222\ttotal: 3.34s\tremaining: 4.05s\n",
      "452:\tlearn: 0.9872437\ttotal: 3.35s\tremaining: 4.04s\n",
      "453:\tlearn: 0.9871708\ttotal: 3.36s\tremaining: 4.04s\n",
      "454:\tlearn: 0.9871097\ttotal: 3.37s\tremaining: 4.03s\n",
      "455:\tlearn: 0.9870314\ttotal: 3.37s\tremaining: 4.02s\n",
      "456:\tlearn: 0.9869117\ttotal: 3.38s\tremaining: 4.02s\n",
      "457:\tlearn: 0.9868099\ttotal: 3.39s\tremaining: 4.01s\n",
      "458:\tlearn: 0.9867426\ttotal: 3.4s\tremaining: 4s\n",
      "459:\tlearn: 0.9866234\ttotal: 3.4s\tremaining: 4s\n",
      "460:\tlearn: 0.9865182\ttotal: 3.41s\tremaining: 3.99s\n",
      "461:\tlearn: 0.9864122\ttotal: 3.42s\tremaining: 3.98s\n",
      "462:\tlearn: 0.9862970\ttotal: 3.42s\tremaining: 3.97s\n",
      "463:\tlearn: 0.9862087\ttotal: 3.43s\tremaining: 3.96s\n",
      "464:\tlearn: 0.9861412\ttotal: 3.44s\tremaining: 3.96s\n",
      "465:\tlearn: 0.9860676\ttotal: 3.45s\tremaining: 3.95s\n",
      "466:\tlearn: 0.9859955\ttotal: 3.45s\tremaining: 3.94s\n",
      "467:\tlearn: 0.9858884\ttotal: 3.46s\tremaining: 3.94s\n",
      "468:\tlearn: 0.9857840\ttotal: 3.47s\tremaining: 3.93s\n",
      "469:\tlearn: 0.9857314\ttotal: 3.47s\tremaining: 3.92s\n",
      "470:\tlearn: 0.9856205\ttotal: 3.48s\tremaining: 3.91s\n",
      "471:\tlearn: 0.9855462\ttotal: 3.49s\tremaining: 3.9s\n",
      "472:\tlearn: 0.9854401\ttotal: 3.5s\tremaining: 3.9s\n",
      "473:\tlearn: 0.9853274\ttotal: 3.5s\tremaining: 3.89s\n",
      "474:\tlearn: 0.9852351\ttotal: 3.51s\tremaining: 3.88s\n",
      "475:\tlearn: 0.9851559\ttotal: 3.52s\tremaining: 3.87s\n",
      "476:\tlearn: 0.9850654\ttotal: 3.53s\tremaining: 3.87s\n",
      "477:\tlearn: 0.9849816\ttotal: 3.53s\tremaining: 3.86s\n",
      "478:\tlearn: 0.9849156\ttotal: 3.54s\tremaining: 3.85s\n",
      "479:\tlearn: 0.9848182\ttotal: 3.55s\tremaining: 3.84s\n",
      "480:\tlearn: 0.9847079\ttotal: 3.56s\tremaining: 3.84s\n",
      "481:\tlearn: 0.9846244\ttotal: 3.56s\tremaining: 3.83s\n",
      "482:\tlearn: 0.9845400\ttotal: 3.57s\tremaining: 3.82s\n",
      "483:\tlearn: 0.9844391\ttotal: 3.58s\tremaining: 3.81s\n",
      "484:\tlearn: 0.9843346\ttotal: 3.58s\tremaining: 3.81s\n",
      "485:\tlearn: 0.9842673\ttotal: 3.59s\tremaining: 3.8s\n",
      "486:\tlearn: 0.9841912\ttotal: 3.6s\tremaining: 3.79s\n",
      "487:\tlearn: 0.9841340\ttotal: 3.61s\tremaining: 3.78s\n",
      "488:\tlearn: 0.9840339\ttotal: 3.61s\tremaining: 3.77s\n",
      "489:\tlearn: 0.9839338\ttotal: 3.62s\tremaining: 3.77s\n",
      "490:\tlearn: 0.9838442\ttotal: 3.63s\tremaining: 3.76s\n",
      "491:\tlearn: 0.9837890\ttotal: 3.63s\tremaining: 3.75s\n",
      "492:\tlearn: 0.9836441\ttotal: 3.64s\tremaining: 3.75s\n",
      "493:\tlearn: 0.9835781\ttotal: 3.65s\tremaining: 3.74s\n",
      "494:\tlearn: 0.9834715\ttotal: 3.66s\tremaining: 3.73s\n",
      "495:\tlearn: 0.9833871\ttotal: 3.67s\tremaining: 3.73s\n",
      "496:\tlearn: 0.9833162\ttotal: 3.67s\tremaining: 3.72s\n",
      "497:\tlearn: 0.9832465\ttotal: 3.68s\tremaining: 3.71s\n",
      "498:\tlearn: 0.9831268\ttotal: 3.69s\tremaining: 3.7s\n",
      "499:\tlearn: 0.9830229\ttotal: 3.7s\tremaining: 3.7s\n",
      "500:\tlearn: 0.9829604\ttotal: 3.7s\tremaining: 3.69s\n",
      "501:\tlearn: 0.9829132\ttotal: 3.71s\tremaining: 3.68s\n",
      "502:\tlearn: 0.9828445\ttotal: 3.72s\tremaining: 3.67s\n",
      "503:\tlearn: 0.9827205\ttotal: 3.72s\tremaining: 3.67s\n",
      "504:\tlearn: 0.9826086\ttotal: 3.73s\tremaining: 3.66s\n",
      "505:\tlearn: 0.9825359\ttotal: 3.74s\tremaining: 3.65s\n",
      "506:\tlearn: 0.9824530\ttotal: 3.75s\tremaining: 3.64s\n",
      "507:\tlearn: 0.9823618\ttotal: 3.75s\tremaining: 3.63s\n",
      "508:\tlearn: 0.9822967\ttotal: 3.76s\tremaining: 3.63s\n",
      "509:\tlearn: 0.9822278\ttotal: 3.77s\tremaining: 3.62s\n",
      "510:\tlearn: 0.9821361\ttotal: 3.77s\tremaining: 3.61s\n",
      "511:\tlearn: 0.9820021\ttotal: 3.78s\tremaining: 3.6s\n",
      "512:\tlearn: 0.9819519\ttotal: 3.79s\tremaining: 3.6s\n",
      "513:\tlearn: 0.9818765\ttotal: 3.79s\tremaining: 3.59s\n",
      "514:\tlearn: 0.9818159\ttotal: 3.8s\tremaining: 3.58s\n",
      "515:\tlearn: 0.9817539\ttotal: 3.81s\tremaining: 3.57s\n",
      "516:\tlearn: 0.9816073\ttotal: 3.82s\tremaining: 3.57s\n",
      "517:\tlearn: 0.9815051\ttotal: 3.83s\tremaining: 3.56s\n",
      "518:\tlearn: 0.9814067\ttotal: 3.83s\tremaining: 3.55s\n",
      "519:\tlearn: 0.9813343\ttotal: 3.84s\tremaining: 3.54s\n",
      "520:\tlearn: 0.9812633\ttotal: 3.85s\tremaining: 3.54s\n",
      "521:\tlearn: 0.9811950\ttotal: 3.85s\tremaining: 3.53s\n",
      "522:\tlearn: 0.9811038\ttotal: 3.86s\tremaining: 3.52s\n",
      "523:\tlearn: 0.9810284\ttotal: 3.87s\tremaining: 3.51s\n",
      "524:\tlearn: 0.9809408\ttotal: 3.88s\tremaining: 3.51s\n",
      "525:\tlearn: 0.9808830\ttotal: 3.88s\tremaining: 3.5s\n",
      "526:\tlearn: 0.9807616\ttotal: 3.89s\tremaining: 3.49s\n",
      "527:\tlearn: 0.9806862\ttotal: 3.9s\tremaining: 3.48s\n",
      "528:\tlearn: 0.9806481\ttotal: 3.9s\tremaining: 3.48s\n",
      "529:\tlearn: 0.9805794\ttotal: 3.91s\tremaining: 3.47s\n",
      "530:\tlearn: 0.9804753\ttotal: 3.92s\tremaining: 3.46s\n",
      "531:\tlearn: 0.9803929\ttotal: 3.93s\tremaining: 3.45s\n",
      "532:\tlearn: 0.9802867\ttotal: 3.93s\tremaining: 3.45s\n",
      "533:\tlearn: 0.9802085\ttotal: 3.94s\tremaining: 3.44s\n",
      "534:\tlearn: 0.9801125\ttotal: 3.95s\tremaining: 3.43s\n",
      "535:\tlearn: 0.9800073\ttotal: 3.96s\tremaining: 3.43s\n",
      "536:\tlearn: 0.9799105\ttotal: 3.96s\tremaining: 3.42s\n",
      "537:\tlearn: 0.9798315\ttotal: 3.97s\tremaining: 3.41s\n",
      "538:\tlearn: 0.9797546\ttotal: 3.98s\tremaining: 3.4s\n",
      "539:\tlearn: 0.9796644\ttotal: 3.99s\tremaining: 3.4s\n",
      "540:\tlearn: 0.9795356\ttotal: 4s\tremaining: 3.39s\n",
      "541:\tlearn: 0.9794412\ttotal: 4s\tremaining: 3.38s\n",
      "542:\tlearn: 0.9793630\ttotal: 4.01s\tremaining: 3.38s\n",
      "543:\tlearn: 0.9792611\ttotal: 4.02s\tremaining: 3.37s\n",
      "544:\tlearn: 0.9791806\ttotal: 4.03s\tremaining: 3.36s\n",
      "545:\tlearn: 0.9790867\ttotal: 4.03s\tremaining: 3.35s\n",
      "546:\tlearn: 0.9789633\ttotal: 4.04s\tremaining: 3.35s\n",
      "547:\tlearn: 0.9788919\ttotal: 4.05s\tremaining: 3.34s\n",
      "548:\tlearn: 0.9788308\ttotal: 4.06s\tremaining: 3.33s\n",
      "549:\tlearn: 0.9787352\ttotal: 4.07s\tremaining: 3.33s\n",
      "550:\tlearn: 0.9786705\ttotal: 4.07s\tremaining: 3.32s\n",
      "551:\tlearn: 0.9785850\ttotal: 4.08s\tremaining: 3.31s\n",
      "552:\tlearn: 0.9785219\ttotal: 4.09s\tremaining: 3.3s\n",
      "553:\tlearn: 0.9784252\ttotal: 4.09s\tremaining: 3.3s\n",
      "554:\tlearn: 0.9783344\ttotal: 4.1s\tremaining: 3.29s\n",
      "555:\tlearn: 0.9782518\ttotal: 4.11s\tremaining: 3.28s\n",
      "556:\tlearn: 0.9782005\ttotal: 4.12s\tremaining: 3.27s\n",
      "557:\tlearn: 0.9781152\ttotal: 4.12s\tremaining: 3.27s\n",
      "558:\tlearn: 0.9779799\ttotal: 4.13s\tremaining: 3.26s\n",
      "559:\tlearn: 0.9779165\ttotal: 4.14s\tremaining: 3.25s\n",
      "560:\tlearn: 0.9778464\ttotal: 4.14s\tremaining: 3.24s\n",
      "561:\tlearn: 0.9777657\ttotal: 4.15s\tremaining: 3.23s\n",
      "562:\tlearn: 0.9777082\ttotal: 4.16s\tremaining: 3.23s\n",
      "563:\tlearn: 0.9776266\ttotal: 4.17s\tremaining: 3.22s\n",
      "564:\tlearn: 0.9775557\ttotal: 4.18s\tremaining: 3.21s\n",
      "565:\tlearn: 0.9774733\ttotal: 4.18s\tremaining: 3.21s\n",
      "566:\tlearn: 0.9773843\ttotal: 4.19s\tremaining: 3.2s\n",
      "567:\tlearn: 0.9772511\ttotal: 4.2s\tremaining: 3.19s\n",
      "568:\tlearn: 0.9771812\ttotal: 4.21s\tremaining: 3.19s\n",
      "569:\tlearn: 0.9770669\ttotal: 4.22s\tremaining: 3.18s\n",
      "570:\tlearn: 0.9770012\ttotal: 4.23s\tremaining: 3.18s\n",
      "571:\tlearn: 0.9769141\ttotal: 4.24s\tremaining: 3.17s\n",
      "572:\tlearn: 0.9768422\ttotal: 4.24s\tremaining: 3.16s\n",
      "573:\tlearn: 0.9767431\ttotal: 4.25s\tremaining: 3.15s\n",
      "574:\tlearn: 0.9766951\ttotal: 4.26s\tremaining: 3.15s\n",
      "575:\tlearn: 0.9766400\ttotal: 4.26s\tremaining: 3.14s\n",
      "576:\tlearn: 0.9765410\ttotal: 4.27s\tremaining: 3.13s\n",
      "577:\tlearn: 0.9764305\ttotal: 4.28s\tremaining: 3.13s\n",
      "578:\tlearn: 0.9763359\ttotal: 4.29s\tremaining: 3.12s\n",
      "579:\tlearn: 0.9762745\ttotal: 4.29s\tremaining: 3.11s\n",
      "580:\tlearn: 0.9761661\ttotal: 4.3s\tremaining: 3.1s\n",
      "581:\tlearn: 0.9760965\ttotal: 4.31s\tremaining: 3.1s\n",
      "582:\tlearn: 0.9760245\ttotal: 4.32s\tremaining: 3.09s\n",
      "583:\tlearn: 0.9759586\ttotal: 4.32s\tremaining: 3.08s\n",
      "584:\tlearn: 0.9758322\ttotal: 4.33s\tremaining: 3.07s\n",
      "585:\tlearn: 0.9757661\ttotal: 4.34s\tremaining: 3.06s\n",
      "586:\tlearn: 0.9756861\ttotal: 4.35s\tremaining: 3.06s\n",
      "587:\tlearn: 0.9756018\ttotal: 4.35s\tremaining: 3.05s\n",
      "588:\tlearn: 0.9755355\ttotal: 4.36s\tremaining: 3.04s\n",
      "589:\tlearn: 0.9754447\ttotal: 4.37s\tremaining: 3.03s\n",
      "590:\tlearn: 0.9753476\ttotal: 4.37s\tremaining: 3.03s\n",
      "591:\tlearn: 0.9752452\ttotal: 4.38s\tremaining: 3.02s\n",
      "592:\tlearn: 0.9751245\ttotal: 4.39s\tremaining: 3.01s\n",
      "593:\tlearn: 0.9750201\ttotal: 4.4s\tremaining: 3s\n",
      "594:\tlearn: 0.9749209\ttotal: 4.4s\tremaining: 3s\n",
      "595:\tlearn: 0.9748101\ttotal: 4.41s\tremaining: 2.99s\n",
      "596:\tlearn: 0.9747058\ttotal: 4.42s\tremaining: 2.98s\n",
      "597:\tlearn: 0.9746002\ttotal: 4.43s\tremaining: 2.98s\n",
      "598:\tlearn: 0.9745379\ttotal: 4.43s\tremaining: 2.97s\n",
      "599:\tlearn: 0.9744428\ttotal: 4.44s\tremaining: 2.96s\n",
      "600:\tlearn: 0.9743754\ttotal: 4.45s\tremaining: 2.95s\n",
      "601:\tlearn: 0.9743303\ttotal: 4.46s\tremaining: 2.94s\n",
      "602:\tlearn: 0.9742600\ttotal: 4.46s\tremaining: 2.94s\n",
      "603:\tlearn: 0.9741735\ttotal: 4.47s\tremaining: 2.93s\n",
      "604:\tlearn: 0.9741019\ttotal: 4.48s\tremaining: 2.92s\n",
      "605:\tlearn: 0.9740033\ttotal: 4.48s\tremaining: 2.92s\n",
      "606:\tlearn: 0.9739162\ttotal: 4.49s\tremaining: 2.91s\n",
      "607:\tlearn: 0.9738587\ttotal: 4.5s\tremaining: 2.9s\n",
      "608:\tlearn: 0.9737796\ttotal: 4.5s\tremaining: 2.89s\n",
      "609:\tlearn: 0.9736772\ttotal: 4.51s\tremaining: 2.88s\n",
      "610:\tlearn: 0.9735608\ttotal: 4.52s\tremaining: 2.88s\n",
      "611:\tlearn: 0.9734873\ttotal: 4.53s\tremaining: 2.87s\n",
      "612:\tlearn: 0.9734147\ttotal: 4.54s\tremaining: 2.86s\n",
      "613:\tlearn: 0.9733299\ttotal: 4.54s\tremaining: 2.85s\n",
      "614:\tlearn: 0.9732795\ttotal: 4.55s\tremaining: 2.85s\n",
      "615:\tlearn: 0.9731865\ttotal: 4.55s\tremaining: 2.84s\n",
      "616:\tlearn: 0.9730953\ttotal: 4.56s\tremaining: 2.83s\n",
      "617:\tlearn: 0.9729795\ttotal: 4.57s\tremaining: 2.83s\n",
      "618:\tlearn: 0.9728795\ttotal: 4.58s\tremaining: 2.82s\n",
      "619:\tlearn: 0.9727897\ttotal: 4.58s\tremaining: 2.81s\n",
      "620:\tlearn: 0.9726951\ttotal: 4.59s\tremaining: 2.8s\n",
      "621:\tlearn: 0.9726323\ttotal: 4.6s\tremaining: 2.79s\n",
      "622:\tlearn: 0.9725948\ttotal: 4.61s\tremaining: 2.79s\n",
      "623:\tlearn: 0.9725264\ttotal: 4.61s\tremaining: 2.78s\n",
      "624:\tlearn: 0.9724531\ttotal: 4.62s\tremaining: 2.77s\n",
      "625:\tlearn: 0.9723614\ttotal: 4.63s\tremaining: 2.76s\n",
      "626:\tlearn: 0.9722758\ttotal: 4.63s\tremaining: 2.76s\n",
      "627:\tlearn: 0.9721970\ttotal: 4.64s\tremaining: 2.75s\n",
      "628:\tlearn: 0.9721575\ttotal: 4.65s\tremaining: 2.74s\n",
      "629:\tlearn: 0.9720510\ttotal: 4.66s\tremaining: 2.73s\n",
      "630:\tlearn: 0.9719602\ttotal: 4.66s\tremaining: 2.73s\n",
      "631:\tlearn: 0.9718375\ttotal: 4.67s\tremaining: 2.72s\n",
      "632:\tlearn: 0.9717515\ttotal: 4.68s\tremaining: 2.71s\n",
      "633:\tlearn: 0.9716415\ttotal: 4.69s\tremaining: 2.71s\n",
      "634:\tlearn: 0.9715593\ttotal: 4.7s\tremaining: 2.7s\n",
      "635:\tlearn: 0.9714810\ttotal: 4.7s\tremaining: 2.69s\n",
      "636:\tlearn: 0.9714014\ttotal: 4.71s\tremaining: 2.68s\n",
      "637:\tlearn: 0.9713215\ttotal: 4.72s\tremaining: 2.68s\n",
      "638:\tlearn: 0.9712726\ttotal: 4.72s\tremaining: 2.67s\n",
      "639:\tlearn: 0.9712110\ttotal: 4.73s\tremaining: 2.66s\n",
      "640:\tlearn: 0.9711237\ttotal: 4.74s\tremaining: 2.65s\n",
      "641:\tlearn: 0.9710575\ttotal: 4.75s\tremaining: 2.65s\n",
      "642:\tlearn: 0.9709966\ttotal: 4.75s\tremaining: 2.64s\n",
      "643:\tlearn: 0.9709242\ttotal: 4.76s\tremaining: 2.63s\n",
      "644:\tlearn: 0.9708578\ttotal: 4.77s\tremaining: 2.63s\n",
      "645:\tlearn: 0.9708101\ttotal: 4.78s\tremaining: 2.62s\n",
      "646:\tlearn: 0.9707439\ttotal: 4.79s\tremaining: 2.61s\n",
      "647:\tlearn: 0.9706541\ttotal: 4.79s\tremaining: 2.6s\n",
      "648:\tlearn: 0.9705697\ttotal: 4.8s\tremaining: 2.6s\n",
      "649:\tlearn: 0.9705043\ttotal: 4.81s\tremaining: 2.59s\n",
      "650:\tlearn: 0.9703864\ttotal: 4.82s\tremaining: 2.58s\n",
      "651:\tlearn: 0.9703126\ttotal: 4.82s\tremaining: 2.57s\n",
      "652:\tlearn: 0.9702631\ttotal: 4.83s\tremaining: 2.57s\n",
      "653:\tlearn: 0.9702065\ttotal: 4.84s\tremaining: 2.56s\n",
      "654:\tlearn: 0.9701000\ttotal: 4.84s\tremaining: 2.55s\n",
      "655:\tlearn: 0.9699937\ttotal: 4.85s\tremaining: 2.54s\n",
      "656:\tlearn: 0.9699297\ttotal: 4.86s\tremaining: 2.54s\n",
      "657:\tlearn: 0.9698354\ttotal: 4.87s\tremaining: 2.53s\n",
      "658:\tlearn: 0.9697605\ttotal: 4.87s\tremaining: 2.52s\n",
      "659:\tlearn: 0.9696747\ttotal: 4.88s\tremaining: 2.51s\n",
      "660:\tlearn: 0.9695891\ttotal: 4.89s\tremaining: 2.51s\n",
      "661:\tlearn: 0.9695175\ttotal: 4.89s\tremaining: 2.5s\n",
      "662:\tlearn: 0.9694539\ttotal: 4.9s\tremaining: 2.49s\n",
      "663:\tlearn: 0.9693738\ttotal: 4.91s\tremaining: 2.48s\n",
      "664:\tlearn: 0.9692413\ttotal: 4.92s\tremaining: 2.48s\n",
      "665:\tlearn: 0.9691338\ttotal: 4.92s\tremaining: 2.47s\n",
      "666:\tlearn: 0.9690775\ttotal: 4.93s\tremaining: 2.46s\n",
      "667:\tlearn: 0.9690009\ttotal: 4.94s\tremaining: 2.45s\n",
      "668:\tlearn: 0.9689195\ttotal: 4.95s\tremaining: 2.45s\n",
      "669:\tlearn: 0.9688303\ttotal: 4.95s\tremaining: 2.44s\n",
      "670:\tlearn: 0.9687452\ttotal: 4.96s\tremaining: 2.43s\n",
      "671:\tlearn: 0.9686374\ttotal: 4.97s\tremaining: 2.42s\n",
      "672:\tlearn: 0.9685586\ttotal: 4.97s\tremaining: 2.42s\n",
      "673:\tlearn: 0.9684889\ttotal: 4.98s\tremaining: 2.41s\n",
      "674:\tlearn: 0.9683969\ttotal: 4.99s\tremaining: 2.4s\n",
      "675:\tlearn: 0.9683358\ttotal: 5s\tremaining: 2.39s\n",
      "676:\tlearn: 0.9682731\ttotal: 5s\tremaining: 2.39s\n",
      "677:\tlearn: 0.9681705\ttotal: 5.01s\tremaining: 2.38s\n",
      "678:\tlearn: 0.9680599\ttotal: 5.02s\tremaining: 2.37s\n",
      "679:\tlearn: 0.9679392\ttotal: 5.03s\tremaining: 2.37s\n",
      "680:\tlearn: 0.9678189\ttotal: 5.04s\tremaining: 2.36s\n",
      "681:\tlearn: 0.9677663\ttotal: 5.04s\tremaining: 2.35s\n",
      "682:\tlearn: 0.9676848\ttotal: 5.05s\tremaining: 2.34s\n",
      "683:\tlearn: 0.9676089\ttotal: 5.06s\tremaining: 2.34s\n",
      "684:\tlearn: 0.9675303\ttotal: 5.06s\tremaining: 2.33s\n",
      "685:\tlearn: 0.9674539\ttotal: 5.07s\tremaining: 2.32s\n",
      "686:\tlearn: 0.9674025\ttotal: 5.08s\tremaining: 2.31s\n",
      "687:\tlearn: 0.9672777\ttotal: 5.08s\tremaining: 2.31s\n",
      "688:\tlearn: 0.9672003\ttotal: 5.09s\tremaining: 2.3s\n",
      "689:\tlearn: 0.9671489\ttotal: 5.1s\tremaining: 2.29s\n",
      "690:\tlearn: 0.9670939\ttotal: 5.11s\tremaining: 2.28s\n",
      "691:\tlearn: 0.9670347\ttotal: 5.11s\tremaining: 2.27s\n",
      "692:\tlearn: 0.9669355\ttotal: 5.12s\tremaining: 2.27s\n",
      "693:\tlearn: 0.9668716\ttotal: 5.13s\tremaining: 2.26s\n",
      "694:\tlearn: 0.9667382\ttotal: 5.13s\tremaining: 2.25s\n",
      "695:\tlearn: 0.9667028\ttotal: 5.14s\tremaining: 2.25s\n",
      "696:\tlearn: 0.9666145\ttotal: 5.15s\tremaining: 2.24s\n",
      "697:\tlearn: 0.9665396\ttotal: 5.16s\tremaining: 2.23s\n",
      "698:\tlearn: 0.9664578\ttotal: 5.16s\tremaining: 2.22s\n",
      "699:\tlearn: 0.9663736\ttotal: 5.17s\tremaining: 2.22s\n",
      "700:\tlearn: 0.9662949\ttotal: 5.18s\tremaining: 2.21s\n",
      "701:\tlearn: 0.9661831\ttotal: 5.18s\tremaining: 2.2s\n",
      "702:\tlearn: 0.9661127\ttotal: 5.19s\tremaining: 2.19s\n",
      "703:\tlearn: 0.9660361\ttotal: 5.2s\tremaining: 2.19s\n",
      "704:\tlearn: 0.9659671\ttotal: 5.21s\tremaining: 2.18s\n",
      "705:\tlearn: 0.9659058\ttotal: 5.21s\tremaining: 2.17s\n",
      "706:\tlearn: 0.9658132\ttotal: 5.22s\tremaining: 2.16s\n",
      "707:\tlearn: 0.9657125\ttotal: 5.23s\tremaining: 2.16s\n",
      "708:\tlearn: 0.9656452\ttotal: 5.24s\tremaining: 2.15s\n",
      "709:\tlearn: 0.9655991\ttotal: 5.24s\tremaining: 2.14s\n",
      "710:\tlearn: 0.9655301\ttotal: 5.25s\tremaining: 2.13s\n",
      "711:\tlearn: 0.9653986\ttotal: 5.26s\tremaining: 2.13s\n",
      "712:\tlearn: 0.9653009\ttotal: 5.26s\tremaining: 2.12s\n",
      "713:\tlearn: 0.9652483\ttotal: 5.27s\tremaining: 2.11s\n",
      "714:\tlearn: 0.9651355\ttotal: 5.28s\tremaining: 2.1s\n",
      "715:\tlearn: 0.9650745\ttotal: 5.29s\tremaining: 2.1s\n",
      "716:\tlearn: 0.9650040\ttotal: 5.3s\tremaining: 2.09s\n",
      "717:\tlearn: 0.9649044\ttotal: 5.3s\tremaining: 2.08s\n",
      "718:\tlearn: 0.9648131\ttotal: 5.31s\tremaining: 2.08s\n",
      "719:\tlearn: 0.9647220\ttotal: 5.32s\tremaining: 2.07s\n",
      "720:\tlearn: 0.9646003\ttotal: 5.33s\tremaining: 2.06s\n",
      "721:\tlearn: 0.9644950\ttotal: 5.33s\tremaining: 2.05s\n",
      "722:\tlearn: 0.9644266\ttotal: 5.34s\tremaining: 2.04s\n",
      "723:\tlearn: 0.9643764\ttotal: 5.35s\tremaining: 2.04s\n",
      "724:\tlearn: 0.9643060\ttotal: 5.35s\tremaining: 2.03s\n",
      "725:\tlearn: 0.9642186\ttotal: 5.36s\tremaining: 2.02s\n",
      "726:\tlearn: 0.9641514\ttotal: 5.37s\tremaining: 2.02s\n",
      "727:\tlearn: 0.9640651\ttotal: 5.38s\tremaining: 2.01s\n",
      "728:\tlearn: 0.9639504\ttotal: 5.38s\tremaining: 2s\n",
      "729:\tlearn: 0.9638707\ttotal: 5.39s\tremaining: 1.99s\n",
      "730:\tlearn: 0.9638222\ttotal: 5.4s\tremaining: 1.99s\n",
      "731:\tlearn: 0.9637689\ttotal: 5.41s\tremaining: 1.98s\n",
      "732:\tlearn: 0.9636756\ttotal: 5.41s\tremaining: 1.97s\n",
      "733:\tlearn: 0.9636309\ttotal: 5.42s\tremaining: 1.96s\n",
      "734:\tlearn: 0.9635734\ttotal: 5.43s\tremaining: 1.96s\n",
      "735:\tlearn: 0.9635137\ttotal: 5.43s\tremaining: 1.95s\n",
      "736:\tlearn: 0.9634673\ttotal: 5.44s\tremaining: 1.94s\n",
      "737:\tlearn: 0.9633883\ttotal: 5.45s\tremaining: 1.93s\n",
      "738:\tlearn: 0.9633006\ttotal: 5.46s\tremaining: 1.93s\n",
      "739:\tlearn: 0.9631899\ttotal: 5.46s\tremaining: 1.92s\n",
      "740:\tlearn: 0.9631228\ttotal: 5.47s\tremaining: 1.91s\n",
      "741:\tlearn: 0.9630455\ttotal: 5.48s\tremaining: 1.91s\n",
      "742:\tlearn: 0.9629470\ttotal: 5.49s\tremaining: 1.9s\n",
      "743:\tlearn: 0.9628776\ttotal: 5.49s\tremaining: 1.89s\n",
      "744:\tlearn: 0.9628176\ttotal: 5.5s\tremaining: 1.88s\n",
      "745:\tlearn: 0.9627214\ttotal: 5.51s\tremaining: 1.88s\n",
      "746:\tlearn: 0.9626310\ttotal: 5.52s\tremaining: 1.87s\n",
      "747:\tlearn: 0.9625785\ttotal: 5.52s\tremaining: 1.86s\n",
      "748:\tlearn: 0.9625143\ttotal: 5.53s\tremaining: 1.85s\n",
      "749:\tlearn: 0.9624133\ttotal: 5.54s\tremaining: 1.84s\n",
      "750:\tlearn: 0.9623476\ttotal: 5.54s\tremaining: 1.84s\n",
      "751:\tlearn: 0.9622494\ttotal: 5.55s\tremaining: 1.83s\n",
      "752:\tlearn: 0.9621755\ttotal: 5.56s\tremaining: 1.82s\n",
      "753:\tlearn: 0.9621272\ttotal: 5.57s\tremaining: 1.81s\n",
      "754:\tlearn: 0.9620342\ttotal: 5.57s\tremaining: 1.81s\n",
      "755:\tlearn: 0.9619290\ttotal: 5.58s\tremaining: 1.8s\n",
      "756:\tlearn: 0.9618755\ttotal: 5.59s\tremaining: 1.79s\n",
      "757:\tlearn: 0.9617865\ttotal: 5.59s\tremaining: 1.79s\n",
      "758:\tlearn: 0.9617051\ttotal: 5.6s\tremaining: 1.78s\n",
      "759:\tlearn: 0.9616043\ttotal: 5.61s\tremaining: 1.77s\n",
      "760:\tlearn: 0.9615107\ttotal: 5.62s\tremaining: 1.76s\n",
      "761:\tlearn: 0.9614268\ttotal: 5.63s\tremaining: 1.76s\n",
      "762:\tlearn: 0.9613707\ttotal: 5.63s\tremaining: 1.75s\n",
      "763:\tlearn: 0.9612901\ttotal: 5.64s\tremaining: 1.74s\n",
      "764:\tlearn: 0.9612084\ttotal: 5.65s\tremaining: 1.73s\n",
      "765:\tlearn: 0.9611249\ttotal: 5.65s\tremaining: 1.73s\n",
      "766:\tlearn: 0.9610257\ttotal: 5.66s\tremaining: 1.72s\n",
      "767:\tlearn: 0.9609348\ttotal: 5.67s\tremaining: 1.71s\n",
      "768:\tlearn: 0.9608559\ttotal: 5.68s\tremaining: 1.71s\n",
      "769:\tlearn: 0.9607676\ttotal: 5.68s\tremaining: 1.7s\n",
      "770:\tlearn: 0.9606824\ttotal: 5.69s\tremaining: 1.69s\n",
      "771:\tlearn: 0.9605993\ttotal: 5.7s\tremaining: 1.68s\n",
      "772:\tlearn: 0.9605180\ttotal: 5.71s\tremaining: 1.68s\n",
      "773:\tlearn: 0.9604474\ttotal: 5.71s\tremaining: 1.67s\n",
      "774:\tlearn: 0.9603638\ttotal: 5.72s\tremaining: 1.66s\n",
      "775:\tlearn: 0.9602906\ttotal: 5.73s\tremaining: 1.65s\n",
      "776:\tlearn: 0.9601925\ttotal: 5.74s\tremaining: 1.65s\n",
      "777:\tlearn: 0.9601471\ttotal: 5.74s\tremaining: 1.64s\n",
      "778:\tlearn: 0.9600847\ttotal: 5.75s\tremaining: 1.63s\n",
      "779:\tlearn: 0.9599981\ttotal: 5.76s\tremaining: 1.62s\n",
      "780:\tlearn: 0.9599260\ttotal: 5.76s\tremaining: 1.62s\n",
      "781:\tlearn: 0.9598569\ttotal: 5.77s\tremaining: 1.61s\n",
      "782:\tlearn: 0.9597764\ttotal: 5.78s\tremaining: 1.6s\n",
      "783:\tlearn: 0.9597077\ttotal: 5.79s\tremaining: 1.59s\n",
      "784:\tlearn: 0.9596118\ttotal: 5.79s\tremaining: 1.59s\n",
      "785:\tlearn: 0.9595464\ttotal: 5.8s\tremaining: 1.58s\n",
      "786:\tlearn: 0.9594764\ttotal: 5.81s\tremaining: 1.57s\n",
      "787:\tlearn: 0.9594061\ttotal: 5.81s\tremaining: 1.56s\n",
      "788:\tlearn: 0.9593402\ttotal: 5.82s\tremaining: 1.56s\n",
      "789:\tlearn: 0.9592545\ttotal: 5.83s\tremaining: 1.55s\n",
      "790:\tlearn: 0.9591885\ttotal: 5.83s\tremaining: 1.54s\n",
      "791:\tlearn: 0.9591150\ttotal: 5.84s\tremaining: 1.53s\n",
      "792:\tlearn: 0.9590324\ttotal: 5.85s\tremaining: 1.53s\n",
      "793:\tlearn: 0.9589332\ttotal: 5.86s\tremaining: 1.52s\n",
      "794:\tlearn: 0.9588522\ttotal: 5.87s\tremaining: 1.51s\n",
      "795:\tlearn: 0.9588125\ttotal: 5.87s\tremaining: 1.5s\n",
      "796:\tlearn: 0.9587273\ttotal: 5.88s\tremaining: 1.5s\n",
      "797:\tlearn: 0.9586306\ttotal: 5.89s\tremaining: 1.49s\n",
      "798:\tlearn: 0.9585666\ttotal: 5.89s\tremaining: 1.48s\n",
      "799:\tlearn: 0.9584873\ttotal: 5.9s\tremaining: 1.48s\n",
      "800:\tlearn: 0.9584093\ttotal: 5.91s\tremaining: 1.47s\n",
      "801:\tlearn: 0.9583326\ttotal: 5.92s\tremaining: 1.46s\n",
      "802:\tlearn: 0.9582420\ttotal: 5.92s\tremaining: 1.45s\n",
      "803:\tlearn: 0.9581985\ttotal: 5.93s\tremaining: 1.45s\n",
      "804:\tlearn: 0.9581302\ttotal: 5.94s\tremaining: 1.44s\n",
      "805:\tlearn: 0.9580413\ttotal: 5.95s\tremaining: 1.43s\n",
      "806:\tlearn: 0.9579610\ttotal: 5.95s\tremaining: 1.42s\n",
      "807:\tlearn: 0.9578882\ttotal: 5.96s\tremaining: 1.42s\n",
      "808:\tlearn: 0.9578345\ttotal: 5.97s\tremaining: 1.41s\n",
      "809:\tlearn: 0.9577337\ttotal: 5.97s\tremaining: 1.4s\n",
      "810:\tlearn: 0.9576498\ttotal: 5.98s\tremaining: 1.39s\n",
      "811:\tlearn: 0.9576174\ttotal: 5.99s\tremaining: 1.39s\n",
      "812:\tlearn: 0.9575634\ttotal: 6s\tremaining: 1.38s\n",
      "813:\tlearn: 0.9574956\ttotal: 6s\tremaining: 1.37s\n",
      "814:\tlearn: 0.9574207\ttotal: 6.01s\tremaining: 1.36s\n",
      "815:\tlearn: 0.9573676\ttotal: 6.02s\tremaining: 1.36s\n",
      "816:\tlearn: 0.9573112\ttotal: 6.03s\tremaining: 1.35s\n",
      "817:\tlearn: 0.9572450\ttotal: 6.03s\tremaining: 1.34s\n",
      "818:\tlearn: 0.9571589\ttotal: 6.04s\tremaining: 1.33s\n",
      "819:\tlearn: 0.9570627\ttotal: 6.05s\tremaining: 1.33s\n",
      "820:\tlearn: 0.9569907\ttotal: 6.05s\tremaining: 1.32s\n",
      "821:\tlearn: 0.9569472\ttotal: 6.06s\tremaining: 1.31s\n",
      "822:\tlearn: 0.9568491\ttotal: 6.07s\tremaining: 1.3s\n",
      "823:\tlearn: 0.9567893\ttotal: 6.08s\tremaining: 1.3s\n",
      "824:\tlearn: 0.9567119\ttotal: 6.08s\tremaining: 1.29s\n",
      "825:\tlearn: 0.9566324\ttotal: 6.09s\tremaining: 1.28s\n",
      "826:\tlearn: 0.9565469\ttotal: 6.1s\tremaining: 1.27s\n",
      "827:\tlearn: 0.9564327\ttotal: 6.11s\tremaining: 1.27s\n",
      "828:\tlearn: 0.9563436\ttotal: 6.11s\tremaining: 1.26s\n",
      "829:\tlearn: 0.9562814\ttotal: 6.12s\tremaining: 1.25s\n",
      "830:\tlearn: 0.9561983\ttotal: 6.13s\tremaining: 1.25s\n",
      "831:\tlearn: 0.9561528\ttotal: 6.14s\tremaining: 1.24s\n",
      "832:\tlearn: 0.9561086\ttotal: 6.14s\tremaining: 1.23s\n",
      "833:\tlearn: 0.9560440\ttotal: 6.15s\tremaining: 1.22s\n",
      "834:\tlearn: 0.9559708\ttotal: 6.16s\tremaining: 1.22s\n",
      "835:\tlearn: 0.9559141\ttotal: 6.17s\tremaining: 1.21s\n",
      "836:\tlearn: 0.9558356\ttotal: 6.17s\tremaining: 1.2s\n",
      "837:\tlearn: 0.9557545\ttotal: 6.18s\tremaining: 1.19s\n",
      "838:\tlearn: 0.9556714\ttotal: 6.19s\tremaining: 1.19s\n",
      "839:\tlearn: 0.9555958\ttotal: 6.2s\tremaining: 1.18s\n",
      "840:\tlearn: 0.9555124\ttotal: 6.2s\tremaining: 1.17s\n",
      "841:\tlearn: 0.9554405\ttotal: 6.21s\tremaining: 1.17s\n",
      "842:\tlearn: 0.9553813\ttotal: 6.22s\tremaining: 1.16s\n",
      "843:\tlearn: 0.9553253\ttotal: 6.23s\tremaining: 1.15s\n",
      "844:\tlearn: 0.9552206\ttotal: 6.23s\tremaining: 1.14s\n",
      "845:\tlearn: 0.9551484\ttotal: 6.24s\tremaining: 1.14s\n",
      "846:\tlearn: 0.9550823\ttotal: 6.25s\tremaining: 1.13s\n",
      "847:\tlearn: 0.9550211\ttotal: 6.25s\tremaining: 1.12s\n",
      "848:\tlearn: 0.9549456\ttotal: 6.26s\tremaining: 1.11s\n",
      "849:\tlearn: 0.9548942\ttotal: 6.27s\tremaining: 1.11s\n",
      "850:\tlearn: 0.9548073\ttotal: 6.28s\tremaining: 1.1s\n",
      "851:\tlearn: 0.9547261\ttotal: 6.28s\tremaining: 1.09s\n",
      "852:\tlearn: 0.9546569\ttotal: 6.29s\tremaining: 1.08s\n",
      "853:\tlearn: 0.9545591\ttotal: 6.3s\tremaining: 1.08s\n",
      "854:\tlearn: 0.9544791\ttotal: 6.3s\tremaining: 1.07s\n",
      "855:\tlearn: 0.9544296\ttotal: 6.31s\tremaining: 1.06s\n",
      "856:\tlearn: 0.9543476\ttotal: 6.32s\tremaining: 1.05s\n",
      "857:\tlearn: 0.9542765\ttotal: 6.33s\tremaining: 1.05s\n",
      "858:\tlearn: 0.9541897\ttotal: 6.33s\tremaining: 1.04s\n",
      "859:\tlearn: 0.9541457\ttotal: 6.34s\tremaining: 1.03s\n",
      "860:\tlearn: 0.9540257\ttotal: 6.35s\tremaining: 1.02s\n",
      "861:\tlearn: 0.9539408\ttotal: 6.36s\tremaining: 1.02s\n",
      "862:\tlearn: 0.9538619\ttotal: 6.36s\tremaining: 1.01s\n",
      "863:\tlearn: 0.9538028\ttotal: 6.37s\tremaining: 1s\n",
      "864:\tlearn: 0.9537419\ttotal: 6.38s\tremaining: 995ms\n",
      "865:\tlearn: 0.9536511\ttotal: 6.38s\tremaining: 988ms\n",
      "866:\tlearn: 0.9536086\ttotal: 6.39s\tremaining: 980ms\n",
      "867:\tlearn: 0.9535479\ttotal: 6.4s\tremaining: 973ms\n",
      "868:\tlearn: 0.9534777\ttotal: 6.41s\tremaining: 966ms\n",
      "869:\tlearn: 0.9534196\ttotal: 6.41s\tremaining: 958ms\n",
      "870:\tlearn: 0.9533250\ttotal: 6.42s\tremaining: 951ms\n",
      "871:\tlearn: 0.9532523\ttotal: 6.43s\tremaining: 943ms\n",
      "872:\tlearn: 0.9531715\ttotal: 6.43s\tremaining: 936ms\n",
      "873:\tlearn: 0.9531165\ttotal: 6.44s\tremaining: 929ms\n",
      "874:\tlearn: 0.9530354\ttotal: 6.45s\tremaining: 921ms\n",
      "875:\tlearn: 0.9529329\ttotal: 6.46s\tremaining: 914ms\n",
      "876:\tlearn: 0.9528495\ttotal: 6.46s\tremaining: 906ms\n",
      "877:\tlearn: 0.9528198\ttotal: 6.47s\tremaining: 899ms\n",
      "878:\tlearn: 0.9527424\ttotal: 6.48s\tremaining: 892ms\n",
      "879:\tlearn: 0.9526604\ttotal: 6.48s\tremaining: 884ms\n",
      "880:\tlearn: 0.9525920\ttotal: 6.49s\tremaining: 877ms\n",
      "881:\tlearn: 0.9525434\ttotal: 6.5s\tremaining: 870ms\n",
      "882:\tlearn: 0.9524643\ttotal: 6.51s\tremaining: 862ms\n",
      "883:\tlearn: 0.9524043\ttotal: 6.51s\tremaining: 855ms\n",
      "884:\tlearn: 0.9522699\ttotal: 6.52s\tremaining: 847ms\n",
      "885:\tlearn: 0.9521821\ttotal: 6.53s\tremaining: 840ms\n",
      "886:\tlearn: 0.9520753\ttotal: 6.54s\tremaining: 833ms\n",
      "887:\tlearn: 0.9520168\ttotal: 6.54s\tremaining: 825ms\n",
      "888:\tlearn: 0.9519388\ttotal: 6.55s\tremaining: 818ms\n",
      "889:\tlearn: 0.9519045\ttotal: 6.56s\tremaining: 811ms\n",
      "890:\tlearn: 0.9518385\ttotal: 6.57s\tremaining: 803ms\n",
      "891:\tlearn: 0.9517439\ttotal: 6.57s\tremaining: 796ms\n",
      "892:\tlearn: 0.9516718\ttotal: 6.58s\tremaining: 788ms\n",
      "893:\tlearn: 0.9515901\ttotal: 6.59s\tremaining: 781ms\n",
      "894:\tlearn: 0.9515175\ttotal: 6.59s\tremaining: 774ms\n",
      "895:\tlearn: 0.9514626\ttotal: 6.6s\tremaining: 766ms\n",
      "896:\tlearn: 0.9514049\ttotal: 6.61s\tremaining: 759ms\n",
      "897:\tlearn: 0.9513268\ttotal: 6.62s\tremaining: 752ms\n",
      "898:\tlearn: 0.9512715\ttotal: 6.62s\tremaining: 744ms\n",
      "899:\tlearn: 0.9511958\ttotal: 6.63s\tremaining: 737ms\n",
      "900:\tlearn: 0.9511025\ttotal: 6.64s\tremaining: 730ms\n",
      "901:\tlearn: 0.9510267\ttotal: 6.65s\tremaining: 722ms\n",
      "902:\tlearn: 0.9509569\ttotal: 6.66s\tremaining: 715ms\n",
      "903:\tlearn: 0.9508886\ttotal: 6.66s\tremaining: 708ms\n",
      "904:\tlearn: 0.9508371\ttotal: 6.67s\tremaining: 700ms\n",
      "905:\tlearn: 0.9507711\ttotal: 6.68s\tremaining: 693ms\n",
      "906:\tlearn: 0.9506942\ttotal: 6.68s\tremaining: 685ms\n",
      "907:\tlearn: 0.9505837\ttotal: 6.69s\tremaining: 678ms\n",
      "908:\tlearn: 0.9505278\ttotal: 6.7s\tremaining: 671ms\n",
      "909:\tlearn: 0.9504513\ttotal: 6.71s\tremaining: 663ms\n",
      "910:\tlearn: 0.9503842\ttotal: 6.71s\tremaining: 656ms\n",
      "911:\tlearn: 0.9502743\ttotal: 6.72s\tremaining: 649ms\n",
      "912:\tlearn: 0.9502138\ttotal: 6.73s\tremaining: 641ms\n",
      "913:\tlearn: 0.9501424\ttotal: 6.74s\tremaining: 634ms\n",
      "914:\tlearn: 0.9500488\ttotal: 6.74s\tremaining: 626ms\n",
      "915:\tlearn: 0.9500045\ttotal: 6.75s\tremaining: 619ms\n",
      "916:\tlearn: 0.9499576\ttotal: 6.76s\tremaining: 612ms\n",
      "917:\tlearn: 0.9498792\ttotal: 6.76s\tremaining: 604ms\n",
      "918:\tlearn: 0.9498044\ttotal: 6.77s\tremaining: 597ms\n",
      "919:\tlearn: 0.9497002\ttotal: 6.78s\tremaining: 590ms\n",
      "920:\tlearn: 0.9496324\ttotal: 6.79s\tremaining: 582ms\n",
      "921:\tlearn: 0.9495604\ttotal: 6.79s\tremaining: 575ms\n",
      "922:\tlearn: 0.9495083\ttotal: 6.8s\tremaining: 567ms\n",
      "923:\tlearn: 0.9494547\ttotal: 6.81s\tremaining: 560ms\n",
      "924:\tlearn: 0.9493935\ttotal: 6.82s\tremaining: 553ms\n",
      "925:\tlearn: 0.9493370\ttotal: 6.82s\tremaining: 545ms\n",
      "926:\tlearn: 0.9492705\ttotal: 6.83s\tremaining: 538ms\n",
      "927:\tlearn: 0.9492052\ttotal: 6.84s\tremaining: 531ms\n",
      "928:\tlearn: 0.9491484\ttotal: 6.84s\tremaining: 523ms\n",
      "929:\tlearn: 0.9490786\ttotal: 6.85s\tremaining: 516ms\n",
      "930:\tlearn: 0.9489926\ttotal: 6.86s\tremaining: 508ms\n",
      "931:\tlearn: 0.9489003\ttotal: 6.87s\tremaining: 501ms\n",
      "932:\tlearn: 0.9488498\ttotal: 6.87s\tremaining: 494ms\n",
      "933:\tlearn: 0.9487861\ttotal: 6.88s\tremaining: 486ms\n",
      "934:\tlearn: 0.9487065\ttotal: 6.89s\tremaining: 479ms\n",
      "935:\tlearn: 0.9486542\ttotal: 6.9s\tremaining: 472ms\n",
      "936:\tlearn: 0.9485903\ttotal: 6.9s\tremaining: 464ms\n",
      "937:\tlearn: 0.9485028\ttotal: 6.91s\tremaining: 457ms\n",
      "938:\tlearn: 0.9484319\ttotal: 6.92s\tremaining: 449ms\n",
      "939:\tlearn: 0.9483702\ttotal: 6.92s\tremaining: 442ms\n",
      "940:\tlearn: 0.9483124\ttotal: 6.93s\tremaining: 435ms\n",
      "941:\tlearn: 0.9482578\ttotal: 6.94s\tremaining: 427ms\n",
      "942:\tlearn: 0.9481748\ttotal: 6.95s\tremaining: 420ms\n",
      "943:\tlearn: 0.9481250\ttotal: 6.95s\tremaining: 413ms\n",
      "944:\tlearn: 0.9480618\ttotal: 6.96s\tremaining: 405ms\n",
      "945:\tlearn: 0.9480162\ttotal: 6.97s\tremaining: 398ms\n",
      "946:\tlearn: 0.9479048\ttotal: 6.97s\tremaining: 390ms\n",
      "947:\tlearn: 0.9478171\ttotal: 6.98s\tremaining: 383ms\n",
      "948:\tlearn: 0.9477610\ttotal: 6.99s\tremaining: 376ms\n",
      "949:\tlearn: 0.9476763\ttotal: 7s\tremaining: 368ms\n",
      "950:\tlearn: 0.9476039\ttotal: 7s\tremaining: 361ms\n",
      "951:\tlearn: 0.9474814\ttotal: 7.01s\tremaining: 354ms\n",
      "952:\tlearn: 0.9474209\ttotal: 7.02s\tremaining: 346ms\n",
      "953:\tlearn: 0.9473862\ttotal: 7.03s\tremaining: 339ms\n",
      "954:\tlearn: 0.9473351\ttotal: 7.03s\tremaining: 331ms\n",
      "955:\tlearn: 0.9472987\ttotal: 7.04s\tremaining: 324ms\n",
      "956:\tlearn: 0.9472269\ttotal: 7.05s\tremaining: 317ms\n",
      "957:\tlearn: 0.9471506\ttotal: 7.06s\tremaining: 309ms\n",
      "958:\tlearn: 0.9470494\ttotal: 7.06s\tremaining: 302ms\n",
      "959:\tlearn: 0.9469523\ttotal: 7.07s\tremaining: 295ms\n",
      "960:\tlearn: 0.9468809\ttotal: 7.08s\tremaining: 287ms\n",
      "961:\tlearn: 0.9468401\ttotal: 7.08s\tremaining: 280ms\n",
      "962:\tlearn: 0.9467823\ttotal: 7.09s\tremaining: 272ms\n",
      "963:\tlearn: 0.9467142\ttotal: 7.1s\tremaining: 265ms\n",
      "964:\tlearn: 0.9466682\ttotal: 7.11s\tremaining: 258ms\n",
      "965:\tlearn: 0.9466195\ttotal: 7.11s\tremaining: 250ms\n",
      "966:\tlearn: 0.9465255\ttotal: 7.12s\tremaining: 243ms\n",
      "967:\tlearn: 0.9464734\ttotal: 7.13s\tremaining: 236ms\n",
      "968:\tlearn: 0.9463730\ttotal: 7.13s\tremaining: 228ms\n",
      "969:\tlearn: 0.9463179\ttotal: 7.14s\tremaining: 221ms\n",
      "970:\tlearn: 0.9462608\ttotal: 7.15s\tremaining: 214ms\n",
      "971:\tlearn: 0.9461982\ttotal: 7.16s\tremaining: 206ms\n",
      "972:\tlearn: 0.9461010\ttotal: 7.16s\tremaining: 199ms\n",
      "973:\tlearn: 0.9460344\ttotal: 7.17s\tremaining: 191ms\n",
      "974:\tlearn: 0.9459472\ttotal: 7.18s\tremaining: 184ms\n",
      "975:\tlearn: 0.9458691\ttotal: 7.19s\tremaining: 177ms\n",
      "976:\tlearn: 0.9458218\ttotal: 7.19s\tremaining: 169ms\n",
      "977:\tlearn: 0.9457551\ttotal: 7.2s\tremaining: 162ms\n",
      "978:\tlearn: 0.9456871\ttotal: 7.21s\tremaining: 155ms\n",
      "979:\tlearn: 0.9456278\ttotal: 7.21s\tremaining: 147ms\n",
      "980:\tlearn: 0.9455788\ttotal: 7.22s\tremaining: 140ms\n",
      "981:\tlearn: 0.9455141\ttotal: 7.23s\tremaining: 133ms\n",
      "982:\tlearn: 0.9454535\ttotal: 7.24s\tremaining: 125ms\n",
      "983:\tlearn: 0.9453806\ttotal: 7.25s\tremaining: 118ms\n",
      "984:\tlearn: 0.9453388\ttotal: 7.25s\tremaining: 110ms\n",
      "985:\tlearn: 0.9452727\ttotal: 7.26s\tremaining: 103ms\n",
      "986:\tlearn: 0.9452204\ttotal: 7.27s\tremaining: 95.7ms\n",
      "987:\tlearn: 0.9451499\ttotal: 7.28s\tremaining: 88.4ms\n",
      "988:\tlearn: 0.9450895\ttotal: 7.28s\tremaining: 81ms\n",
      "989:\tlearn: 0.9450431\ttotal: 7.29s\tremaining: 73.6ms\n",
      "990:\tlearn: 0.9449142\ttotal: 7.3s\tremaining: 66.3ms\n",
      "991:\tlearn: 0.9448451\ttotal: 7.3s\tremaining: 58.9ms\n",
      "992:\tlearn: 0.9447910\ttotal: 7.31s\tremaining: 51.5ms\n",
      "993:\tlearn: 0.9447250\ttotal: 7.32s\tremaining: 44.2ms\n",
      "994:\tlearn: 0.9446547\ttotal: 7.33s\tremaining: 36.8ms\n",
      "995:\tlearn: 0.9446024\ttotal: 7.33s\tremaining: 29.5ms\n",
      "996:\tlearn: 0.9445221\ttotal: 7.34s\tremaining: 22.1ms\n",
      "997:\tlearn: 0.9444350\ttotal: 7.35s\tremaining: 14.7ms\n",
      "998:\tlearn: 0.9443704\ttotal: 7.36s\tremaining: 7.37ms\n",
      "999:\tlearn: 0.9443082\ttotal: 7.37s\tremaining: 0us\n"
     ]
    },
    {
     "data": {
      "text/plain": [
       "<catboost.core.CatBoostClassifier at 0x7f33e62781c0>"
      ]
     },
     "execution_count": 24,
     "metadata": {},
     "output_type": "execute_result"
    }
   ],
   "source": [
    "cb.fit(X_train, y_train, )"
   ]
  },
  {
   "cell_type": "code",
   "execution_count": 25,
   "metadata": {},
   "outputs": [
    {
     "name": "stdout",
     "output_type": "stream",
     "text": [
      "CatBoost Classification report:\n",
      "              precision    recall  f1-score   support\n",
      "\n",
      "           1       0.62      0.89      0.73      5507\n",
      "           2       0.00      0.00      0.00      1131\n",
      "           3       0.00      0.00      0.00       512\n",
      "           4       0.00      0.00      0.00       288\n",
      "           5       0.63      0.52      0.57      2858\n",
      "\n",
      "    accuracy                           0.62     10296\n",
      "   macro avg       0.25      0.28      0.26     10296\n",
      "weighted avg       0.51      0.62      0.55     10296\n",
      "\n",
      "CatBoost accuracy: 62.0%\n",
      "CatBoost f1 score: 54.8%\n"
     ]
    },
    {
     "name": "stderr",
     "output_type": "stream",
     "text": [
      "/root/scripts/python/ml/.venv/lib/python3.10/site-packages/sklearn/metrics/_classification.py:1344: UndefinedMetricWarning: Precision and F-score are ill-defined and being set to 0.0 in labels with no predicted samples. Use `zero_division` parameter to control this behavior.\n",
      "  _warn_prf(average, modifier, msg_start, len(result))\n",
      "/root/scripts/python/ml/.venv/lib/python3.10/site-packages/sklearn/metrics/_classification.py:1344: UndefinedMetricWarning: Precision and F-score are ill-defined and being set to 0.0 in labels with no predicted samples. Use `zero_division` parameter to control this behavior.\n",
      "  _warn_prf(average, modifier, msg_start, len(result))\n",
      "/root/scripts/python/ml/.venv/lib/python3.10/site-packages/sklearn/metrics/_classification.py:1344: UndefinedMetricWarning: Precision and F-score are ill-defined and being set to 0.0 in labels with no predicted samples. Use `zero_division` parameter to control this behavior.\n",
      "  _warn_prf(average, modifier, msg_start, len(result))\n"
     ]
    }
   ],
   "source": [
    "from sklearn.metrics import f1_score\n",
    "cb_pred = cb.predict(X_test)\n",
    "print(f\"CatBoost Classification report:\\n{classification_report(y_test, cb_pred)}\")\n",
    "print(f\"CatBoost accuracy: {accuracy_score(y_test, cb_pred)*100:2.1f}%\")\n",
    "print(f\"CatBoost f1 score: {f1_score(y_test, cb_pred, average='weighted')*100:2.1f}%\")"
   ]
  },
  {
   "cell_type": "code",
   "execution_count": 26,
   "metadata": {},
   "outputs": [
    {
     "name": "stdout",
     "output_type": "stream",
     "text": [
      "('feed_words', 30.100191704185754)\n",
      "('mean_word_len', 26.873854474786814)\n",
      "('bank_name_len', 25.948420868559655)\n",
      "('day_of_week', 12.385536318311306)\n",
      "('is_friday', 2.468833584039685)\n",
      "('is_workday', 1.4733255975977821)\n",
      "('is_monday', 0.7498374525190077)\n"
     ]
    }
   ],
   "source": [
    "print(*sorted(zip(column_names, cb.get_feature_importance()), key=lambda i: i[1], reverse=True), sep='\\n')"
   ]
  },
  {
   "cell_type": "code",
   "execution_count": 27,
   "metadata": {},
   "outputs": [
    {
     "data": {
      "text/plain": [
       "1    7963\n",
       "5    2332\n",
       "4       1\n",
       "Name: count, dtype: int64"
      ]
     },
     "execution_count": 27,
     "metadata": {},
     "output_type": "execute_result"
    }
   ],
   "source": [
    "pd.Series(cb_pred[:, 0]).value_counts()"
   ]
  },
  {
   "cell_type": "code",
   "execution_count": 28,
   "metadata": {},
   "outputs": [
    {
     "data": {
      "text/plain": [
       "<Axes: ylabel='Count'>"
      ]
     },
     "execution_count": 28,
     "metadata": {},
     "output_type": "execute_result"
    },
    {
     "data": {
      "image/png": "[encoded data removed]",
      "text/plain": [
       "<Figure size 640x480 with 1 Axes>"
      ]
     },
     "metadata": {},
     "output_type": "display_data"
    }
   ],
   "source": [
    "sns.histplot(data=cb_pred, discrete=True)"
   ]
  },
  {
   "cell_type": "code",
   "execution_count": 29,
   "metadata": {},
   "outputs": [],
   "source": [
    "from sklearn.feature_extraction.text import CountVectorizer\n",
    "from nltk import ngrams"
   ]
  },
  {
   "cell_type": "code",
   "execution_count": 30,
   "metadata": {},
   "outputs": [
    {
     "data": {
      "text/plain": [
       "[('Познакомился', 'с'),\n",
       " ('с', 'ВТБ24'),\n",
       " ('ВТБ24', 'в'),\n",
       " ('в', 'конце'),\n",
       " ('конце', '2011'),\n",
       " ('2011', 'года,'),\n",
       " ('года,', 'практически'),\n",
       " ('практически', 'тогда'),\n",
       " ('тогда', 'у'),\n",
       " ('у', 'меня'),\n",
       " ('меня', 'и'),\n",
       " ('и', 'началась'),\n",
       " ('началась', 'кредитная'),\n",
       " ('кредитная', 'история'),\n",
       " ('история', '(ипотечная).'),\n",
       " ('(ипотечная).', 'А'),\n",
       " ('А', 'началось'),\n",
       " ('началось', 'все'),\n",
       " ('все', 'с'),\n",
       " ('с', 'того,'),\n",
       " ('того,', 'что'),\n",
       " ('что', 'почти'),\n",
       " ('почти', 'все'),\n",
       " ('все', 'банки'),\n",
       " ('банки', 'отказали'),\n",
       " ('отказали', 'мне'),\n",
       " ('мне', 'в'),\n",
       " ('в', 'ипотеке'),\n",
       " ('ипотеке', 'с'),\n",
       " ('с', 'моей'),\n",
       " ('моей', '\"0\"'),\n",
       " ('\"0\"', 'кредитной'),\n",
       " ('кредитной', 'историей.'),\n",
       " ('историей.', 'Просил'),\n",
       " ('Просил', 'много'),\n",
       " ('много', '-'),\n",
       " ('-', 'дали'),\n",
       " ('дали', 'мало,'),\n",
       " ('мало,', 'но'),\n",
       " ('но', 'хоть'),\n",
       " ('хоть', 'что-то.'),\n",
       " ('что-то.', 'С'),\n",
       " ('С', 'того'),\n",
       " ('того', 'времени'),\n",
       " ('времени', 'неспешно'),\n",
       " ('неспешно', 'оплачиваю'),\n",
       " ('оплачиваю', '25-ти'),\n",
       " ('25-ти', 'летнюю'),\n",
       " ('летнюю', 'ипотеку,'),\n",
       " ('ипотеку,', 'зато'),\n",
       " ('зато', 'вообще'),\n",
       " ('вообще', 'ненапряжно'),\n",
       " ('ненапряжно', '-'),\n",
       " ('-', '17к'),\n",
       " ('17к', 'в'),\n",
       " ('в', 'мес.'),\n",
       " ('мес.', 'Потом'),\n",
       " ('Потом', 'покупка'),\n",
       " ('покупка', 'машины,'),\n",
       " ('машины,', 'и'),\n",
       " ('и', 'опять'),\n",
       " ('опять', 'один'),\n",
       " ('один', 'из'),\n",
       " ('из', 'немногих'),\n",
       " ('немногих', 'банков'),\n",
       " ('банков', 'кто'),\n",
       " ('кто', 'одобрил'),\n",
       " ('одобрил', 'мне'),\n",
       " ('мне', 'кредит'),\n",
       " ('кредит', 'с'),\n",
       " ('с', '10%-ным'),\n",
       " ('10%-ным', 'первым'),\n",
       " ('первым', 'взносом.'),\n",
       " ('взносом.', 'Потом'),\n",
       " ('Потом', 'еще'),\n",
       " ('еще', 'одна'),\n",
       " ('одна', 'ипотека'),\n",
       " ('ипотека', 'и'),\n",
       " ('и', 'опять'),\n",
       " ('опять', 'только'),\n",
       " ('только', 'ВТБ24'),\n",
       " ('ВТБ24', 'одобрил.'),\n",
       " ('одобрил.', 'Тем'),\n",
       " ('Тем', 'временем'),\n",
       " ('временем', 'я'),\n",
       " ('я', 'начал'),\n",
       " ('начал', 'что-то'),\n",
       " ('что-то', 'подозревать'),\n",
       " ('подозревать', '-'),\n",
       " ('-', 'почему'),\n",
       " ('почему', 'никто'),\n",
       " ('никто', 'мне'),\n",
       " ('мне', 'кредиты'),\n",
       " ('кредиты', 'не'),\n",
       " ('не', 'дает'),\n",
       " ('дает', '-'),\n",
       " ('-', 'только'),\n",
       " ('только', 'ВТБ24.'),\n",
       " ('ВТБ24.', 'Запросил'),\n",
       " ('Запросил', 'кредитный'),\n",
       " ('кредитный', 'отчет'),\n",
       " ('отчет', 'в'),\n",
       " ('в', 'Equifax,'),\n",
       " ('Equifax,', 'а'),\n",
       " ('а', 'там'),\n",
       " ('там', 'чудеса'),\n",
       " ('чудеса', '-'),\n",
       " ('-', 'незакрытая'),\n",
       " ('незакрытая', 'кредитная'),\n",
       " ('кредитная', 'карта'),\n",
       " ('карта', 'на'),\n",
       " ('на', '4000'),\n",
       " ('4000', 'евро'),\n",
       " ('евро', 'от'),\n",
       " ('от', 'банка'),\n",
       " ('банка', 'Юникредит.'),\n",
       " ('Юникредит.', 'Сотрудники'),\n",
       " ('Сотрудники', 'Equifax'),\n",
       " ('Equifax', 'мне'),\n",
       " ('мне', 'объяснили,'),\n",
       " ('объяснили,', 'что'),\n",
       " ('что', '4000'),\n",
       " ('4000', 'евро'),\n",
       " ('евро', '-'),\n",
       " ('-', 'это'),\n",
       " ('это', 'кредитная'),\n",
       " ('кредитная', 'нагрузка'),\n",
       " ('нагрузка', 'в'),\n",
       " ('в', '250000'),\n",
       " ('250000', 'рублей,'),\n",
       " ('рублей,', 'которую'),\n",
       " ('которую', 'видят'),\n",
       " ('видят', 'банки'),\n",
       " ('банки', 'и'),\n",
       " ('и', 'отказывают'),\n",
       " ('отказывают', 'мне'),\n",
       " ('мне', 'в'),\n",
       " ('в', 'кредите'),\n",
       " ('кредите', '(причем'),\n",
       " ('(причем', 'даже'),\n",
       " ('даже', 'сам'),\n",
       " ('сам', 'Юникредит'),\n",
       " ('Юникредит', 'отказывает).'),\n",
       " ('отказывает).', '\"Спасибо\"'),\n",
       " ('\"Спасибо\"', 'Юникредиту,'),\n",
       " ('Юникредиту,', 'но'),\n",
       " ('но', 'речь'),\n",
       " ('речь', 'не'),\n",
       " ('не', 'о'),\n",
       " ('о', 'них.На'),\n",
       " ('них.На', 'данный'),\n",
       " ('данный', 'момент'),\n",
       " ('момент', 'у'),\n",
       " ('у', 'меня'),\n",
       " ('меня', 'в'),\n",
       " ('в', 'ВТБ24'),\n",
       " ('ВТБ24', '2'),\n",
       " ('2', 'ипотеки'),\n",
       " ('ипотеки', 'автокредит'),\n",
       " ('автокредит', 'кредит'),\n",
       " ('кредит', 'наличными'),\n",
       " ('наличными', '-'),\n",
       " ('-', 'спасибо'),\n",
       " ('спасибо', 'за'),\n",
       " ('за', 'доверие!'),\n",
       " ('доверие!', 'После'),\n",
       " ('После', 'получения'),\n",
       " ('получения', 'последнего'),\n",
       " ('последнего', 'кредита'),\n",
       " ('кредита', 'мне'),\n",
       " ('мне', 'дали'),\n",
       " ('дали', 'карточку'),\n",
       " ('карточку', 'помощи'),\n",
       " ('помощи', 'на'),\n",
       " ('на', 'дороге'),\n",
       " ('дороге', 'карточку'),\n",
       " ('карточку', 'Привилегия'),\n",
       " ('Привилегия', 'карту'),\n",
       " ('карту', 'Priority'),\n",
       " ('Priority', 'Pass'),\n",
       " ('Pass', '(в'),\n",
       " ('(в', 'бизнес'),\n",
       " ('бизнес', 'зал'),\n",
       " ('зал', 'в'),\n",
       " ('в', 'аэропортах'),\n",
       " ('аэропортах', 'всего'),\n",
       " ('всего', 'мира)'),\n",
       " ('мира)', 'бесплатного'),\n",
       " ('бесплатного', 'личного'),\n",
       " ('личного', 'менеджера'),\n",
       " ('менеджера', 'хотя'),\n",
       " ('хотя', 'я'),\n",
       " ('я', 'даже'),\n",
       " ('даже', 'не'),\n",
       " ('не', 'просил'),\n",
       " ('просил', 'Пока'),\n",
       " ('Пока', 'что'),\n",
       " ('что', 'одни'),\n",
       " ('одни', 'плюсы,'),\n",
       " ('плюсы,', 'но'),\n",
       " ('но', 'ложку'),\n",
       " ('ложку', 'дегтя'),\n",
       " ('дегтя', 'все-таки'),\n",
       " ('все-таки', 'надо'),\n",
       " ('надо', 'закинуть.Дали'),\n",
       " ('закинуть.Дали', 'договор'),\n",
       " ('договор', 'на'),\n",
       " ('на', 'кредитную'),\n",
       " ('кредитную', 'линию'),\n",
       " ('линию', 'на'),\n",
       " ('на', '5'),\n",
       " ('5', 'мультов'),\n",
       " ('мультов', 'под'),\n",
       " ('под', '20%,'),\n",
       " ('20%,', 'но'),\n",
       " ('но', 'не'),\n",
       " ('не', 'открыли'),\n",
       " ('открыли', 'и'),\n",
       " ('и', 'не'),\n",
       " ('не', 'одобрили,'),\n",
       " ('одобрили,', 'короче'),\n",
       " ('короче', 'дали'),\n",
       " ('дали', 'конфетку'),\n",
       " ('конфетку', 'и'),\n",
       " ('и', 'отобрали.'),\n",
       " ('отобрали.', 'Не'),\n",
       " ('Не', 'факт,'),\n",
       " ('факт,', 'что'),\n",
       " ('что', 'я'),\n",
       " ('я', 'воспользовался'),\n",
       " ('воспользовался', 'бы,'),\n",
       " ('бы,', 'но'),\n",
       " ('но', 'сердце'),\n",
       " ('сердце', 'грело'),\n",
       " ('грело', 'бы'),\n",
       " ('бы', 'точно.'),\n",
       " ('точно.', 'Хотя'),\n",
       " ('Хотя', 'нет,'),\n",
       " ('нет,', 'наверняка'),\n",
       " ('наверняка', 'воспользовался'),\n",
       " ('воспользовался', 'бы,'),\n",
       " ('бы,', 'почему'),\n",
       " ('почему', 'бы'),\n",
       " ('бы', 'и'),\n",
       " ('и', 'нет.И'),\n",
       " ('нет.И', 'самое'),\n",
       " ('самое', 'главное,'),\n",
       " ('главное,', 'к'),\n",
       " ('к', 'сожалению,'),\n",
       " ('сожалению,', 'присущее'),\n",
       " ('присущее', 'всем'),\n",
       " ('всем', 'банкам'),\n",
       " ('банкам', '-'),\n",
       " ('-', 'обезличенное,'),\n",
       " ('обезличенное,', 'компьютерное'),\n",
       " ('компьютерное', 'принятие'),\n",
       " ('принятие', 'решения.'),\n",
       " ('решения.', 'Помните'),\n",
       " ('Помните', 'фильм'),\n",
       " ('фильм', '\"Всегда'),\n",
       " ('\"Всегда', 'говори'),\n",
       " ('говори', 'да\"?'),\n",
       " ('да\"?', 'Там'),\n",
       " ('Там', 'живой'),\n",
       " ('живой', 'Джим'),\n",
       " ('Джим', 'Керри'),\n",
       " ('Керри', 'сидит'),\n",
       " ('сидит', 'и'),\n",
       " ('и', 'одобряет'),\n",
       " ('одобряет', 'кредиты,'),\n",
       " ('кредиты,', 'видит'),\n",
       " ('видит', 'людей,'),\n",
       " ('людей,', 'которые'),\n",
       " ('которые', 'к'),\n",
       " ('к', 'нему'),\n",
       " ('нему', 'приходят,'),\n",
       " ('приходят,', 'видят'),\n",
       " ('видят', 'бизнес'),\n",
       " ('бизнес', 'и'),\n",
       " ('и', 'т.д.,'),\n",
       " ('т.д.,', 'а'),\n",
       " ('а', 'у'),\n",
       " ('у', 'нас'),\n",
       " ('нас', 'бездушные'),\n",
       " ('бездушные', 'компьютерные'),\n",
       " ('компьютерные', 'программы'),\n",
       " ('программы', 'решают'),\n",
       " ('решают', 'кому'),\n",
       " ('кому', 'давать,'),\n",
       " ('давать,', 'а'),\n",
       " ('а', 'кому'),\n",
       " ('кому', 'не'),\n",
       " ('не', 'давать.'),\n",
       " ('давать.', 'Даже'),\n",
       " ('Даже', 'персональный'),\n",
       " ('персональный', 'менеджер,'),\n",
       " ('менеджер,', 'который'),\n",
       " ('который', 'должен'),\n",
       " ('должен', '\"решать\"'),\n",
       " ('\"решать\"', 'ничего'),\n",
       " ('ничего', 'не'),\n",
       " ('не', 'решает'),\n",
       " ('решает', 'и'),\n",
       " ('и', 'мало'),\n",
       " ('мало', 'что'),\n",
       " ('что', 'знает,'),\n",
       " ('знает,', 'а'),\n",
       " ('а', 'на'),\n",
       " ('на', 'все'),\n",
       " ('все', 'вопросы'),\n",
       " ('вопросы', '-'),\n",
       " ('-', '\"сейчас'),\n",
       " ('\"сейчас', 'уточню\"Но'),\n",
       " ('уточню\"Но', 'в'),\n",
       " ('в', 'целом'),\n",
       " ('целом', 'все'),\n",
       " ('все', 'ОТЛИЧНО!'),\n",
       " ('ОТЛИЧНО!', 'Отдельный'),\n",
       " ('Отдельный', 'привет'),\n",
       " ('привет', 'Марине'),\n",
       " ('Марине', 'Новиковой')]"
      ]
     },
     "execution_count": 30,
     "metadata": {},
     "output_type": "execute_result"
    }
   ],
   "source": [
    "sent = df.feeds.iloc[5]\n",
    "ngrams_ = ngrams(sent.split(), 2)\n",
    "list(ngrams_)"
   ]
  },
  {
   "cell_type": "code",
   "execution_count": 31,
   "metadata": {},
   "outputs": [],
   "source": [
    "feeds = df.feeds"
   ]
  },
  {
   "cell_type": "code",
   "execution_count": 32,
   "metadata": {},
   "outputs": [
    {
     "data": {
      "text/plain": [
       "[]"
      ]
     },
     "execution_count": 32,
     "metadata": {},
     "output_type": "execute_result"
    }
   ],
   "source": [
    "from nltk.tokenize import RegexpTokenizer\n",
    "\n",
    "tknzr = RegexpTokenizer(r'[А-Яа-яA-z]+')\n",
    "words = tknzr.tokenize('12312')\n",
    "words"
   ]
  },
  {
   "cell_type": "code",
   "execution_count": 33,
   "metadata": {},
   "outputs": [
    {
     "name": "stderr",
     "output_type": "stream",
     "text": [
      "[nltk_data] Downloading package stopwords to /root/nltk_data...\n",
      "[nltk_data]   Package stopwords is already up-to-date!\n"
     ]
    },
    {
     "data": {
      "text/plain": [
       "True"
      ]
     },
     "execution_count": 33,
     "metadata": {},
     "output_type": "execute_result"
    }
   ],
   "source": [
    "import nltk\n",
    "nltk.download('stopwords')"
   ]
  },
  {
   "cell_type": "code",
   "execution_count": 34,
   "metadata": {},
   "outputs": [],
   "source": [
    "# удаляем стоп слова\n",
    "from nltk.corpus import stopwords\n",
    "\n",
    "stops = stopwords.words('russian')\n",
    "\n",
    "def text2tokens(text, tokenizer=__import__('nltk').tokenize.word_tokenize):\n",
    "    text = text.casefold()\n",
    "    # return tokenizer(text)\n",
    "    return tokenizer.tokenize(text)\n",
    "\n",
    "def remove_stopwords(tokens, stopwords=__import__('nltk').corpus.stopwords.words('russian')):\n",
    "    return [t for t in tokens if t not in stopwords]\n",
    "\n",
    "def text_processing(text):\n",
    "    tokens = text2tokens(text, tokenizer=RegexpTokenizer(r'[А-Яа-яA-z]+'))\n",
    "    tokens = remove_stopwords(tokens)\n",
    "    return \" \".join(tokens)\n",
    "\n",
    "\n",
    "from pymystem3 import Mystem\n",
    "mystem = Mystem()\n",
    "def lemmatize_text(text):\n",
    "    try:\n",
    "        pass\n",
    "        # tokens = text2tokens(text, tokenizer=RegexpTokenizer(r'[А-Яа-яA-z]+'))\n",
    "    except Exception as e:\n",
    "        print('text2tokens: ', text.split(), str(e))\n",
    "\n",
    "    try:\n",
    "        if text:\n",
    "            lemmas = mystem.lemmatize(text)\n",
    "        else:\n",
    "            lemmas = []\n",
    "        #lemmas = mystem.lemmatize(\" \".join(tokens))\n",
    "    except Exception as e:\n",
    "        print(f\"lemmatize: {text}\", str(e))\n",
    "    lemmas = remove_stopwords(lemmas)\n",
    "    return ''.join([i for i  in lemmas])\n",
    "    \n",
    "\n",
    "\n",
    "# text_processing(feed)\n",
    "# lemmatize_text(text_processing(feed))"
   ]
  },
  {
   "cell_type": "code",
   "execution_count": 35,
   "metadata": {},
   "outputs": [],
   "source": [
    "from multiprocessing import Pool\n",
    "from tqdm import tqdm\n",
    "\n",
    "def f(text):\n",
    "    return lemmatize_text(text_processing(text))\n",
    "\n",
    "N = df.feeds.__len__()#1000\n",
    "lemmas = []\n",
    "# for i in tqdm(range(N)):\n",
    "#     lemmas.append(lemmatize_text(text_processing(df.feeds.iloc[i])))\n",
    "\n",
    "# with Pool(8) as p:\n",
    "#     lemmas = list(\n",
    "#         tqdm(\n",
    "#             p.imap(\n",
    "#                 f, \n",
    "#                 df.feeds.iloc[:N]\n",
    "#             ),\n",
    "#             total=N,\n",
    "#         )\n",
    "#     )"
   ]
  },
  {
   "cell_type": "code",
   "execution_count": 36,
   "metadata": {},
   "outputs": [],
   "source": [
    "from functools import lru_cache\n",
    "import re\n",
    "from pymorphy2 import MorphAnalyzer\n",
    "from nltk.corpus import stopwords\n",
    "\n",
    "regex = re.compile(r'[А-Яа-яA-z]+')\n",
    "\n",
    "def words_only(text, regex=re.compile(r'[А-Яа-яA-z]+')):\n",
    "    try:\n",
    "        return regex.findall(text.casefold())\n",
    "    except:\n",
    "        return []\n",
    "\n",
    "@lru_cache(maxsize=512)\n",
    "def lemmatize_token(token, pymorph=__import__('pymorphy2').MorphAnalyzer()):\n",
    "    return pymorph.parse(token)[0].normal_form\n",
    "\n",
    "def lemmatize_tokens(tokens):\n",
    "    return [lemmatize_token(token) for token in tokens]\n",
    "\n",
    "def remove_stopwords(lemmas, stopwords=__import__('nltk').corpus.stopwords.words('russian')):\n",
    "    return [w for w in lemmas if w not in stopwords]\n",
    "\n",
    "def clean_text(text):\n",
    "    tokens = words_only(text)\n",
    "    lemmas = lemmatize_tokens(tokens)\n",
    "    return ' '.join(remove_stopwords(lemmas))"
   ]
  },
  {
   "cell_type": "code",
   "execution_count": 37,
   "metadata": {},
   "outputs": [
    {
     "name": "stderr",
     "output_type": "stream",
     "text": [
      "100%|██████████| 51476/51476 [01:07<00:00, 758.42it/s]\n"
     ]
    }
   ],
   "source": [
    "from multiprocessing import Pool\n",
    "\n",
    "N = len(df)\n",
    "with Pool(16) as p:\n",
    "    lemmas = list(\n",
    "        tqdm(\n",
    "            p.imap(clean_text, df.feeds[:N]),\n",
    "            total = N\n",
    "        )\n",
    "    )\n",
    "\n"
   ]
  },
  {
   "cell_type": "code",
   "execution_count": 38,
   "metadata": {},
   "outputs": [
    {
     "name": "stderr",
     "output_type": "stream",
     "text": [
      "100%|██████████| 17220/17220 [00:23<00:00, 731.65it/s]\n"
     ]
    },
    {
     "data": {
      "text/plain": [
       "17220"
      ]
     },
     "execution_count": 38,
     "metadata": {},
     "output_type": "execute_result"
    }
   ],
   "source": [
    "test_N = len(test_df)\n",
    "with Pool(18) as p:\n",
    "    test_lemmas = list(\n",
    "        tqdm(\n",
    "            p.imap(\n",
    "                clean_text,\n",
    "                test_df.feeds[:test_N],\n",
    "            ),\n",
    "            total = test_N\n",
    "        )\n",
    "    )\n",
    "len(test_lemmas)"
   ]
  },
  {
   "cell_type": "code",
   "execution_count": 39,
   "metadata": {},
   "outputs": [],
   "source": [
    "test_df['lemmas'] = test_lemmas\n",
    "df['lemmas'] = lemmas"
   ]
  },
  {
   "cell_type": "code",
   "execution_count": 43,
   "metadata": {},
   "outputs": [
    {
     "data": {
      "text/plain": [
       "['bank_name_len',\n",
       " 'feed_words',\n",
       " 'day_of_week',\n",
       " 'mean_word_len',\n",
       " 'is_workday',\n",
       " 'is_monday',\n",
       " 'is_friday',\n",
       " 'lemmas']"
      ]
     },
     "execution_count": 43,
     "metadata": {},
     "output_type": "execute_result"
    }
   ],
   "source": [
    "column_names + ['lemmas']"
   ]
  },
  {
   "cell_type": "code",
   "execution_count": 200,
   "metadata": {},
   "outputs": [
    {
     "data": {
      "text/plain": [
       "['bank_name_len',\n",
       " 'feed_words',\n",
       " 'day_of_week',\n",
       " 'mean_word_len',\n",
       " 'is_workday',\n",
       " 'is_monday',\n",
       " 'is_friday',\n",
       " 'lemmas',\n",
       " 'feeds']"
      ]
     },
     "execution_count": 200,
     "metadata": {},
     "output_type": "execute_result"
    }
   ],
   "source": [
    "numerical_columns = column_names\n",
    "column_names.append('lemmas')\n",
    "column_names.append('feeds')\n",
    "column_names"
   ]
  },
  {
   "cell_type": "code",
   "execution_count": 201,
   "metadata": {},
   "outputs": [
    {
     "name": "stdout",
     "output_type": "stream",
     "text": [
      "X_train.shape = (41180, 9), X_test.shape = (10296, 9)\n",
      "y_train.shape = (41180,), y_test.shape = (10296,)\n"
     ]
    }
   ],
   "source": [
    "from sklearn.model_selection import train_test_split\n",
    "\n",
    "X_train, X_test, y_train, y_test = train_test_split(df[column_names], df.grades, test_size=0.2, random_state=RANDOM_STATE, stratify=df.grades)\n",
    "print(f\"{X_train.shape = }, {X_test.shape = }\")\n",
    "print(f\"{y_train.shape = }, {y_test.shape = }\")"
   ]
  },
  {
   "cell_type": "code",
   "execution_count": 202,
   "metadata": {},
   "outputs": [
    {
     "data": {
      "text/plain": [
       "(41180, 9)"
      ]
     },
     "execution_count": 202,
     "metadata": {},
     "output_type": "execute_result"
    }
   ],
   "source": [
    "X_train[numerical_columns].shape"
   ]
  },
  {
   "cell_type": "code",
   "execution_count": 60,
   "metadata": {},
   "outputs": [
    {
     "data": {
      "text/html": [
       "<style>#sk-container-id-1 {color: black;background-color: white;}#sk-container-id-1 pre{padding: 0;}#sk-container-id-1 div.sk-toggleable {background-color: white;}#sk-container-id-1 label.sk-toggleable__label {cursor: pointer;display: block;width: 100%;margin-bottom: 0;padding: 0.3em;box-sizing: border-box;text-align: center;}#sk-container-id-1 label.sk-toggleable__label-arrow:before {content: \"▸\";float: left;margin-right: 0.25em;color: #696969;}#sk-container-id-1 label.sk-toggleable__label-arrow:hover:before {color: black;}#sk-container-id-1 div.sk-estimator:hover label.sk-toggleable__label-arrow:before {color: black;}#sk-container-id-1 div.sk-toggleable__content {max-height: 0;max-width: 0;overflow: hidden;text-align: left;background-color: #f0f8ff;}#sk-container-id-1 div.sk-toggleable__content pre {margin: 0.2em;color: black;border-radius: 0.25em;background-color: #f0f8ff;}#sk-container-id-1 input.sk-toggleable__control:checked~div.sk-toggleable__content {max-height: 200px;max-width: 100%;overflow: auto;}#sk-container-id-1 input.sk-toggleable__control:checked~label.sk-toggleable__label-arrow:before {content: \"▾\";}#sk-container-id-1 div.sk-estimator input.sk-toggleable__control:checked~label.sk-toggleable__label {background-color: #d4ebff;}#sk-container-id-1 div.sk-label input.sk-toggleable__control:checked~label.sk-toggleable__label {background-color: #d4ebff;}#sk-container-id-1 input.sk-hidden--visually {border: 0;clip: rect(1px 1px 1px 1px);clip: rect(1px, 1px, 1px, 1px);height: 1px;margin: -1px;overflow: hidden;padding: 0;position: absolute;width: 1px;}#sk-container-id-1 div.sk-estimator {font-family: monospace;background-color: #f0f8ff;border: 1px dotted black;border-radius: 0.25em;box-sizing: border-box;margin-bottom: 0.5em;}#sk-container-id-1 div.sk-estimator:hover {background-color: #d4ebff;}#sk-container-id-1 div.sk-parallel-item::after {content: \"\";width: 100%;border-bottom: 1px solid gray;flex-grow: 1;}#sk-container-id-1 div.sk-label:hover label.sk-toggleable__label {background-color: #d4ebff;}#sk-container-id-1 div.sk-serial::before {content: \"\";position: absolute;border-left: 1px solid gray;box-sizing: border-box;top: 0;bottom: 0;left: 50%;z-index: 0;}#sk-container-id-1 div.sk-serial {display: flex;flex-direction: column;align-items: center;background-color: white;padding-right: 0.2em;padding-left: 0.2em;position: relative;}#sk-container-id-1 div.sk-item {position: relative;z-index: 1;}#sk-container-id-1 div.sk-parallel {display: flex;align-items: stretch;justify-content: center;background-color: white;position: relative;}#sk-container-id-1 div.sk-item::before, #sk-container-id-1 div.sk-parallel-item::before {content: \"\";position: absolute;border-left: 1px solid gray;box-sizing: border-box;top: 0;bottom: 0;left: 50%;z-index: -1;}#sk-container-id-1 div.sk-parallel-item {display: flex;flex-direction: column;z-index: 1;position: relative;background-color: white;}#sk-container-id-1 div.sk-parallel-item:first-child::after {align-self: flex-end;width: 50%;}#sk-container-id-1 div.sk-parallel-item:last-child::after {align-self: flex-start;width: 50%;}#sk-container-id-1 div.sk-parallel-item:only-child::after {width: 0;}#sk-container-id-1 div.sk-dashed-wrapped {border: 1px dashed gray;margin: 0 0.4em 0.5em 0.4em;box-sizing: border-box;padding-bottom: 0.4em;background-color: white;}#sk-container-id-1 div.sk-label label {font-family: monospace;font-weight: bold;display: inline-block;line-height: 1.2em;}#sk-container-id-1 div.sk-label-container {text-align: center;}#sk-container-id-1 div.sk-container {/* jupyter's `normalize.less` sets `[hidden] { display: none; }` but bootstrap.min.css set `[hidden] { display: none !important; }` so we also need the `!important` here to be able to override the default hidden behavior on the sphinx rendered scikit-learn.org. See: https://github.com/scikit-learn/scikit-learn/issues/21755 */display: inline-block !important;position: relative;}#sk-container-id-1 div.sk-text-repr-fallback {display: none;}</style><div id=\"sk-container-id-1\" class=\"sk-top-container\"><div class=\"sk-text-repr-fallback\"><pre>CountVectorizer()</pre><b>In a Jupyter environment, please rerun this cell to show the HTML representation or trust the notebook. <br />On GitHub, the HTML representation is unable to render, please try loading this page with nbviewer.org.</b></div><div class=\"sk-container\" hidden><div class=\"sk-item\"><div class=\"sk-estimator sk-toggleable\"><input class=\"sk-toggleable__control sk-hidden--visually\" id=\"sk-estimator-id-1\" type=\"checkbox\" checked><label for=\"sk-estimator-id-1\" class=\"sk-toggleable__label sk-toggleable__label-arrow\">CountVectorizer</label><div class=\"sk-toggleable__content\"><pre>CountVectorizer()</pre></div></div></div></div></div>"
      ],
      "text/plain": [
       "CountVectorizer()"
      ]
     },
     "execution_count": 60,
     "metadata": {},
     "output_type": "execute_result"
    }
   ],
   "source": [
    "# BoW - Bag of Words\n",
    "\n",
    "from sklearn.feature_extraction.text import CountVectorizer\n",
    "\n",
    "vec = CountVectorizer(ngram_range=(1, 1))\n",
    "vec.fit(X_train.lemmas)\n"
   ]
  },
  {
   "cell_type": "code",
   "execution_count": 66,
   "metadata": {},
   "outputs": [],
   "source": [
    "bow = vec.transform(X_train.lemmas)"
   ]
  },
  {
   "cell_type": "code",
   "execution_count": 78,
   "metadata": {},
   "outputs": [],
   "source": [
    "from sklearn.linear_model import LogisticRegression\n",
    "\n",
    "log_clf = LogisticRegression(random_state=RANDOM_STATE,  max_iter=100)"
   ]
  },
  {
   "cell_type": "code",
   "execution_count": 79,
   "metadata": {},
   "outputs": [
    {
     "name": "stderr",
     "output_type": "stream",
     "text": [
      "/root/scripts/python/ml/.venv/lib/python3.10/site-packages/sklearn/linear_model/_logistic.py:458: ConvergenceWarning: lbfgs failed to converge (status=1):\n",
      "STOP: TOTAL NO. of ITERATIONS REACHED LIMIT.\n",
      "\n",
      "Increase the number of iterations (max_iter) or scale the data as shown in:\n",
      "    https://scikit-learn.org/stable/modules/preprocessing.html\n",
      "Please also refer to the documentation for alternative solver options:\n",
      "    https://scikit-learn.org/stable/modules/linear_model.html#logistic-regression\n",
      "  n_iter_i = _check_optimize_result(\n"
     ]
    },
    {
     "data": {
      "text/html": [
       "<style>#sk-container-id-2 {color: black;background-color: white;}#sk-container-id-2 pre{padding: 0;}#sk-container-id-2 div.sk-toggleable {background-color: white;}#sk-container-id-2 label.sk-toggleable__label {cursor: pointer;display: block;width: 100%;margin-bottom: 0;padding: 0.3em;box-sizing: border-box;text-align: center;}#sk-container-id-2 label.sk-toggleable__label-arrow:before {content: \"▸\";float: left;margin-right: 0.25em;color: #696969;}#sk-container-id-2 label.sk-toggleable__label-arrow:hover:before {color: black;}#sk-container-id-2 div.sk-estimator:hover label.sk-toggleable__label-arrow:before {color: black;}#sk-container-id-2 div.sk-toggleable__content {max-height: 0;max-width: 0;overflow: hidden;text-align: left;background-color: #f0f8ff;}#sk-container-id-2 div.sk-toggleable__content pre {margin: 0.2em;color: black;border-radius: 0.25em;background-color: #f0f8ff;}#sk-container-id-2 input.sk-toggleable__control:checked~div.sk-toggleable__content {max-height: 200px;max-width: 100%;overflow: auto;}#sk-container-id-2 input.sk-toggleable__control:checked~label.sk-toggleable__label-arrow:before {content: \"▾\";}#sk-container-id-2 div.sk-estimator input.sk-toggleable__control:checked~label.sk-toggleable__label {background-color: #d4ebff;}#sk-container-id-2 div.sk-label input.sk-toggleable__control:checked~label.sk-toggleable__label {background-color: #d4ebff;}#sk-container-id-2 input.sk-hidden--visually {border: 0;clip: rect(1px 1px 1px 1px);clip: rect(1px, 1px, 1px, 1px);height: 1px;margin: -1px;overflow: hidden;padding: 0;position: absolute;width: 1px;}#sk-container-id-2 div.sk-estimator {font-family: monospace;background-color: #f0f8ff;border: 1px dotted black;border-radius: 0.25em;box-sizing: border-box;margin-bottom: 0.5em;}#sk-container-id-2 div.sk-estimator:hover {background-color: #d4ebff;}#sk-container-id-2 div.sk-parallel-item::after {content: \"\";width: 100%;border-bottom: 1px solid gray;flex-grow: 1;}#sk-container-id-2 div.sk-label:hover label.sk-toggleable__label {background-color: #d4ebff;}#sk-container-id-2 div.sk-serial::before {content: \"\";position: absolute;border-left: 1px solid gray;box-sizing: border-box;top: 0;bottom: 0;left: 50%;z-index: 0;}#sk-container-id-2 div.sk-serial {display: flex;flex-direction: column;align-items: center;background-color: white;padding-right: 0.2em;padding-left: 0.2em;position: relative;}#sk-container-id-2 div.sk-item {position: relative;z-index: 1;}#sk-container-id-2 div.sk-parallel {display: flex;align-items: stretch;justify-content: center;background-color: white;position: relative;}#sk-container-id-2 div.sk-item::before, #sk-container-id-2 div.sk-parallel-item::before {content: \"\";position: absolute;border-left: 1px solid gray;box-sizing: border-box;top: 0;bottom: 0;left: 50%;z-index: -1;}#sk-container-id-2 div.sk-parallel-item {display: flex;flex-direction: column;z-index: 1;position: relative;background-color: white;}#sk-container-id-2 div.sk-parallel-item:first-child::after {align-self: flex-end;width: 50%;}#sk-container-id-2 div.sk-parallel-item:last-child::after {align-self: flex-start;width: 50%;}#sk-container-id-2 div.sk-parallel-item:only-child::after {width: 0;}#sk-container-id-2 div.sk-dashed-wrapped {border: 1px dashed gray;margin: 0 0.4em 0.5em 0.4em;box-sizing: border-box;padding-bottom: 0.4em;background-color: white;}#sk-container-id-2 div.sk-label label {font-family: monospace;font-weight: bold;display: inline-block;line-height: 1.2em;}#sk-container-id-2 div.sk-label-container {text-align: center;}#sk-container-id-2 div.sk-container {/* jupyter's `normalize.less` sets `[hidden] { display: none; }` but bootstrap.min.css set `[hidden] { display: none !important; }` so we also need the `!important` here to be able to override the default hidden behavior on the sphinx rendered scikit-learn.org. See: https://github.com/scikit-learn/scikit-learn/issues/21755 */display: inline-block !important;position: relative;}#sk-container-id-2 div.sk-text-repr-fallback {display: none;}</style><div id=\"sk-container-id-2\" class=\"sk-top-container\"><div class=\"sk-text-repr-fallback\"><pre>LogisticRegression(random_state=42)</pre><b>In a Jupyter environment, please rerun this cell to show the HTML representation or trust the notebook. <br />On GitHub, the HTML representation is unable to render, please try loading this page with nbviewer.org.</b></div><div class=\"sk-container\" hidden><div class=\"sk-item\"><div class=\"sk-estimator sk-toggleable\"><input class=\"sk-toggleable__control sk-hidden--visually\" id=\"sk-estimator-id-2\" type=\"checkbox\" checked><label for=\"sk-estimator-id-2\" class=\"sk-toggleable__label sk-toggleable__label-arrow\">LogisticRegression</label><div class=\"sk-toggleable__content\"><pre>LogisticRegression(random_state=42)</pre></div></div></div></div></div>"
      ],
      "text/plain": [
       "LogisticRegression(random_state=42)"
      ]
     },
     "execution_count": 79,
     "metadata": {},
     "output_type": "execute_result"
    }
   ],
   "source": [
    "log_clf.fit(bow, y_train)"
   ]
  },
  {
   "cell_type": "code",
   "execution_count": 84,
   "metadata": {},
   "outputs": [],
   "source": [
    "log_pred = log_clf.predict(vec.transform(X_test.lemmas))\n",
    "log_pred_proba = log_clf.predict_proba(vec.transform(X_test.lemmas))[:, 1]"
   ]
  },
  {
   "cell_type": "code",
   "execution_count": 85,
   "metadata": {},
   "outputs": [
    {
     "data": {
      "text/plain": [
       "<Axes: >"
      ]
     },
     "execution_count": 85,
     "metadata": {},
     "output_type": "execute_result"
    },
    {
     "data": {
      "image/png": "[encoded data removed]",
      "text/plain": [
       "<Figure size 640x480 with 1 Axes>"
      ]
     },
     "metadata": {},
     "output_type": "display_data"
    }
   ],
   "source": [
    "pd.Series(log_pred).hist()"
   ]
  },
  {
   "cell_type": "code",
   "execution_count": 86,
   "metadata": {},
   "outputs": [],
   "source": [
    "from sklearn.metrics import accuracy_score, f1_score, classification_report, confusion_matrix, roc_auc_score"
   ]
  },
  {
   "cell_type": "code",
   "execution_count": 88,
   "metadata": {},
   "outputs": [
    {
     "name": "stdout",
     "output_type": "stream",
     "text": [
      "Classification reposrt:\n",
      "              precision    recall  f1-score   support\n",
      "\n",
      "           1       0.78      0.88      0.83      5548\n",
      "           2       0.20      0.13      0.16      1127\n",
      "           3       0.14      0.09      0.11       471\n",
      "           4       0.21      0.12      0.16       304\n",
      "           5       0.89      0.90      0.90      2846\n",
      "\n",
      "    accuracy                           0.74     10296\n",
      "   macro avg       0.45      0.42      0.43     10296\n",
      "weighted avg       0.70      0.74      0.72     10296\n",
      "\n",
      "Confusion matrix:\n",
      "[[4867  426  118   27  110]\n",
      " [ 864  141   72   13   37]\n",
      " [ 293   77   41   28   32]\n",
      " [  72   19   31   38  144]\n",
      " [ 148   25   28   72 2573]]\n",
      "accuracy score: 74.4%\n",
      "f1 score: 71.9%\n"
     ]
    }
   ],
   "source": [
    "from sklearn.metrics import confusion_matrix\n",
    "print(f\"Classification reposrt:\\n{classification_report(y_test, log_pred)}\")\n",
    "print(f\"Confusion matrix:\\n{confusion_matrix(y_test, log_pred)}\")\n",
    "print(f\"accuracy score: {accuracy_score(y_test, log_pred)*100:2.1f}%\")\n",
    "print(f\"f1 score: {f1_score(y_test, log_pred, average='weighted')*100:2.1f}%\")"
   ]
  },
  {
   "cell_type": "code",
   "execution_count": null,
   "metadata": {},
   "outputs": [],
   "source": [
    "# Функция для отправки тестовых данных\n",
    "def make_submission(classificator, vectorizer, test_data, filename='my_submission.csv'):\n",
    "    test_bow = vectorizer.transform(test_data)\n",
    "    test_predict = classificator.predict(test_bow)\n",
    "\n",
    "    test_answer = pd.DataFrame(test_predict, columns=['grades'], index=test_df.index)\n",
    "    test_answer.to_csv(filename, index_label='inds')"
   ]
  },
  {
   "cell_type": "code",
   "execution_count": 214,
   "metadata": {},
   "outputs": [],
   "source": [
    "# создаю тестовые данные\n",
    "make_submission(\n",
    "    vectorizer=vec,\n",
    "    test_data=test_df.lemmas,\n",
    "    classificator=log_clf,\n",
    "    filename='my_answer_count_vectorizer_1_1_log.csv',\n",
    ")\n"
   ]
  },
  {
   "cell_type": "code",
   "execution_count": 91,
   "metadata": {},
   "outputs": [],
   "source": [
    "# Использую для векторизации ngram_range=(2, 2)\n",
    "\n",
    "from sklearn.feature_extraction.text import CountVectorizer\n",
    "\n",
    "vec2 = CountVectorizer(ngram_range=(2, 2))\n",
    "bow2 = vec2.fit_transform(X_train.lemmas)\n"
   ]
  },
  {
   "cell_type": "code",
   "execution_count": 92,
   "metadata": {},
   "outputs": [
    {
     "name": "stderr",
     "output_type": "stream",
     "text": [
      "/root/scripts/python/ml/.venv/lib/python3.10/site-packages/sklearn/linear_model/_logistic.py:458: ConvergenceWarning: lbfgs failed to converge (status=1):\n",
      "STOP: TOTAL NO. of ITERATIONS REACHED LIMIT.\n",
      "\n",
      "Increase the number of iterations (max_iter) or scale the data as shown in:\n",
      "    https://scikit-learn.org/stable/modules/preprocessing.html\n",
      "Please also refer to the documentation for alternative solver options:\n",
      "    https://scikit-learn.org/stable/modules/linear_model.html#logistic-regression\n",
      "  n_iter_i = _check_optimize_result(\n"
     ]
    },
    {
     "data": {
      "text/html": [
       "<style>#sk-container-id-3 {color: black;background-color: white;}#sk-container-id-3 pre{padding: 0;}#sk-container-id-3 div.sk-toggleable {background-color: white;}#sk-container-id-3 label.sk-toggleable__label {cursor: pointer;display: block;width: 100%;margin-bottom: 0;padding: 0.3em;box-sizing: border-box;text-align: center;}#sk-container-id-3 label.sk-toggleable__label-arrow:before {content: \"▸\";float: left;margin-right: 0.25em;color: #696969;}#sk-container-id-3 label.sk-toggleable__label-arrow:hover:before {color: black;}#sk-container-id-3 div.sk-estimator:hover label.sk-toggleable__label-arrow:before {color: black;}#sk-container-id-3 div.sk-toggleable__content {max-height: 0;max-width: 0;overflow: hidden;text-align: left;background-color: #f0f8ff;}#sk-container-id-3 div.sk-toggleable__content pre {margin: 0.2em;color: black;border-radius: 0.25em;background-color: #f0f8ff;}#sk-container-id-3 input.sk-toggleable__control:checked~div.sk-toggleable__content {max-height: 200px;max-width: 100%;overflow: auto;}#sk-container-id-3 input.sk-toggleable__control:checked~label.sk-toggleable__label-arrow:before {content: \"▾\";}#sk-container-id-3 div.sk-estimator input.sk-toggleable__control:checked~label.sk-toggleable__label {background-color: #d4ebff;}#sk-container-id-3 div.sk-label input.sk-toggleable__control:checked~label.sk-toggleable__label {background-color: #d4ebff;}#sk-container-id-3 input.sk-hidden--visually {border: 0;clip: rect(1px 1px 1px 1px);clip: rect(1px, 1px, 1px, 1px);height: 1px;margin: -1px;overflow: hidden;padding: 0;position: absolute;width: 1px;}#sk-container-id-3 div.sk-estimator {font-family: monospace;background-color: #f0f8ff;border: 1px dotted black;border-radius: 0.25em;box-sizing: border-box;margin-bottom: 0.5em;}#sk-container-id-3 div.sk-estimator:hover {background-color: #d4ebff;}#sk-container-id-3 div.sk-parallel-item::after {content: \"\";width: 100%;border-bottom: 1px solid gray;flex-grow: 1;}#sk-container-id-3 div.sk-label:hover label.sk-toggleable__label {background-color: #d4ebff;}#sk-container-id-3 div.sk-serial::before {content: \"\";position: absolute;border-left: 1px solid gray;box-sizing: border-box;top: 0;bottom: 0;left: 50%;z-index: 0;}#sk-container-id-3 div.sk-serial {display: flex;flex-direction: column;align-items: center;background-color: white;padding-right: 0.2em;padding-left: 0.2em;position: relative;}#sk-container-id-3 div.sk-item {position: relative;z-index: 1;}#sk-container-id-3 div.sk-parallel {display: flex;align-items: stretch;justify-content: center;background-color: white;position: relative;}#sk-container-id-3 div.sk-item::before, #sk-container-id-3 div.sk-parallel-item::before {content: \"\";position: absolute;border-left: 1px solid gray;box-sizing: border-box;top: 0;bottom: 0;left: 50%;z-index: -1;}#sk-container-id-3 div.sk-parallel-item {display: flex;flex-direction: column;z-index: 1;position: relative;background-color: white;}#sk-container-id-3 div.sk-parallel-item:first-child::after {align-self: flex-end;width: 50%;}#sk-container-id-3 div.sk-parallel-item:last-child::after {align-self: flex-start;width: 50%;}#sk-container-id-3 div.sk-parallel-item:only-child::after {width: 0;}#sk-container-id-3 div.sk-dashed-wrapped {border: 1px dashed gray;margin: 0 0.4em 0.5em 0.4em;box-sizing: border-box;padding-bottom: 0.4em;background-color: white;}#sk-container-id-3 div.sk-label label {font-family: monospace;font-weight: bold;display: inline-block;line-height: 1.2em;}#sk-container-id-3 div.sk-label-container {text-align: center;}#sk-container-id-3 div.sk-container {/* jupyter's `normalize.less` sets `[hidden] { display: none; }` but bootstrap.min.css set `[hidden] { display: none !important; }` so we also need the `!important` here to be able to override the default hidden behavior on the sphinx rendered scikit-learn.org. See: https://github.com/scikit-learn/scikit-learn/issues/21755 */display: inline-block !important;position: relative;}#sk-container-id-3 div.sk-text-repr-fallback {display: none;}</style><div id=\"sk-container-id-3\" class=\"sk-top-container\"><div class=\"sk-text-repr-fallback\"><pre>LogisticRegression()</pre><b>In a Jupyter environment, please rerun this cell to show the HTML representation or trust the notebook. <br />On GitHub, the HTML representation is unable to render, please try loading this page with nbviewer.org.</b></div><div class=\"sk-container\" hidden><div class=\"sk-item\"><div class=\"sk-estimator sk-toggleable\"><input class=\"sk-toggleable__control sk-hidden--visually\" id=\"sk-estimator-id-3\" type=\"checkbox\" checked><label for=\"sk-estimator-id-3\" class=\"sk-toggleable__label sk-toggleable__label-arrow\">LogisticRegression</label><div class=\"sk-toggleable__content\"><pre>LogisticRegression()</pre></div></div></div></div></div>"
      ],
      "text/plain": [
       "LogisticRegression()"
      ]
     },
     "execution_count": 92,
     "metadata": {},
     "output_type": "execute_result"
    }
   ],
   "source": [
    "log2 = LogisticRegression( max_iter=100, verbose=2)\n",
    "log2.fit(bow2, y_train,)"
   ]
  },
  {
   "cell_type": "code",
   "execution_count": 93,
   "metadata": {},
   "outputs": [],
   "source": [
    "log2_pred = log2.predict(vec2.transform(X_test.lemmas))\n",
    "log2_pred_proba = log2.predict_proba(vec2.transform(X_test.lemmas))[:,1]"
   ]
  },
  {
   "cell_type": "code",
   "execution_count": 94,
   "metadata": {},
   "outputs": [
    {
     "name": "stdout",
     "output_type": "stream",
     "text": [
      "Classification report:\n",
      "              precision    recall  f1-score   support\n",
      "\n",
      "           1       0.74      0.96      0.84      5548\n",
      "           2       0.25      0.05      0.08      1127\n",
      "           3       0.14      0.01      0.02       471\n",
      "           4       0.24      0.01      0.02       304\n",
      "           5       0.89      0.90      0.89      2846\n",
      "\n",
      "    accuracy                           0.77     10296\n",
      "   macro avg       0.45      0.39      0.37     10296\n",
      "weighted avg       0.69      0.77      0.71     10296\n",
      "\n",
      "Confusion matrix:\n",
      "[[5308  118   19    2  101]\n",
      " [1024   56    7    2   38]\n",
      " [ 392   36    5    4   34]\n",
      " [ 142   10    2    4  146]\n",
      " [ 282    8    3    5 2548]]\n",
      "Accuracy score: 76.9%\n",
      "f1 score: 70.8%\n"
     ]
    }
   ],
   "source": [
    "from sklearn.metrics import accuracy_score\n",
    "print(f\"Classification report:\\n{classification_report(y_test, log2_pred)}\")\n",
    "print(f\"Confusion matrix:\\n{confusion_matrix(y_test, log2_pred)}\")\n",
    "print(f\"Accuracy score: {accuracy_score(y_test, log2_pred)*100:2.1f}%\")\n",
    "print(f\"f1 score: {f1_score(y_test, log2_pred, average='weighted')*100:2.1f}%\")"
   ]
  },
  {
   "cell_type": "code",
   "execution_count": 95,
   "metadata": {},
   "outputs": [],
   "source": [
    "# ngram range= (1, 2)\n",
    "\n",
    "vec12 = CountVectorizer(ngram_range=(1, 2))\n",
    "bow12 = vec12.fit_transform(X_train.lemmas)"
   ]
  },
  {
   "cell_type": "code",
   "execution_count": 96,
   "metadata": {},
   "outputs": [
    {
     "data": {
      "text/plain": [
       "((41180, 55975), (41180, 1469147), (41180, 1525122))"
      ]
     },
     "execution_count": 96,
     "metadata": {},
     "output_type": "execute_result"
    }
   ],
   "source": [
    "bow.shape, bow2.shape, bow12.shape"
   ]
  },
  {
   "cell_type": "code",
   "execution_count": 97,
   "metadata": {},
   "outputs": [
    {
     "name": "stderr",
     "output_type": "stream",
     "text": [
      "/root/scripts/python/ml/.venv/lib/python3.10/site-packages/sklearn/linear_model/_logistic.py:458: ConvergenceWarning: lbfgs failed to converge (status=1):\n",
      "STOP: TOTAL NO. of ITERATIONS REACHED LIMIT.\n",
      "\n",
      "Increase the number of iterations (max_iter) or scale the data as shown in:\n",
      "    https://scikit-learn.org/stable/modules/preprocessing.html\n",
      "Please also refer to the documentation for alternative solver options:\n",
      "    https://scikit-learn.org/stable/modules/linear_model.html#logistic-regression\n",
      "  n_iter_i = _check_optimize_result(\n"
     ]
    },
    {
     "data": {
      "text/html": [
       "<style>#sk-container-id-4 {color: black;background-color: white;}#sk-container-id-4 pre{padding: 0;}#sk-container-id-4 div.sk-toggleable {background-color: white;}#sk-container-id-4 label.sk-toggleable__label {cursor: pointer;display: block;width: 100%;margin-bottom: 0;padding: 0.3em;box-sizing: border-box;text-align: center;}#sk-container-id-4 label.sk-toggleable__label-arrow:before {content: \"▸\";float: left;margin-right: 0.25em;color: #696969;}#sk-container-id-4 label.sk-toggleable__label-arrow:hover:before {color: black;}#sk-container-id-4 div.sk-estimator:hover label.sk-toggleable__label-arrow:before {color: black;}#sk-container-id-4 div.sk-toggleable__content {max-height: 0;max-width: 0;overflow: hidden;text-align: left;background-color: #f0f8ff;}#sk-container-id-4 div.sk-toggleable__content pre {margin: 0.2em;color: black;border-radius: 0.25em;background-color: #f0f8ff;}#sk-container-id-4 input.sk-toggleable__control:checked~div.sk-toggleable__content {max-height: 200px;max-width: 100%;overflow: auto;}#sk-container-id-4 input.sk-toggleable__control:checked~label.sk-toggleable__label-arrow:before {content: \"▾\";}#sk-container-id-4 div.sk-estimator input.sk-toggleable__control:checked~label.sk-toggleable__label {background-color: #d4ebff;}#sk-container-id-4 div.sk-label input.sk-toggleable__control:checked~label.sk-toggleable__label {background-color: #d4ebff;}#sk-container-id-4 input.sk-hidden--visually {border: 0;clip: rect(1px 1px 1px 1px);clip: rect(1px, 1px, 1px, 1px);height: 1px;margin: -1px;overflow: hidden;padding: 0;position: absolute;width: 1px;}#sk-container-id-4 div.sk-estimator {font-family: monospace;background-color: #f0f8ff;border: 1px dotted black;border-radius: 0.25em;box-sizing: border-box;margin-bottom: 0.5em;}#sk-container-id-4 div.sk-estimator:hover {background-color: #d4ebff;}#sk-container-id-4 div.sk-parallel-item::after {content: \"\";width: 100%;border-bottom: 1px solid gray;flex-grow: 1;}#sk-container-id-4 div.sk-label:hover label.sk-toggleable__label {background-color: #d4ebff;}#sk-container-id-4 div.sk-serial::before {content: \"\";position: absolute;border-left: 1px solid gray;box-sizing: border-box;top: 0;bottom: 0;left: 50%;z-index: 0;}#sk-container-id-4 div.sk-serial {display: flex;flex-direction: column;align-items: center;background-color: white;padding-right: 0.2em;padding-left: 0.2em;position: relative;}#sk-container-id-4 div.sk-item {position: relative;z-index: 1;}#sk-container-id-4 div.sk-parallel {display: flex;align-items: stretch;justify-content: center;background-color: white;position: relative;}#sk-container-id-4 div.sk-item::before, #sk-container-id-4 div.sk-parallel-item::before {content: \"\";position: absolute;border-left: 1px solid gray;box-sizing: border-box;top: 0;bottom: 0;left: 50%;z-index: -1;}#sk-container-id-4 div.sk-parallel-item {display: flex;flex-direction: column;z-index: 1;position: relative;background-color: white;}#sk-container-id-4 div.sk-parallel-item:first-child::after {align-self: flex-end;width: 50%;}#sk-container-id-4 div.sk-parallel-item:last-child::after {align-self: flex-start;width: 50%;}#sk-container-id-4 div.sk-parallel-item:only-child::after {width: 0;}#sk-container-id-4 div.sk-dashed-wrapped {border: 1px dashed gray;margin: 0 0.4em 0.5em 0.4em;box-sizing: border-box;padding-bottom: 0.4em;background-color: white;}#sk-container-id-4 div.sk-label label {font-family: monospace;font-weight: bold;display: inline-block;line-height: 1.2em;}#sk-container-id-4 div.sk-label-container {text-align: center;}#sk-container-id-4 div.sk-container {/* jupyter's `normalize.less` sets `[hidden] { display: none; }` but bootstrap.min.css set `[hidden] { display: none !important; }` so we also need the `!important` here to be able to override the default hidden behavior on the sphinx rendered scikit-learn.org. See: https://github.com/scikit-learn/scikit-learn/issues/21755 */display: inline-block !important;position: relative;}#sk-container-id-4 div.sk-text-repr-fallback {display: none;}</style><div id=\"sk-container-id-4\" class=\"sk-top-container\"><div class=\"sk-text-repr-fallback\"><pre>LogisticRegression(max_iter=200)</pre><b>In a Jupyter environment, please rerun this cell to show the HTML representation or trust the notebook. <br />On GitHub, the HTML representation is unable to render, please try loading this page with nbviewer.org.</b></div><div class=\"sk-container\" hidden><div class=\"sk-item\"><div class=\"sk-estimator sk-toggleable\"><input class=\"sk-toggleable__control sk-hidden--visually\" id=\"sk-estimator-id-4\" type=\"checkbox\" checked><label for=\"sk-estimator-id-4\" class=\"sk-toggleable__label sk-toggleable__label-arrow\">LogisticRegression</label><div class=\"sk-toggleable__content\"><pre>LogisticRegression(max_iter=200)</pre></div></div></div></div></div>"
      ],
      "text/plain": [
       "LogisticRegression(max_iter=200)"
      ]
     },
     "execution_count": 97,
     "metadata": {},
     "output_type": "execute_result"
    }
   ],
   "source": [
    "log12 = LogisticRegression(max_iter=200)\n",
    "log12.fit(bow12, y_train)"
   ]
  },
  {
   "cell_type": "code",
   "execution_count": 98,
   "metadata": {},
   "outputs": [],
   "source": [
    "bow12_test = vec12.transform(X_test.lemmas)\n",
    "log12_pred = log12.predict(bow12_test)\n",
    "log12_pred_proba = log12.predict_proba(bow12_test)[:,1]"
   ]
  },
  {
   "cell_type": "code",
   "execution_count": 99,
   "metadata": {},
   "outputs": [
    {
     "name": "stdout",
     "output_type": "stream",
     "text": [
      "Classification reposrt:\n",
      "              precision    recall  f1-score   support\n",
      "\n",
      "           1       0.77      0.93      0.85      5548\n",
      "           2       0.26      0.10      0.14      1127\n",
      "           3       0.21      0.07      0.11       471\n",
      "           4       0.24      0.08      0.12       304\n",
      "           5       0.90      0.92      0.91      2846\n",
      "\n",
      "    accuracy                           0.77     10296\n",
      "   macro avg       0.48      0.42      0.43     10296\n",
      "weighted avg       0.71      0.77      0.73     10296\n",
      "\n",
      "Confusion matrix:\n",
      "[[5177  228   58   11   74]\n",
      " [ 935  110   35   14   33]\n",
      " [ 324   60   34   19   34]\n",
      " [  90   13   21   24  156]\n",
      " [ 157   13   15   30 2631]]\n",
      "Accuracy: 77.5%\n",
      "f1 score: 73.2%\n"
     ]
    }
   ],
   "source": [
    "from sklearn.metrics import accuracy_score\n",
    "print(f\"Classification reposrt:\\n{classification_report(y_test, log12_pred)}\")\n",
    "print(f\"Confusion matrix:\\n{confusion_matrix(y_test, log12_pred)}\")\n",
    "print(f\"Accuracy: {accuracy_score(y_test, log12_pred)*100:2.1f}%\")\n",
    "print(f\"f1 score: {f1_score(y_test, log12_pred, average='weighted')*100:2.1f}%\")"
   ]
  },
  {
   "cell_type": "code",
   "execution_count": 100,
   "metadata": {},
   "outputs": [],
   "source": [
    "# сделаем тестовые данные для CountVectorizer(ngram_range=(1, 2))\n",
    "test_bow = vec12.transform(test_df.lemmas)\n",
    "test_predict = log12.predict(test_bow)\n",
    "\n",
    "test_answer = pd.DataFrame(test_predict, columns=['grades'], index=test_df.index)\n",
    "test_answer.to_csv('my_submission_count_vectorizer_1_2_log.csv', index_label='inds')"
   ]
  },
  {
   "cell_type": "code",
   "execution_count": 101,
   "metadata": {},
   "outputs": [
    {
     "data": {
      "text/html": [
       "<style>#sk-container-id-5 {color: black;background-color: white;}#sk-container-id-5 pre{padding: 0;}#sk-container-id-5 div.sk-toggleable {background-color: white;}#sk-container-id-5 label.sk-toggleable__label {cursor: pointer;display: block;width: 100%;margin-bottom: 0;padding: 0.3em;box-sizing: border-box;text-align: center;}#sk-container-id-5 label.sk-toggleable__label-arrow:before {content: \"▸\";float: left;margin-right: 0.25em;color: #696969;}#sk-container-id-5 label.sk-toggleable__label-arrow:hover:before {color: black;}#sk-container-id-5 div.sk-estimator:hover label.sk-toggleable__label-arrow:before {color: black;}#sk-container-id-5 div.sk-toggleable__content {max-height: 0;max-width: 0;overflow: hidden;text-align: left;background-color: #f0f8ff;}#sk-container-id-5 div.sk-toggleable__content pre {margin: 0.2em;color: black;border-radius: 0.25em;background-color: #f0f8ff;}#sk-container-id-5 input.sk-toggleable__control:checked~div.sk-toggleable__content {max-height: 200px;max-width: 100%;overflow: auto;}#sk-container-id-5 input.sk-toggleable__control:checked~label.sk-toggleable__label-arrow:before {content: \"▾\";}#sk-container-id-5 div.sk-estimator input.sk-toggleable__control:checked~label.sk-toggleable__label {background-color: #d4ebff;}#sk-container-id-5 div.sk-label input.sk-toggleable__control:checked~label.sk-toggleable__label {background-color: #d4ebff;}#sk-container-id-5 input.sk-hidden--visually {border: 0;clip: rect(1px 1px 1px 1px);clip: rect(1px, 1px, 1px, 1px);height: 1px;margin: -1px;overflow: hidden;padding: 0;position: absolute;width: 1px;}#sk-container-id-5 div.sk-estimator {font-family: monospace;background-color: #f0f8ff;border: 1px dotted black;border-radius: 0.25em;box-sizing: border-box;margin-bottom: 0.5em;}#sk-container-id-5 div.sk-estimator:hover {background-color: #d4ebff;}#sk-container-id-5 div.sk-parallel-item::after {content: \"\";width: 100%;border-bottom: 1px solid gray;flex-grow: 1;}#sk-container-id-5 div.sk-label:hover label.sk-toggleable__label {background-color: #d4ebff;}#sk-container-id-5 div.sk-serial::before {content: \"\";position: absolute;border-left: 1px solid gray;box-sizing: border-box;top: 0;bottom: 0;left: 50%;z-index: 0;}#sk-container-id-5 div.sk-serial {display: flex;flex-direction: column;align-items: center;background-color: white;padding-right: 0.2em;padding-left: 0.2em;position: relative;}#sk-container-id-5 div.sk-item {position: relative;z-index: 1;}#sk-container-id-5 div.sk-parallel {display: flex;align-items: stretch;justify-content: center;background-color: white;position: relative;}#sk-container-id-5 div.sk-item::before, #sk-container-id-5 div.sk-parallel-item::before {content: \"\";position: absolute;border-left: 1px solid gray;box-sizing: border-box;top: 0;bottom: 0;left: 50%;z-index: -1;}#sk-container-id-5 div.sk-parallel-item {display: flex;flex-direction: column;z-index: 1;position: relative;background-color: white;}#sk-container-id-5 div.sk-parallel-item:first-child::after {align-self: flex-end;width: 50%;}#sk-container-id-5 div.sk-parallel-item:last-child::after {align-self: flex-start;width: 50%;}#sk-container-id-5 div.sk-parallel-item:only-child::after {width: 0;}#sk-container-id-5 div.sk-dashed-wrapped {border: 1px dashed gray;margin: 0 0.4em 0.5em 0.4em;box-sizing: border-box;padding-bottom: 0.4em;background-color: white;}#sk-container-id-5 div.sk-label label {font-family: monospace;font-weight: bold;display: inline-block;line-height: 1.2em;}#sk-container-id-5 div.sk-label-container {text-align: center;}#sk-container-id-5 div.sk-container {/* jupyter's `normalize.less` sets `[hidden] { display: none; }` but bootstrap.min.css set `[hidden] { display: none !important; }` so we also need the `!important` here to be able to override the default hidden behavior on the sphinx rendered scikit-learn.org. See: https://github.com/scikit-learn/scikit-learn/issues/21755 */display: inline-block !important;position: relative;}#sk-container-id-5 div.sk-text-repr-fallback {display: none;}</style><div id=\"sk-container-id-5\" class=\"sk-top-container\"><div class=\"sk-text-repr-fallback\"><pre>AdaBoostClassifier(n_estimators=100)</pre><b>In a Jupyter environment, please rerun this cell to show the HTML representation or trust the notebook. <br />On GitHub, the HTML representation is unable to render, please try loading this page with nbviewer.org.</b></div><div class=\"sk-container\" hidden><div class=\"sk-item\"><div class=\"sk-estimator sk-toggleable\"><input class=\"sk-toggleable__control sk-hidden--visually\" id=\"sk-estimator-id-5\" type=\"checkbox\" checked><label for=\"sk-estimator-id-5\" class=\"sk-toggleable__label sk-toggleable__label-arrow\">AdaBoostClassifier</label><div class=\"sk-toggleable__content\"><pre>AdaBoostClassifier(n_estimators=100)</pre></div></div></div></div></div>"
      ],
      "text/plain": [
       "AdaBoostClassifier(n_estimators=100)"
      ]
     },
     "execution_count": 101,
     "metadata": {},
     "output_type": "execute_result"
    }
   ],
   "source": [
    "# import microsoft boost classifier\n",
    "from sklearn.ensemble import AdaBoostClassifier\n",
    "ada = AdaBoostClassifier(n_estimators=100)\n",
    "\n",
    "ada.fit(bow12, y_train, )"
   ]
  },
  {
   "cell_type": "code",
   "execution_count": 102,
   "metadata": {},
   "outputs": [
    {
     "name": "stdout",
     "output_type": "stream",
     "text": [
      "Classification reposrt:\n",
      "              precision    recall  f1-score   support\n",
      "\n",
      "           1       0.74      0.96      0.83      5548\n",
      "           2       0.74      0.02      0.03      1127\n",
      "           3       0.33      0.00      0.01       471\n",
      "           4       0.31      0.06      0.10       304\n",
      "           5       0.83      0.86      0.85      2846\n",
      "\n",
      "    accuracy                           0.76     10296\n",
      "   macro avg       0.59      0.38      0.36     10296\n",
      "weighted avg       0.73      0.76      0.69     10296\n",
      "\n",
      "Confusion matrix:\n",
      "[[5332    3    1   13  199]\n",
      " [1019   17    1   10   80]\n",
      " [ 400    1    2    6   62]\n",
      " [ 123    1    1   19  160]\n",
      " [ 370    1    1   13 2461]]\n",
      "Accuracy: 76.1%\n",
      "f1 score: 69.0%\n"
     ]
    }
   ],
   "source": [
    "ada_pred = ada.predict(bow12_test)\n",
    "\n",
    "print(f\"Classification reposrt:\\n{classification_report(y_test, ada_pred)}\")\n",
    "print(f\"Confusion matrix:\\n{confusion_matrix(y_test, ada_pred)}\")\n",
    "print(f\"Accuracy: {accuracy_score(y_test, ada_pred)*100:2.1f}%\")\n",
    "print(f\"f1 score: {f1_score(y_test, ada_pred, average='weighted')*100:2.1f}%\")"
   ]
  },
  {
   "cell_type": "code",
   "execution_count": 103,
   "metadata": {},
   "outputs": [],
   "source": [
    "# AdaBoost показал чуть худшую метрику"
   ]
  },
  {
   "cell_type": "code",
   "execution_count": 104,
   "metadata": {},
   "outputs": [
    {
     "name": "stderr",
     "output_type": "stream",
     "text": [
      "[nltk_data] Downloading package punkt to /root/nltk_data...\n",
      "[nltk_data]   Package punkt is already up-to-date!\n",
      "/root/scripts/python/ml/.venv/lib/python3.10/site-packages/sklearn/feature_extraction/text.py:528: UserWarning: The parameter 'token_pattern' will not be used since 'tokenizer' is not None'\n",
      "  warnings.warn(\n"
     ]
    }
   ],
   "source": [
    "# теперь веткоризавтор на основе подсчета tf-idf\n",
    "nltk.download('punkt')\n",
    "from sklearn.feature_extraction.text import TfidfVectorizer\n",
    "from nltk.tokenize import word_tokenize\n",
    "\n",
    "tf_vec1 = TfidfVectorizer(ngram_range=(1, 1), tokenizer=word_tokenize)\n",
    "tf_bow1 = tf_vec1.fit_transform(X_train.lemmas)\n"
   ]
  },
  {
   "cell_type": "code",
   "execution_count": 105,
   "metadata": {},
   "outputs": [
    {
     "data": {
      "text/html": [
       "<style>#sk-container-id-6 {color: black;background-color: white;}#sk-container-id-6 pre{padding: 0;}#sk-container-id-6 div.sk-toggleable {background-color: white;}#sk-container-id-6 label.sk-toggleable__label {cursor: pointer;display: block;width: 100%;margin-bottom: 0;padding: 0.3em;box-sizing: border-box;text-align: center;}#sk-container-id-6 label.sk-toggleable__label-arrow:before {content: \"▸\";float: left;margin-right: 0.25em;color: #696969;}#sk-container-id-6 label.sk-toggleable__label-arrow:hover:before {color: black;}#sk-container-id-6 div.sk-estimator:hover label.sk-toggleable__label-arrow:before {color: black;}#sk-container-id-6 div.sk-toggleable__content {max-height: 0;max-width: 0;overflow: hidden;text-align: left;background-color: #f0f8ff;}#sk-container-id-6 div.sk-toggleable__content pre {margin: 0.2em;color: black;border-radius: 0.25em;background-color: #f0f8ff;}#sk-container-id-6 input.sk-toggleable__control:checked~div.sk-toggleable__content {max-height: 200px;max-width: 100%;overflow: auto;}#sk-container-id-6 input.sk-toggleable__control:checked~label.sk-toggleable__label-arrow:before {content: \"▾\";}#sk-container-id-6 div.sk-estimator input.sk-toggleable__control:checked~label.sk-toggleable__label {background-color: #d4ebff;}#sk-container-id-6 div.sk-label input.sk-toggleable__control:checked~label.sk-toggleable__label {background-color: #d4ebff;}#sk-container-id-6 input.sk-hidden--visually {border: 0;clip: rect(1px 1px 1px 1px);clip: rect(1px, 1px, 1px, 1px);height: 1px;margin: -1px;overflow: hidden;padding: 0;position: absolute;width: 1px;}#sk-container-id-6 div.sk-estimator {font-family: monospace;background-color: #f0f8ff;border: 1px dotted black;border-radius: 0.25em;box-sizing: border-box;margin-bottom: 0.5em;}#sk-container-id-6 div.sk-estimator:hover {background-color: #d4ebff;}#sk-container-id-6 div.sk-parallel-item::after {content: \"\";width: 100%;border-bottom: 1px solid gray;flex-grow: 1;}#sk-container-id-6 div.sk-label:hover label.sk-toggleable__label {background-color: #d4ebff;}#sk-container-id-6 div.sk-serial::before {content: \"\";position: absolute;border-left: 1px solid gray;box-sizing: border-box;top: 0;bottom: 0;left: 50%;z-index: 0;}#sk-container-id-6 div.sk-serial {display: flex;flex-direction: column;align-items: center;background-color: white;padding-right: 0.2em;padding-left: 0.2em;position: relative;}#sk-container-id-6 div.sk-item {position: relative;z-index: 1;}#sk-container-id-6 div.sk-parallel {display: flex;align-items: stretch;justify-content: center;background-color: white;position: relative;}#sk-container-id-6 div.sk-item::before, #sk-container-id-6 div.sk-parallel-item::before {content: \"\";position: absolute;border-left: 1px solid gray;box-sizing: border-box;top: 0;bottom: 0;left: 50%;z-index: -1;}#sk-container-id-6 div.sk-parallel-item {display: flex;flex-direction: column;z-index: 1;position: relative;background-color: white;}#sk-container-id-6 div.sk-parallel-item:first-child::after {align-self: flex-end;width: 50%;}#sk-container-id-6 div.sk-parallel-item:last-child::after {align-self: flex-start;width: 50%;}#sk-container-id-6 div.sk-parallel-item:only-child::after {width: 0;}#sk-container-id-6 div.sk-dashed-wrapped {border: 1px dashed gray;margin: 0 0.4em 0.5em 0.4em;box-sizing: border-box;padding-bottom: 0.4em;background-color: white;}#sk-container-id-6 div.sk-label label {font-family: monospace;font-weight: bold;display: inline-block;line-height: 1.2em;}#sk-container-id-6 div.sk-label-container {text-align: center;}#sk-container-id-6 div.sk-container {/* jupyter's `normalize.less` sets `[hidden] { display: none; }` but bootstrap.min.css set `[hidden] { display: none !important; }` so we also need the `!important` here to be able to override the default hidden behavior on the sphinx rendered scikit-learn.org. See: https://github.com/scikit-learn/scikit-learn/issues/21755 */display: inline-block !important;position: relative;}#sk-container-id-6 div.sk-text-repr-fallback {display: none;}</style><div id=\"sk-container-id-6\" class=\"sk-top-container\"><div class=\"sk-text-repr-fallback\"><pre>LogisticRegression(max_iter=300)</pre><b>In a Jupyter environment, please rerun this cell to show the HTML representation or trust the notebook. <br />On GitHub, the HTML representation is unable to render, please try loading this page with nbviewer.org.</b></div><div class=\"sk-container\" hidden><div class=\"sk-item\"><div class=\"sk-estimator sk-toggleable\"><input class=\"sk-toggleable__control sk-hidden--visually\" id=\"sk-estimator-id-6\" type=\"checkbox\" checked><label for=\"sk-estimator-id-6\" class=\"sk-toggleable__label sk-toggleable__label-arrow\">LogisticRegression</label><div class=\"sk-toggleable__content\"><pre>LogisticRegression(max_iter=300)</pre></div></div></div></div></div>"
      ],
      "text/plain": [
       "LogisticRegression(max_iter=300)"
      ]
     },
     "execution_count": 105,
     "metadata": {},
     "output_type": "execute_result"
    }
   ],
   "source": [
    "tf_log1 = LogisticRegression(max_iter=300)\n",
    "tf_log1.fit(tf_bow1, y_train)"
   ]
  },
  {
   "cell_type": "code",
   "execution_count": 106,
   "metadata": {},
   "outputs": [],
   "source": [
    "tf_bow1_test = tf_vec1.transform(X_test.lemmas)\n",
    "tf_log1_pred = tf_log1.predict(tf_bow1_test)\n",
    "tf_log1_pred_proba = tf_log1.predict_proba(tf_bow1_test)\n"
   ]
  },
  {
   "cell_type": "code",
   "execution_count": 107,
   "metadata": {},
   "outputs": [
    {
     "name": "stdout",
     "output_type": "stream",
     "text": [
      "Classification reposrt:\n",
      "              precision    recall  f1-score   support\n",
      "\n",
      "           1       0.75      0.98      0.85      5548\n",
      "           2       0.27      0.02      0.05      1127\n",
      "           3       0.30      0.01      0.03       471\n",
      "           4       0.41      0.02      0.04       304\n",
      "           5       0.90      0.92      0.91      2846\n",
      "\n",
      "    accuracy                           0.79     10296\n",
      "   macro avg       0.53      0.39      0.38     10296\n",
      "weighted avg       0.71      0.79      0.72     10296\n",
      "\n",
      "Confusion matrix:\n",
      "[[5443   39    5    1   60]\n",
      " [1070   28    2    0   27]\n",
      " [ 396   23    7    3   42]\n",
      " [ 117    7    8    7  165]\n",
      " [ 210    6    1    6 2623]]\n",
      "Accuracy score: 78.7%\n",
      "f1 score: 71.8%\n"
     ]
    }
   ],
   "source": [
    "print(f\"Classification reposrt:\\n{classification_report(y_test, tf_log1_pred)}\")\n",
    "print(f\"Confusion matrix:\\n{confusion_matrix(y_test, tf_log1_pred)}\")\n",
    "print(f\"Accuracy score: {accuracy_score(y_test, tf_log1_pred)*100:2.1f}%\")\n",
    "print(f\"f1 score: {f1_score(y_test, tf_log1_pred, average='weighted')*100:2.1f}%\")"
   ]
  },
  {
   "cell_type": "code",
   "execution_count": 108,
   "metadata": {},
   "outputs": [],
   "source": [
    "test_tf_bow = tf_vec1.transform(test_df.lemmas)\n",
    "test_tf_predict = tf_log1.predict(test_tf_bow)\n",
    "\n",
    "test_answer = pd.DataFrame(test_tf_predict, columns=['grades'], index=test_df.index)\n",
    "test_answer.to_csv('my_submission_tf_idf_ngrams=1_1.csv', index_label='inds')"
   ]
  },
  {
   "cell_type": "code",
   "execution_count": 109,
   "metadata": {},
   "outputs": [
    {
     "data": {
      "text/html": [
       "<style>#sk-container-id-7 {color: black;background-color: white;}#sk-container-id-7 pre{padding: 0;}#sk-container-id-7 div.sk-toggleable {background-color: white;}#sk-container-id-7 label.sk-toggleable__label {cursor: pointer;display: block;width: 100%;margin-bottom: 0;padding: 0.3em;box-sizing: border-box;text-align: center;}#sk-container-id-7 label.sk-toggleable__label-arrow:before {content: \"▸\";float: left;margin-right: 0.25em;color: #696969;}#sk-container-id-7 label.sk-toggleable__label-arrow:hover:before {color: black;}#sk-container-id-7 div.sk-estimator:hover label.sk-toggleable__label-arrow:before {color: black;}#sk-container-id-7 div.sk-toggleable__content {max-height: 0;max-width: 0;overflow: hidden;text-align: left;background-color: #f0f8ff;}#sk-container-id-7 div.sk-toggleable__content pre {margin: 0.2em;color: black;border-radius: 0.25em;background-color: #f0f8ff;}#sk-container-id-7 input.sk-toggleable__control:checked~div.sk-toggleable__content {max-height: 200px;max-width: 100%;overflow: auto;}#sk-container-id-7 input.sk-toggleable__control:checked~label.sk-toggleable__label-arrow:before {content: \"▾\";}#sk-container-id-7 div.sk-estimator input.sk-toggleable__control:checked~label.sk-toggleable__label {background-color: #d4ebff;}#sk-container-id-7 div.sk-label input.sk-toggleable__control:checked~label.sk-toggleable__label {background-color: #d4ebff;}#sk-container-id-7 input.sk-hidden--visually {border: 0;clip: rect(1px 1px 1px 1px);clip: rect(1px, 1px, 1px, 1px);height: 1px;margin: -1px;overflow: hidden;padding: 0;position: absolute;width: 1px;}#sk-container-id-7 div.sk-estimator {font-family: monospace;background-color: #f0f8ff;border: 1px dotted black;border-radius: 0.25em;box-sizing: border-box;margin-bottom: 0.5em;}#sk-container-id-7 div.sk-estimator:hover {background-color: #d4ebff;}#sk-container-id-7 div.sk-parallel-item::after {content: \"\";width: 100%;border-bottom: 1px solid gray;flex-grow: 1;}#sk-container-id-7 div.sk-label:hover label.sk-toggleable__label {background-color: #d4ebff;}#sk-container-id-7 div.sk-serial::before {content: \"\";position: absolute;border-left: 1px solid gray;box-sizing: border-box;top: 0;bottom: 0;left: 50%;z-index: 0;}#sk-container-id-7 div.sk-serial {display: flex;flex-direction: column;align-items: center;background-color: white;padding-right: 0.2em;padding-left: 0.2em;position: relative;}#sk-container-id-7 div.sk-item {position: relative;z-index: 1;}#sk-container-id-7 div.sk-parallel {display: flex;align-items: stretch;justify-content: center;background-color: white;position: relative;}#sk-container-id-7 div.sk-item::before, #sk-container-id-7 div.sk-parallel-item::before {content: \"\";position: absolute;border-left: 1px solid gray;box-sizing: border-box;top: 0;bottom: 0;left: 50%;z-index: -1;}#sk-container-id-7 div.sk-parallel-item {display: flex;flex-direction: column;z-index: 1;position: relative;background-color: white;}#sk-container-id-7 div.sk-parallel-item:first-child::after {align-self: flex-end;width: 50%;}#sk-container-id-7 div.sk-parallel-item:last-child::after {align-self: flex-start;width: 50%;}#sk-container-id-7 div.sk-parallel-item:only-child::after {width: 0;}#sk-container-id-7 div.sk-dashed-wrapped {border: 1px dashed gray;margin: 0 0.4em 0.5em 0.4em;box-sizing: border-box;padding-bottom: 0.4em;background-color: white;}#sk-container-id-7 div.sk-label label {font-family: monospace;font-weight: bold;display: inline-block;line-height: 1.2em;}#sk-container-id-7 div.sk-label-container {text-align: center;}#sk-container-id-7 div.sk-container {/* jupyter's `normalize.less` sets `[hidden] { display: none; }` but bootstrap.min.css set `[hidden] { display: none !important; }` so we also need the `!important` here to be able to override the default hidden behavior on the sphinx rendered scikit-learn.org. See: https://github.com/scikit-learn/scikit-learn/issues/21755 */display: inline-block !important;position: relative;}#sk-container-id-7 div.sk-text-repr-fallback {display: none;}</style><div id=\"sk-container-id-7\" class=\"sk-top-container\"><div class=\"sk-text-repr-fallback\"><pre>AdaBoostClassifier(n_estimators=100)</pre><b>In a Jupyter environment, please rerun this cell to show the HTML representation or trust the notebook. <br />On GitHub, the HTML representation is unable to render, please try loading this page with nbviewer.org.</b></div><div class=\"sk-container\" hidden><div class=\"sk-item\"><div class=\"sk-estimator sk-toggleable\"><input class=\"sk-toggleable__control sk-hidden--visually\" id=\"sk-estimator-id-7\" type=\"checkbox\" checked><label for=\"sk-estimator-id-7\" class=\"sk-toggleable__label sk-toggleable__label-arrow\">AdaBoostClassifier</label><div class=\"sk-toggleable__content\"><pre>AdaBoostClassifier(n_estimators=100)</pre></div></div></div></div></div>"
      ],
      "text/plain": [
       "AdaBoostClassifier(n_estimators=100)"
      ]
     },
     "execution_count": 109,
     "metadata": {},
     "output_type": "execute_result"
    }
   ],
   "source": [
    "# Ada Boost Classifier for tf-idf Vectorizer\n",
    "\n",
    "ada = AdaBoostClassifier(n_estimators=100)\n",
    "ada.fit(tf_bow1, y_train)\n"
   ]
  },
  {
   "cell_type": "code",
   "execution_count": 110,
   "metadata": {},
   "outputs": [
    {
     "name": "stdout",
     "output_type": "stream",
     "text": [
      "Ada Classification reposrt:\n",
      "              precision    recall  f1-score   support\n",
      "\n",
      "           1       0.74      0.96      0.84      5548\n",
      "           2       0.62      0.01      0.03      1127\n",
      "           3       0.00      0.00      0.00       471\n",
      "           4       0.32      0.07      0.12       304\n",
      "           5       0.84      0.88      0.86      2846\n",
      "\n",
      "    accuracy                           0.77     10296\n",
      "   macro avg       0.50      0.39      0.37     10296\n",
      "weighted avg       0.71      0.77      0.69     10296\n",
      "\n",
      "Ada Confusion matrix:\n",
      "[[5350    4    1   10  183]\n",
      " [1034   15    2   10   66]\n",
      " [ 389    3    0    5   74]\n",
      " [ 123    1    2   22  156]\n",
      " [ 327    1    2   22 2494]]\n",
      "Ada Accuracy score: 76.5%\n",
      "Ada f1 score: 69.5%\n"
     ]
    }
   ],
   "source": [
    "ada_pred = ada.predict(tf_bow1_test)\n",
    "print(f\"Ada Classification reposrt:\\n{classification_report(y_test, ada_pred)}\")\n",
    "print(f\"Ada Confusion matrix:\\n{confusion_matrix(y_test, ada_pred)}\")\n",
    "print(f\"Ada Accuracy score: {accuracy_score(y_test, ada_pred)*100:2.1f}%\")\n",
    "print(f\"Ada f1 score: {f1_score(y_test, ada_pred, average='weighted')*100:2.1f}%\")"
   ]
  },
  {
   "cell_type": "markdown",
   "metadata": {},
   "source": [
    "## tf-idf for ngram_range=(1, 2)\n",
    "\n",
    "tf_vec12 = TfidfVectorizer(ngram_range=(1, 2), stop_words=['russian'], tokenizer=word_tokenize)\n",
    "tf_vec12.fit(X_train.lemmas)\n",
    "\n",
    "tf_bow12 = tf_vec12.transform(X_train.lemmas)\n",
    "tf_bow12_test = tf_vec12.transform(X_test.lemmas)"
   ]
  },
  {
   "cell_type": "markdown",
   "metadata": {},
   "source": [
    "# accuracy = 78.5, f1_score=70.9\n",
    "\n",
    "tf_log12 = LogisticRegression(max_iter=100)\n",
    "tf_log12.fit(tf_bow12, y_train)\n",
    "\n",
    "tf_log12_pred = tf_log12.predict(tf_bow12_test)\n",
    "print(f\"Classification reposrt:\\n{classification_report(y_test, tf_log12_pred)}\")\n",
    "print(f\"Confusion matrix:\\n{confusion_matrix(y_test, tf_log12_pred)}\")\n",
    "print(f\"Accuracy score: {accuracy_score(y_test, tf_log12_pred)*100:2.1f}%\")\n",
    "print(f\"f1 score: {f1_score(y_test, tf_log12_pred, average='weighted')*100:2.1f}%\")"
   ]
  },
  {
   "cell_type": "code",
   "execution_count": 190,
   "metadata": {},
   "outputs": [
    {
     "name": "stdout",
     "output_type": "stream",
     "text": [
      " Размер словаря:21426\n"
     ]
    }
   ],
   "source": [
    "# использую символьные н-граммы\n",
    "\n",
    "ch_vec = CountVectorizer(analyzer='char_wb', ngram_range=(3, 3), )\n",
    "ch_vec.fit(X_train.lemmas)\n",
    "print(f\" Размер словаря:{len(ch_vec.vocabulary_)}\")"
   ]
  },
  {
   "cell_type": "code",
   "execution_count": 191,
   "metadata": {},
   "outputs": [],
   "source": [
    "bow_ch1 = ch_vec.transform(X_train.lemmas)\n",
    "bow_ch1_test = ch_vec.transform(X_test.lemmas)"
   ]
  },
  {
   "cell_type": "code",
   "execution_count": 192,
   "metadata": {},
   "outputs": [],
   "source": [
    "ch1_log = LogisticRegression(\n",
    "    multi_class='multinomial', \n",
    "    n_jobs=16, \n",
    "    verbose=0, \n",
    "    max_iter=200,\n",
    "    random_state=RANDOM_STATE\n",
    ")"
   ]
  },
  {
   "cell_type": "code",
   "execution_count": 193,
   "metadata": {},
   "outputs": [
    {
     "name": "stderr",
     "output_type": "stream",
     "text": [
      "/root/scripts/python/ml/.venv/lib/python3.10/site-packages/sklearn/linear_model/_logistic.py:458: ConvergenceWarning: lbfgs failed to converge (status=1):\n",
      "STOP: TOTAL NO. of ITERATIONS REACHED LIMIT.\n",
      "\n",
      "Increase the number of iterations (max_iter) or scale the data as shown in:\n",
      "    https://scikit-learn.org/stable/modules/preprocessing.html\n",
      "Please also refer to the documentation for alternative solver options:\n",
      "    https://scikit-learn.org/stable/modules/linear_model.html#logistic-regression\n",
      "  n_iter_i = _check_optimize_result(\n"
     ]
    }
   ],
   "source": [
    "ch1_log.fit(bow_ch1, y_train)\n",
    "None"
   ]
  },
  {
   "cell_type": "code",
   "execution_count": 194,
   "metadata": {},
   "outputs": [
    {
     "name": "stdout",
     "output_type": "stream",
     "text": [
      "Classification reposrt:\n",
      "              precision    recall  f1-score   support\n",
      "\n",
      "           1       0.77      0.93      0.84      5548\n",
      "           2       0.23      0.07      0.10      1127\n",
      "           3       0.15      0.05      0.08       471\n",
      "           4       0.25      0.08      0.12       304\n",
      "           5       0.88      0.92      0.90      2846\n",
      "\n",
      "    accuracy                           0.77     10296\n",
      "   macro avg       0.45      0.41      0.41     10296\n",
      "weighted avg       0.69      0.77      0.72     10296\n",
      "\n",
      "Confusion matrix:\n",
      "[[5148  192   68   20  120]\n",
      " [ 957   76   44   11   39]\n",
      " [ 348   40   25   18   40]\n",
      " [  92   15   17   25  155]\n",
      " [ 179   14    9   28 2616]]\n",
      "Accuracy score: 76.6%\n",
      "f1 score: 71.9%\n"
     ]
    }
   ],
   "source": [
    "ch1_pred = ch1_log.predict(bow_ch1_test)\n",
    "\n",
    "print_results(y_test, ch1_pred)"
   ]
  },
  {
   "cell_type": "code",
   "execution_count": 203,
   "metadata": {},
   "outputs": [
    {
     "name": "stderr",
     "output_type": "stream",
     "text": [
      "/root/scripts/python/ml/.venv/lib/python3.10/site-packages/sklearn/feature_extraction/text.py:528: UserWarning: The parameter 'token_pattern' will not be used since 'tokenizer' is not None'\n",
      "  warnings.warn(\n",
      "/root/scripts/python/ml/.venv/lib/python3.10/site-packages/sklearn/feature_extraction/text.py:563: UserWarning: The parameter 'tokenizer' will not be used since 'analyzer' != 'word'\n",
      "  warnings.warn(\n"
     ]
    },
    {
     "name": "stdout",
     "output_type": "stream",
     "text": [
      " Размер словаря:72368\n"
     ]
    }
   ],
   "source": [
    "# применю н-граммы к оригинальному тексту\n",
    "ch_vec = CountVectorizer(analyzer='char_wb', ngram_range=(3, 3), tokenizer=word_tokenize)\n",
    "ch_vec.fit(X_train.feeds)\n",
    "print(f\" Размер словаря:{len(ch_vec.vocabulary_)}\")"
   ]
  },
  {
   "cell_type": "code",
   "execution_count": 205,
   "metadata": {},
   "outputs": [],
   "source": [
    "bow_ch2 = ch_vec.transform(X_train.lemmas)\n",
    "bow_ch2_test = ch_vec.transform(X_test.lemmas)"
   ]
  },
  {
   "cell_type": "code",
   "execution_count": 206,
   "metadata": {},
   "outputs": [
    {
     "name": "stderr",
     "output_type": "stream",
     "text": [
      "/root/scripts/python/ml/.venv/lib/python3.10/site-packages/sklearn/linear_model/_logistic.py:458: ConvergenceWarning: lbfgs failed to converge (status=1):\n",
      "STOP: TOTAL NO. of ITERATIONS REACHED LIMIT.\n",
      "\n",
      "Increase the number of iterations (max_iter) or scale the data as shown in:\n",
      "    https://scikit-learn.org/stable/modules/preprocessing.html\n",
      "Please also refer to the documentation for alternative solver options:\n",
      "    https://scikit-learn.org/stable/modules/linear_model.html#logistic-regression\n",
      "  n_iter_i = _check_optimize_result(\n"
     ]
    }
   ],
   "source": [
    "ch2_log = LogisticRegression(\n",
    "    multi_class='multinomial', \n",
    "    n_jobs=16, \n",
    "    verbose=0, \n",
    "    max_iter=200,\n",
    "    random_state=RANDOM_STATE\n",
    ")\n",
    "ch2_log.fit(bow_ch2, y_train)\n",
    "None"
   ]
  },
  {
   "cell_type": "code",
   "execution_count": 208,
   "metadata": {},
   "outputs": [
    {
     "name": "stdout",
     "output_type": "stream",
     "text": [
      "Classification reposrt:\n",
      "              precision    recall  f1-score   support\n",
      "\n",
      "           1       0.77      0.92      0.84      5548\n",
      "           2       0.22      0.07      0.11      1127\n",
      "           3       0.15      0.05      0.08       471\n",
      "           4       0.25      0.09      0.13       304\n",
      "           5       0.88      0.92      0.90      2846\n",
      "\n",
      "    accuracy                           0.76     10296\n",
      "   macro avg       0.45      0.41      0.41     10296\n",
      "weighted avg       0.69      0.76      0.72     10296\n",
      "\n",
      "Confusion matrix:\n",
      "[[5119  214   68   22  125]\n",
      " [ 950   79   45   13   40]\n",
      " [ 346   38   25   18   44]\n",
      " [  87   17   22   27  151]\n",
      " [ 178   16    7   30 2615]]\n",
      "Accuracy score: 76.4%\n",
      "f1 score: 71.9%\n"
     ]
    }
   ],
   "source": [
    "ch2_pred = ch2_log.predict(bow_ch2_test)\n",
    "\n",
    "print_results(y_test, ch2_pred)"
   ]
  },
  {
   "cell_type": "code",
   "execution_count": 212,
   "metadata": {},
   "outputs": [],
   "source": [
    "make_submission(\n",
    "    classificator=ch2_log,\n",
    "    vectorizer=ch_vec,\n",
    "    test_data=test_df.feeds,\n",
    "    filename='my_submission_countvectorizer_ch3_3_feeds.csv'\n",
    ")"
   ]
  },
  {
   "cell_type": "code",
   "execution_count": 220,
   "metadata": {},
   "outputs": [
    {
     "name": "stderr",
     "output_type": "stream",
     "text": [
      "/root/scripts/python/ml/.venv/lib/python3.10/site-packages/sklearn/feature_extraction/text.py:528: UserWarning: The parameter 'token_pattern' will not be used since 'tokenizer' is not None'\n",
      "  warnings.warn(\n",
      "/root/scripts/python/ml/.venv/lib/python3.10/site-packages/sklearn/feature_extraction/text.py:563: UserWarning: The parameter 'tokenizer' will not be used since 'analyzer' != 'word'\n",
      "  warnings.warn(\n"
     ]
    }
   ],
   "source": [
    "vec = TfidfVectorizer(\n",
    "    lowercase=True, \n",
    "    ngram_range=(3, 3), \n",
    "    analyzer='char_wb',\n",
    "    tokenizer=word_tokenize,\n",
    "    )\n",
    "\n",
    "vec.fit(X_train.feeds)\n",
    "print(f\"Размер словаря = {vec.vocabulary_.__len__()}\")"
   ]
  },
  {
   "cell_type": "code",
   "execution_count": 225,
   "metadata": {},
   "outputs": [
    {
     "name": "stdout",
     "output_type": "stream",
     "text": [
      "Размер словаря = 72368\n"
     ]
    }
   ],
   "source": [
    "print(f\"Размер словаря = {vec.vocabulary_.__len__()}\")"
   ]
  },
  {
   "cell_type": "code",
   "execution_count": 228,
   "metadata": {},
   "outputs": [],
   "source": [
    "bow = vec.transform(X_train.feeds)\n",
    "bow_test = vec.transform(X_test.feeds)"
   ]
  },
  {
   "cell_type": "code",
   "execution_count": 229,
   "metadata": {},
   "outputs": [],
   "source": [
    "lr = LogisticRegression(max_iter=500, multi_class='multinomial', random_state=RANDOM_STATE)\n",
    "lr.fit(bow, y_train)\n",
    "None"
   ]
  },
  {
   "cell_type": "code",
   "execution_count": 230,
   "metadata": {},
   "outputs": [
    {
     "name": "stdout",
     "output_type": "stream",
     "text": [
      "Classification reposrt:\n",
      "              precision    recall  f1-score   support\n",
      "\n",
      "           1       0.98      0.75      0.85      7284\n",
      "           2       0.02      0.21      0.03        89\n",
      "           3       0.01      0.38      0.02        13\n",
      "           4       0.01      0.31      0.03        13\n",
      "           5       0.92      0.90      0.91      2897\n",
      "\n",
      "    accuracy                           0.79     10296\n",
      "   macro avg       0.39      0.51      0.37     10296\n",
      "weighted avg       0.95      0.79      0.86     10296\n",
      "\n",
      "Confusion matrix:\n",
      "[[5455 1076  413  116  224]\n",
      " [  33   19   15   11   11]\n",
      " [   1    1    5    5    1]\n",
      " [   0    0    4    4    5]\n",
      " [  59   31   34  168 2605]]\n",
      "Accuracy score: 78.6%\n",
      "f1 score: 85.7%\n"
     ]
    }
   ],
   "source": [
    "lr_pred = lr.predict(bow_test)\n",
    "print_results(lr_pred, y_test)"
   ]
  },
  {
   "cell_type": "code",
   "execution_count": 231,
   "metadata": {},
   "outputs": [],
   "source": [
    "make_submission(\n",
    "    classificator=lr,\n",
    "    vectorizer=vec,\n",
    "    test_data=test_df.feeds,\n",
    "    filename='my_submission_tfidf(3, 3)_logreg.csv',\n",
    ")"
   ]
  },
  {
   "cell_type": "code",
   "execution_count": 232,
   "metadata": {},
   "outputs": [
    {
     "name": "stderr",
     "output_type": "stream",
     "text": [
      "/root/scripts/python/ml/.venv/lib/python3.10/site-packages/sklearn/feature_extraction/text.py:528: UserWarning: The parameter 'token_pattern' will not be used since 'tokenizer' is not None'\n",
      "  warnings.warn(\n",
      "/root/scripts/python/ml/.venv/lib/python3.10/site-packages/sklearn/feature_extraction/text.py:563: UserWarning: The parameter 'tokenizer' will not be used since 'analyzer' != 'word'\n",
      "  warnings.warn(\n"
     ]
    },
    {
     "name": "stdout",
     "output_type": "stream",
     "text": [
      "Размер словаря = 21426\n"
     ]
    }
   ],
   "source": [
    "# Векториризация TF-IDF 3х3 gj леммам\n",
    "\n",
    "vec = TfidfVectorizer(\n",
    "    lowercase=True, \n",
    "    ngram_range=(3, 3), \n",
    "    analyzer='char_wb',\n",
    "    tokenizer=word_tokenize,\n",
    "    )\n",
    "\n",
    "vec.fit(X_train.lemmas)\n",
    "print(f\"Размер словаря = {vec.vocabulary_.__len__()}\")"
   ]
  },
  {
   "cell_type": "code",
   "execution_count": 234,
   "metadata": {},
   "outputs": [],
   "source": [
    "bow = vec.transform(X_train.lemmas)\n",
    "bow_test = vec.transform(X_test.lemmas)"
   ]
  },
  {
   "cell_type": "code",
   "execution_count": 235,
   "metadata": {},
   "outputs": [],
   "source": [
    "lr = LogisticRegression(max_iter=500, multi_class='multinomial', random_state=RANDOM_STATE)\n",
    "lr.fit(bow, y_train)\n",
    "None"
   ]
  },
  {
   "cell_type": "code",
   "execution_count": null,
   "metadata": {},
   "outputs": [],
   "source": [
    "lr_pred = lr.predict(bow_test)\n",
    "print_results(lr_pred, y_test)"
   ]
  }
 ],
 "metadata": {
  "kernelspec": {
   "display_name": ".venv",
   "language": "python",
   "name": "python3"
  },
  "language_info": {
   "codemirror_mode": {
    "name": "ipython",
    "version": 3
   },
   "file_extension": ".py",
   "mimetype": "text/x-python",
   "name": "python",
   "nbconvert_exporter": "python",
   "pygments_lexer": "ipython3",
   "version": "3.10.11"
  },
  "orig_nbformat": 4
 },
 "nbformat": 4,
 "nbformat_minor": 2
}
