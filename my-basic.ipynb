{
 "cells": [
  {
   "cell_type": "code",
   "execution_count": 1,
   "metadata": {},
   "outputs": [],
   "source": [
    "import pandas as pd\n",
    "import numpy as np\n",
    "import matplotlib.pyplot as plt"
   ]
  },
  {
   "cell_type": "code",
   "execution_count": 2,
   "metadata": {},
   "outputs": [],
   "source": [
    "class Config:\n",
    "    random_seed = 42\n",
    "    test_size = 0.1\n",
    "    n_folds = 0.1\n",
    "    results = {}"
   ]
  },
  {
   "cell_type": "code",
   "execution_count": 3,
   "metadata": {},
   "outputs": [],
   "source": [
    "def set_seed(seed=42):\n",
    "    np.random.seed(seed)\n",
    "    # random.seed(seed)\n",
    "\n",
    "set_seed(Config.random_seed)"
   ]
  },
  {
   "cell_type": "code",
   "execution_count": 4,
   "metadata": {},
   "outputs": [
    {
     "data": {
      "text/html": [
       "<div>\n",
       "<style scoped>\n",
       "    .dataframe tbody tr th:only-of-type {\n",
       "        vertical-align: middle;\n",
       "    }\n",
       "\n",
       "    .dataframe tbody tr th {\n",
       "        vertical-align: top;\n",
       "    }\n",
       "\n",
       "    .dataframe thead th {\n",
       "        text-align: right;\n",
       "    }\n",
       "</style>\n",
       "<table border=\"1\" class=\"dataframe\">\n",
       "  <thead>\n",
       "    <tr style=\"text-align: right;\">\n",
       "      <th></th>\n",
       "      <th>bank</th>\n",
       "      <th>feeds</th>\n",
       "      <th>grades</th>\n",
       "      <th>date</th>\n",
       "    </tr>\n",
       "  </thead>\n",
       "  <tbody>\n",
       "    <tr>\n",
       "      <th>0</th>\n",
       "      <td>ubrr</td>\n",
       "      <td>Много лет являюсь клиентом этого банка, но пос...</td>\n",
       "      <td>1.0</td>\n",
       "      <td>16.02.2017 16:10</td>\n",
       "    </tr>\n",
       "    <tr>\n",
       "      <th>1</th>\n",
       "      <td>fk_otkritie</td>\n",
       "      <td>Г. Ростов-на-Дону, ул. Ленина, 48. Были 10.12....</td>\n",
       "      <td>2.0</td>\n",
       "      <td>13.12.2016 1:05</td>\n",
       "    </tr>\n",
       "    <tr>\n",
       "      <th>2</th>\n",
       "      <td>alfabank</td>\n",
       "      <td>Здравствуйте!Ранее уже оставлял отзыв о вашем ...</td>\n",
       "      <td>NaN</td>\n",
       "      <td>28.06.2019 13:54</td>\n",
       "    </tr>\n",
       "  </tbody>\n",
       "</table>\n",
       "</div>"
      ],
      "text/plain": [
       "          bank                                              feeds  grades   \n",
       "0         ubrr  Много лет являюсь клиентом этого банка, но пос...     1.0  \\\n",
       "1  fk_otkritie  Г. Ростов-на-Дону, ул. Ленина, 48. Были 10.12....     2.0   \n",
       "2     alfabank  Здравствуйте!Ранее уже оставлял отзыв о вашем ...     NaN   \n",
       "\n",
       "               date  \n",
       "0  16.02.2017 16:10  \n",
       "1   13.12.2016 1:05  \n",
       "2  28.06.2019 13:54  "
      ]
     },
     "execution_count": 4,
     "metadata": {},
     "output_type": "execute_result"
    }
   ],
   "source": [
    "df = pd.read_csv('./train_ml.csv')\n",
    "test_df = pd.read_csv('./new_test_ml.csv', index_col=0)\n",
    "\n",
    "df.head(n=3)"
   ]
  },
  {
   "cell_type": "code",
   "execution_count": 5,
   "metadata": {},
   "outputs": [
    {
     "data": {
      "text/html": [
       "<div>\n",
       "<style scoped>\n",
       "    .dataframe tbody tr th:only-of-type {\n",
       "        vertical-align: middle;\n",
       "    }\n",
       "\n",
       "    .dataframe tbody tr th {\n",
       "        vertical-align: top;\n",
       "    }\n",
       "\n",
       "    .dataframe thead th {\n",
       "        text-align: right;\n",
       "    }\n",
       "</style>\n",
       "<table border=\"1\" class=\"dataframe\">\n",
       "  <thead>\n",
       "    <tr style=\"text-align: right;\">\n",
       "      <th></th>\n",
       "      <th>bank</th>\n",
       "      <th>feeds</th>\n",
       "      <th>date</th>\n",
       "    </tr>\n",
       "  </thead>\n",
       "  <tbody>\n",
       "    <tr>\n",
       "      <th>0</th>\n",
       "      <td>sberbank</td>\n",
       "      <td>Оформляем ипотеку в Сбербанке. 22.06.2020 были...</td>\n",
       "      <td>01.07.2020 10:53</td>\n",
       "    </tr>\n",
       "    <tr>\n",
       "      <th>1</th>\n",
       "      <td>alfabank</td>\n",
       "      <td>Краткое содержание: не рекомендую брать кредит...</td>\n",
       "      <td>20.06.2019 13:19</td>\n",
       "    </tr>\n",
       "    <tr>\n",
       "      <th>2</th>\n",
       "      <td>v-express-bank</td>\n",
       "      <td>Добрый день, уважаемые сотрудники службы контр...</td>\n",
       "      <td>20.02.2016 11:46</td>\n",
       "    </tr>\n",
       "    <tr>\n",
       "      <th>3</th>\n",
       "      <td>homecreditbank</td>\n",
       "      <td>Обращался за получением карты \"Зеленая польза\"...</td>\n",
       "      <td>06.05.2019 15:48</td>\n",
       "    </tr>\n",
       "    <tr>\n",
       "      <th>4</th>\n",
       "      <td>vtb</td>\n",
       "      <td>20.05.2016 обратилась в отделение банка на про...</td>\n",
       "      <td>23.05.2016 15:41</td>\n",
       "    </tr>\n",
       "  </tbody>\n",
       "</table>\n",
       "</div>"
      ],
      "text/plain": [
       "             bank                                              feeds   \n",
       "0        sberbank  Оформляем ипотеку в Сбербанке. 22.06.2020 были...  \\\n",
       "1        alfabank  Краткое содержание: не рекомендую брать кредит...   \n",
       "2  v-express-bank  Добрый день, уважаемые сотрудники службы контр...   \n",
       "3  homecreditbank  Обращался за получением карты \"Зеленая польза\"...   \n",
       "4             vtb  20.05.2016 обратилась в отделение банка на про...   \n",
       "\n",
       "               date  \n",
       "0  01.07.2020 10:53  \n",
       "1  20.06.2019 13:19  \n",
       "2  20.02.2016 11:46  \n",
       "3  06.05.2019 15:48  \n",
       "4  23.05.2016 15:41  "
      ]
     },
     "execution_count": 5,
     "metadata": {},
     "output_type": "execute_result"
    }
   ],
   "source": [
    "test_df.head()"
   ]
  },
  {
   "cell_type": "code",
   "execution_count": 6,
   "metadata": {},
   "outputs": [
    {
     "data": {
      "text/plain": [
       "(75000, 4)"
      ]
     },
     "execution_count": 6,
     "metadata": {},
     "output_type": "execute_result"
    }
   ],
   "source": [
    "df.shape"
   ]
  },
  {
   "cell_type": "code",
   "execution_count": 7,
   "metadata": {},
   "outputs": [],
   "source": [
    "# удаляю все строки из обучающих данных, в которых нет оценки\n",
    "\n",
    "df.dropna(inplace=True)"
   ]
  },
  {
   "cell_type": "code",
   "execution_count": 8,
   "metadata": {},
   "outputs": [
    {
     "name": "stdout",
     "output_type": "stream",
     "text": [
      "df.grades.nbytes = 411808\n",
      "df.grades.nbytes = 51476\n"
     ]
    }
   ],
   "source": [
    "# изменяю тип колонки `grades` на тип int8\n",
    "\n",
    "print(f\"{df.grades.nbytes = }\")\n",
    "df = df.astype({'grades': np.int8},)\n",
    "print(f\"{df.grades.nbytes = }\")"
   ]
  },
  {
   "cell_type": "code",
   "execution_count": 9,
   "metadata": {},
   "outputs": [
    {
     "data": {
      "text/html": [
       "<div>\n",
       "<style scoped>\n",
       "    .dataframe tbody tr th:only-of-type {\n",
       "        vertical-align: middle;\n",
       "    }\n",
       "\n",
       "    .dataframe tbody tr th {\n",
       "        vertical-align: top;\n",
       "    }\n",
       "\n",
       "    .dataframe thead th {\n",
       "        text-align: right;\n",
       "    }\n",
       "</style>\n",
       "<table border=\"1\" class=\"dataframe\">\n",
       "  <thead>\n",
       "    <tr style=\"text-align: right;\">\n",
       "      <th></th>\n",
       "      <th>bank</th>\n",
       "      <th>feeds</th>\n",
       "      <th>grades</th>\n",
       "      <th>date</th>\n",
       "      <th>bank_name_len</th>\n",
       "      <th>feed_words</th>\n",
       "      <th>feed_len</th>\n",
       "      <th>day_of_week</th>\n",
       "      <th>is_workday</th>\n",
       "      <th>is_friday</th>\n",
       "      <th>is_monday</th>\n",
       "    </tr>\n",
       "  </thead>\n",
       "  <tbody>\n",
       "    <tr>\n",
       "      <th>13059</th>\n",
       "      <td>crediteuropebank</td>\n",
       "      <td>Доброго времени суток. Хотелось бы понять один...</td>\n",
       "      <td>2</td>\n",
       "      <td>2014-06-16 21:17:00</td>\n",
       "      <td>16</td>\n",
       "      <td>123</td>\n",
       "      <td>831</td>\n",
       "      <td>1</td>\n",
       "      <td>True</td>\n",
       "      <td>False</td>\n",
       "      <td>True</td>\n",
       "    </tr>\n",
       "    <tr>\n",
       "      <th>52081</th>\n",
       "      <td>pochtabank</td>\n",
       "      <td>Самый худший банк, в котом когда-либо обслужив...</td>\n",
       "      <td>1</td>\n",
       "      <td>2020-07-11 16:50:00</td>\n",
       "      <td>10</td>\n",
       "      <td>172</td>\n",
       "      <td>1153</td>\n",
       "      <td>6</td>\n",
       "      <td>False</td>\n",
       "      <td>False</td>\n",
       "      <td>False</td>\n",
       "    </tr>\n",
       "    <tr>\n",
       "      <th>45837</th>\n",
       "      <td>vozrozhdenie</td>\n",
       "      <td>Речь пойдёт о Волжском филиале Банка \"Возрожде...</td>\n",
       "      <td>5</td>\n",
       "      <td>2006-10-24 09:25:00</td>\n",
       "      <td>12</td>\n",
       "      <td>205</td>\n",
       "      <td>1415</td>\n",
       "      <td>2</td>\n",
       "      <td>True</td>\n",
       "      <td>False</td>\n",
       "      <td>False</td>\n",
       "    </tr>\n",
       "  </tbody>\n",
       "</table>\n",
       "</div>"
      ],
      "text/plain": [
       "                   bank                                              feeds   \n",
       "13059  crediteuropebank  Доброго времени суток. Хотелось бы понять один...  \\\n",
       "52081        pochtabank  Самый худший банк, в котом когда-либо обслужив...   \n",
       "45837      vozrozhdenie  Речь пойдёт о Волжском филиале Банка \"Возрожде...   \n",
       "\n",
       "       grades                date  bank_name_len  feed_words  feed_len   \n",
       "13059       2 2014-06-16 21:17:00             16         123       831  \\\n",
       "52081       1 2020-07-11 16:50:00             10         172      1153   \n",
       "45837       5 2006-10-24 09:25:00             12         205      1415   \n",
       "\n",
       "       day_of_week  is_workday  is_friday  is_monday  \n",
       "13059            1        True      False       True  \n",
       "52081            6       False      False      False  \n",
       "45837            2        True      False      False  "
      ]
     },
     "execution_count": 9,
     "metadata": {},
     "output_type": "execute_result"
    }
   ],
   "source": [
    "# создаю новые признаки на основе имеющихся данных\n",
    "\n",
    "import datetime\n",
    "\n",
    "df.date = df.date.apply(lambda i: datetime.datetime.strptime(i, '%d.%m.%Y %H:%M'))\n",
    "df['bank_name_len'] = df.bank.apply(lambda i: len(i))\n",
    "df['feed_words'] = df.feeds.apply(lambda i: i.split().__len__())\n",
    "df['feed_len'] = df.feeds.apply(lambda i: len(i))\n",
    "df['day_of_week'] = df.date.apply(lambda i: i.isoweekday())\n",
    "df['is_workday'] = df.day_of_week < 6\n",
    "df['is_friday'] = df.day_of_week == 5\n",
    "df['is_monday'] = df.day_of_week == 1\n",
    "\n",
    "# для тестового датасета\n",
    "test_df.date = test_df.date.apply(lambda i: datetime.datetime.strptime(i, '%d.%m.%Y %H:%M'))\n",
    "test_df['bank_name_len'] = test_df.bank.apply(lambda i: len(i))\n",
    "test_df['feed_words'] = test_df.feeds.apply(lambda i: i.split().__len__())\n",
    "test_df['feed_len'] = test_df.feeds.apply(lambda i: len(i))\n",
    "test_df['day_of_week'] = test_df.date.apply(lambda i: i.isoweekday())\n",
    "test_df['is_workday'] = test_df.day_of_week < 6\n",
    "test_df['is_friday'] = test_df.day_of_week == 5\n",
    "test_df['is_monday'] = test_df.day_of_week == 1\n",
    "\n",
    "df.sample(3)\n"
   ]
  },
  {
   "cell_type": "code",
   "execution_count": 10,
   "metadata": {},
   "outputs": [],
   "source": [
    "df['mean_word_len'] = df.feeds.apply(lambda x: np.mean([i.__len__() for i in x.split()]))\n",
    "df['mean_word_len2'] = df.feed_len / df.feed_words\n",
    "\n",
    "test_df['mean_word_len'] = test_df.feeds.apply(lambda x: np.mean([i.__len__() for i in x.split()]))\n",
    "test_df['mean_word_len2'] = test_df.feed_len / test_df.feed_words"
   ]
  },
  {
   "cell_type": "code",
   "execution_count": 11,
   "metadata": {},
   "outputs": [
    {
     "data": {
      "image/png": "[encoded data removed]",
      "text/plain": [
       "<Figure size 640x480 with 2 Axes>"
      ]
     },
     "metadata": {},
     "output_type": "display_data"
    }
   ],
   "source": [
    "# определяю столбцы с численной информацией\n",
    "column_names = ['bank_name_len', 'feed_words', 'day_of_week', 'mean_word_len', 'is_workday', 'is_monday', 'is_friday']\n",
    "corr_data = df[column_names +['grades']]\n",
    "import seaborn as sns\n",
    "import matplotlib.pyplot as plt\n",
    "sns.heatmap(data=corr_data.corr(), annot=True, annot_kws=dict(size=8), cmap='Blues', linewidths=0.5)\n",
    "plt.show()"
   ]
  },
  {
   "cell_type": "code",
   "execution_count": 12,
   "metadata": {},
   "outputs": [],
   "source": [
    "from sklearn.model_selection import train_test_split\n",
    "X_train, X_test, y_train, y_test = train_test_split(\n",
    "    df[column_names], \n",
    "    df.grades, \n",
    "    test_size=Config.test_size,\n",
    "    random_state=Config.random_seed,\n",
    ")"
   ]
  },
  {
   "cell_type": "code",
   "execution_count": 13,
   "metadata": {},
   "outputs": [],
   "source": [
    "from sklearn.preprocessing import StandardScaler\n",
    "\n",
    "scaler = StandardScaler()\n",
    "scaler.fit(X_train)\n",
    "\n",
    "X_train = scaler.transform(X_train)\n",
    "X_test = scaler.transform(X_test)"
   ]
  },
  {
   "cell_type": "code",
   "execution_count": 14,
   "metadata": {},
   "outputs": [
    {
     "data": {
      "text/plain": [
       "(17220, 7)"
      ]
     },
     "execution_count": 14,
     "metadata": {},
     "output_type": "execute_result"
    }
   ],
   "source": [
    "test_X = scaler.transform(test_df[column_names])\n",
    "test_X.shape"
   ]
  },
  {
   "cell_type": "code",
   "execution_count": 15,
   "metadata": {},
   "outputs": [
    {
     "data": {
      "text/plain": [
       "<Axes: >"
      ]
     },
     "execution_count": 15,
     "metadata": {},
     "output_type": "execute_result"
    },
    {
     "data": {
      "image/png": "[encoded data removed]",
      "text/plain": [
       "<Figure size 640x480 with 1 Axes>"
      ]
     },
     "metadata": {},
     "output_type": "display_data"
    }
   ],
   "source": [
    "y_train.hist()"
   ]
  },
  {
   "cell_type": "code",
   "execution_count": 16,
   "metadata": {},
   "outputs": [],
   "source": [
    "from sklearn.linear_model import LogisticRegression\n",
    "\n",
    "lr = LogisticRegression(solver='lbfgs',  multi_class='multinomial', max_iter=1000, n_jobs=-1)\n",
    "lr.fit(X_train, y_train)\n",
    "lr_pred = lr.predict(X_test)\n",
    "lr_pred_proba = lr.predict_proba(X_test)[:, 1]"
   ]
  },
  {
   "cell_type": "code",
   "execution_count": 17,
   "metadata": {},
   "outputs": [
    {
     "data": {
      "text/plain": [
       "1    0.797786\n",
       "5    0.202214\n",
       "Name: proportion, dtype: float64"
      ]
     },
     "execution_count": 17,
     "metadata": {},
     "output_type": "execute_result"
    }
   ],
   "source": [
    "pd.Series(lr_pred).value_counts(normalize=True)"
   ]
  },
  {
   "cell_type": "code",
   "execution_count": 18,
   "metadata": {},
   "outputs": [
    {
     "name": "stdout",
     "output_type": "stream",
     "text": [
      "Classification report:\n",
      "              precision    recall  f1-score   support\n",
      "\n",
      "           1       0.60      0.90      0.72      2759\n",
      "           2       0.00      0.00      0.00       556\n",
      "           3       0.00      0.00      0.00       257\n",
      "           4       0.00      0.00      0.00       146\n",
      "           5       0.63      0.46      0.53      1430\n",
      "\n",
      "    accuracy                           0.61      5148\n",
      "   macro avg       0.25      0.27      0.25      5148\n",
      "weighted avg       0.50      0.61      0.53      5148\n",
      "\n",
      "Confusion matrix:\n",
      "[[2480    0    0    0  279]\n",
      " [ 502    0    0    0   54]\n",
      " [ 230    0    0    0   27]\n",
      " [ 120    0    0    0   26]\n",
      " [ 775    0    0    0  655]]\n",
      "\n",
      "f1 numerical columns: 53.442%\n"
     ]
    }
   ],
   "source": [
    "from sklearn.metrics import classification_report\n",
    "from sklearn.metrics import confusion_matrix\n",
    "from sklearn.metrics import accuracy_score\n",
    "from sklearn.metrics import f1_score\n",
    "import math\n",
    "\n",
    "\n",
    "def print_results(test_data, predictions, predictions_probas=None, name=None):\n",
    "    print(f\"Classification report:\\n{classification_report(test_data, predictions, zero_division=0)}\")\n",
    "    print(f\"Confusion matrix:\\n{confusion_matrix(test_data, predictions)}\")\n",
    "    # print(f\"Accuracy score: {accuracy_score(test_data, predictions, lables=[Config.pos_labels])*100:2.1f}%\")\n",
    "    # print(f\"f1 score: {f1_score(test_data, predictions, average='weighted')*100:2.1f}%\")\n",
    "\n",
    "    if name:\n",
    "        f1_scores = f1_score(test_data, predictions, average='weighted') * 100\n",
    "        Config.results[name] = f1_scores\n",
    "    print()\n",
    "    [print(f\"f1 {key}: {value:.3f}%\") for key, value in Config.results.items()]\n",
    "    None\n",
    "\n",
    "print_results(y_test, lr_pred, lr_pred_proba, 'numerical columns')"
   ]
  },
  {
   "cell_type": "code",
   "execution_count": 19,
   "metadata": {},
   "outputs": [
    {
     "name": "stdout",
     "output_type": "stream",
     "text": [
      "Classification report:\n",
      "              precision    recall  f1-score   support\n",
      "\n",
      "           1       0.54      1.00      0.70      2759\n",
      "           2       0.00      0.00      0.00       556\n",
      "           3       0.00      0.00      0.00       257\n",
      "           4       0.00      0.00      0.00       146\n",
      "           5       0.00      0.00      0.00      1430\n",
      "\n",
      "    accuracy                           0.54      5148\n",
      "   macro avg       0.11      0.20      0.14      5148\n",
      "weighted avg       0.29      0.54      0.37      5148\n",
      "\n",
      "Confusion matrix:\n",
      "[[2759    0    0    0    0]\n",
      " [ 556    0    0    0    0]\n",
      " [ 257    0    0    0    0]\n",
      " [ 146    0    0    0    0]\n",
      " [1430    0    0    0    0]]\n",
      "\n",
      "f1 numerical columns: 53.442%\n",
      "f1 bias (only ones): 37.401%\n"
     ]
    }
   ],
   "source": [
    "bias_pred = np.ones_like(y_test)\n",
    "\n",
    "print_results(y_test, bias_pred, name='bias (only ones)')"
   ]
  },
  {
   "cell_type": "code",
   "execution_count": 20,
   "metadata": {},
   "outputs": [],
   "source": [
    "test_df_pred = lr.predict(test_X)"
   ]
  },
  {
   "cell_type": "code",
   "execution_count": 21,
   "metadata": {},
   "outputs": [],
   "source": [
    "test_index = test_df.index\n",
    "answer = pd.DataFrame(data=test_df_pred, index=test_index, columns=['grades'])\n",
    "answer.to_csv('my_answer_lr.csv', index_label='inds')"
   ]
  },
  {
   "cell_type": "code",
   "execution_count": 22,
   "metadata": {},
   "outputs": [],
   "source": [
    "from catboost import CatBoostClassifier\n",
    "\n",
    "cb = CatBoostClassifier()"
   ]
  },
  {
   "cell_type": "code",
   "execution_count": 24,
   "metadata": {},
   "outputs": [
    {
     "data": {
      "text/plain": [
       "<catboost.core.CatBoostClassifier at 0x7feac2ebf070>"
      ]
     },
     "execution_count": 24,
     "metadata": {},
     "output_type": "execute_result"
    }
   ],
   "source": [
    "cb.fit(X_train, y_train, verbose=0)"
   ]
  },
  {
   "cell_type": "code",
   "execution_count": 25,
   "metadata": {},
   "outputs": [
    {
     "name": "stdout",
     "output_type": "stream",
     "text": [
      "Classification report:\n",
      "              precision    recall  f1-score   support\n",
      "\n",
      "           1       0.62      0.89      0.73      2759\n",
      "           2       0.00      0.00      0.00       556\n",
      "           3       0.00      0.00      0.00       257\n",
      "           4       0.00      0.00      0.00       146\n",
      "           5       0.63      0.53      0.58      1430\n",
      "\n",
      "    accuracy                           0.62      5148\n",
      "   macro avg       0.25      0.28      0.26      5148\n",
      "weighted avg       0.51      0.62      0.55      5148\n",
      "\n",
      "Confusion matrix:\n",
      "[[2450    0    0    0  309]\n",
      " [ 490    0    0    0   66]\n",
      " [ 225    0    0    0   32]\n",
      " [ 115    0    0    0   31]\n",
      " [ 671    0    1    0  758]]\n",
      "\n",
      "f1 numerical columns: 53.442%\n",
      "f1 bias (only ones): 37.401%\n",
      "f1 cat boost numerical columns: 55.173%\n"
     ]
    }
   ],
   "source": [
    "cb_pred = cb.predict(X_test)\n",
    "\n",
    "print_results(y_test, cb_pred, name='cat boost numerical columns')"
   ]
  },
  {
   "cell_type": "code",
   "execution_count": 26,
   "metadata": {},
   "outputs": [
    {
     "name": "stdout",
     "output_type": "stream",
     "text": [
      "('feed_words', 30.65545179781398)\n",
      "('mean_word_len', 26.70314450893962)\n",
      "('bank_name_len', 26.065717323957173)\n",
      "('day_of_week', 12.365923072931398)\n",
      "('is_friday', 2.2517422472432433)\n",
      "('is_workday', 1.146756722080839)\n",
      "('is_monday', 0.8112643270337376)\n"
     ]
    }
   ],
   "source": [
    "print(*sorted(zip(column_names, cb.get_feature_importance()), key=lambda i: i[1], reverse=True), sep='\\n')"
   ]
  },
  {
   "cell_type": "code",
   "execution_count": 27,
   "metadata": {},
   "outputs": [
    {
     "data": {
      "text/plain": [
       "1    3951\n",
       "5    1196\n",
       "3       1\n",
       "Name: count, dtype: int64"
      ]
     },
     "execution_count": 27,
     "metadata": {},
     "output_type": "execute_result"
    }
   ],
   "source": [
    "pd.Series(cb_pred[:, 0]).value_counts()"
   ]
  },
  {
   "cell_type": "code",
   "execution_count": 28,
   "metadata": {},
   "outputs": [
    {
     "data": {
      "text/plain": [
       "<Axes: ylabel='Count'>"
      ]
     },
     "execution_count": 28,
     "metadata": {},
     "output_type": "execute_result"
    },
    {
     "data": {
      "image/png": "[encoded data removed]",
      "text/plain": [
       "<Figure size 640x480 with 1 Axes>"
      ]
     },
     "metadata": {},
     "output_type": "display_data"
    }
   ],
   "source": [
    "sns.histplot(data=cb_pred, discrete=True)"
   ]
  },
  {
   "cell_type": "code",
   "execution_count": 29,
   "metadata": {},
   "outputs": [],
   "source": [
    "# Использование CountVectorizer\n",
    "\n",
    "from sklearn.feature_extraction.text import CountVectorizer\n",
    "from nltk import ngrams"
   ]
  },
  {
   "cell_type": "code",
   "execution_count": 30,
   "metadata": {},
   "outputs": [
    {
     "data": {
      "text/plain": [
       "[]"
      ]
     },
     "execution_count": 30,
     "metadata": {},
     "output_type": "execute_result"
    }
   ],
   "source": [
    "from nltk.tokenize import RegexpTokenizer\n",
    "\n",
    "tknzr = RegexpTokenizer(r'[А-Яа-яA-z]+')\n",
    "words = tknzr.tokenize('12312')\n",
    "words"
   ]
  },
  {
   "cell_type": "code",
   "execution_count": 31,
   "metadata": {},
   "outputs": [
    {
     "name": "stderr",
     "output_type": "stream",
     "text": [
      "[nltk_data] Downloading package stopwords to /root/nltk_data...\n",
      "[nltk_data]   Package stopwords is already up-to-date!\n"
     ]
    },
    {
     "data": {
      "text/plain": [
       "True"
      ]
     },
     "execution_count": 31,
     "metadata": {},
     "output_type": "execute_result"
    }
   ],
   "source": [
    "import nltk\n",
    "nltk.download('stopwords')"
   ]
  },
  {
   "cell_type": "code",
   "execution_count": 32,
   "metadata": {},
   "outputs": [],
   "source": [
    "# удаляем стоп слова\n",
    "from nltk.corpus import stopwords\n",
    "\n",
    "stops = stopwords.words('russian')\n",
    "\n",
    "def text2tokens(text, tokenizer=__import__('nltk').tokenize.word_tokenize):\n",
    "    text = text.casefold()\n",
    "    # return tokenizer(text)\n",
    "    return tokenizer.tokenize(text)\n",
    "\n",
    "def remove_stopwords(tokens, stopwords=__import__('nltk').corpus.stopwords.words('russian')):\n",
    "    return [t for t in tokens if t not in stopwords]\n",
    "\n",
    "def text_processing(text):\n",
    "    tokens = text2tokens(text, tokenizer=RegexpTokenizer(r'[А-Яа-яA-z]+'))\n",
    "    tokens = remove_stopwords(tokens)\n",
    "    return \" \".join(tokens)\n",
    "\n",
    "\n",
    "from pymystem3 import Mystem\n",
    "mystem = Mystem()\n",
    "def lemmatize_text(text):\n",
    "    try:\n",
    "        pass\n",
    "        # tokens = text2tokens(text, tokenizer=RegexpTokenizer(r'[А-Яа-яA-z]+'))\n",
    "    except Exception as e:\n",
    "        print('text2tokens: ', text.split(), str(e))\n",
    "\n",
    "    try:\n",
    "        if text:\n",
    "            lemmas = mystem.lemmatize(text)\n",
    "        else:\n",
    "            lemmas = []\n",
    "        #lemmas = mystem.lemmatize(\" \".join(tokens))\n",
    "    except Exception as e:\n",
    "        print(f\"lemmatize: {text}\", str(e))\n",
    "    lemmas = remove_stopwords(lemmas)\n",
    "    return ''.join([i for i  in lemmas])\n",
    "    \n",
    "\n",
    "\n",
    "# text_processing(feed)\n",
    "# lemmatize_text(text_processing(feed))"
   ]
  },
  {
   "cell_type": "code",
   "execution_count": 33,
   "metadata": {},
   "outputs": [],
   "source": [
    "from multiprocessing import Pool\n",
    "from tqdm import tqdm\n",
    "\n",
    "def f(text):\n",
    "    return lemmatize_text(text_processing(text))\n",
    "\n",
    "N = df.feeds.__len__()#1000\n",
    "lemmas = []\n",
    "# for i in tqdm(range(N)):\n",
    "#     lemmas.append(lemmatize_text(text_processing(df.feeds.iloc[i])))\n",
    "\n",
    "# with Pool(8) as p:\n",
    "#     lemmas = list(\n",
    "#         tqdm(\n",
    "#             p.imap(\n",
    "#                 f, \n",
    "#                 df.feeds.iloc[:N]\n",
    "#             ),\n",
    "#             total=N,\n",
    "#         )\n",
    "#     )"
   ]
  },
  {
   "cell_type": "code",
   "execution_count": 34,
   "metadata": {},
   "outputs": [],
   "source": [
    "from functools import lru_cache\n",
    "import re\n",
    "from pymorphy2 import MorphAnalyzer\n",
    "from nltk.corpus import stopwords\n",
    "\n",
    "regex = re.compile(r'[А-Яа-яA-z]+')\n",
    "\n",
    "def words_only(text, regex=re.compile(r'[А-Яа-яA-z]+')):\n",
    "    try:\n",
    "        return regex.findall(text.casefold())\n",
    "    except:\n",
    "        return []\n",
    "\n",
    "@lru_cache(maxsize=512)\n",
    "def lemmatize_token(token, pymorph=__import__('pymorphy2').MorphAnalyzer()):\n",
    "    return pymorph.parse(token)[0].normal_form\n",
    "\n",
    "def lemmatize_tokens(tokens):\n",
    "    return [lemmatize_token(token) for token in tokens]\n",
    "\n",
    "def remove_stopwords(lemmas, stopwords=__import__('nltk').corpus.stopwords.words('russian')):\n",
    "    return [w for w in lemmas if w not in stopwords]\n",
    "\n",
    "def clean_text(text):\n",
    "    tokens = words_only(text)\n",
    "    lemmas = lemmatize_tokens(tokens)\n",
    "    return ' '.join(remove_stopwords(lemmas))"
   ]
  },
  {
   "cell_type": "code",
   "execution_count": 35,
   "metadata": {},
   "outputs": [
    {
     "name": "stderr",
     "output_type": "stream",
     "text": [
      "100%|██████████| 51476/51476 [01:07<00:00, 765.66it/s]\n"
     ]
    }
   ],
   "source": [
    "from multiprocessing import Pool\n",
    "\n",
    "N = len(df)\n",
    "with Pool(16) as p:\n",
    "    lemmas = list(\n",
    "        tqdm(\n",
    "            p.imap(clean_text, df.feeds[:N]),\n",
    "            total = N\n",
    "        )\n",
    "    )\n",
    "\n"
   ]
  },
  {
   "cell_type": "code",
   "execution_count": 36,
   "metadata": {},
   "outputs": [
    {
     "name": "stderr",
     "output_type": "stream",
     "text": [
      "100%|██████████| 17220/17220 [00:23<00:00, 746.11it/s]\n"
     ]
    },
    {
     "data": {
      "text/plain": [
       "17220"
      ]
     },
     "execution_count": 36,
     "metadata": {},
     "output_type": "execute_result"
    }
   ],
   "source": [
    "test_N = len(test_df)\n",
    "with Pool(18) as p:\n",
    "    test_lemmas = list(\n",
    "        tqdm(\n",
    "            p.imap(\n",
    "                clean_text,\n",
    "                test_df.feeds[:test_N],\n",
    "            ),\n",
    "            total = test_N\n",
    "        )\n",
    "    )\n",
    "len(test_lemmas)"
   ]
  },
  {
   "cell_type": "code",
   "execution_count": 37,
   "metadata": {},
   "outputs": [],
   "source": [
    "test_df['lemmas'] = test_lemmas\n",
    "df['lemmas'] = lemmas"
   ]
  },
  {
   "cell_type": "code",
   "execution_count": 38,
   "metadata": {},
   "outputs": [
    {
     "data": {
      "text/plain": [
       "['bank_name_len',\n",
       " 'feed_words',\n",
       " 'day_of_week',\n",
       " 'mean_word_len',\n",
       " 'is_workday',\n",
       " 'is_monday',\n",
       " 'is_friday',\n",
       " 'lemmas']"
      ]
     },
     "execution_count": 38,
     "metadata": {},
     "output_type": "execute_result"
    }
   ],
   "source": [
    "column_names + ['lemmas']"
   ]
  },
  {
   "cell_type": "code",
   "execution_count": 39,
   "metadata": {},
   "outputs": [
    {
     "data": {
      "text/plain": [
       "['bank_name_len',\n",
       " 'feed_words',\n",
       " 'day_of_week',\n",
       " 'mean_word_len',\n",
       " 'is_workday',\n",
       " 'is_monday',\n",
       " 'is_friday',\n",
       " 'lemmas',\n",
       " 'feeds']"
      ]
     },
     "execution_count": 39,
     "metadata": {},
     "output_type": "execute_result"
    }
   ],
   "source": [
    "numerical_columns = column_names\n",
    "column_names.append('lemmas')\n",
    "column_names.append('feeds')\n",
    "column_names"
   ]
  },
  {
   "cell_type": "code",
   "execution_count": 40,
   "metadata": {},
   "outputs": [
    {
     "name": "stdout",
     "output_type": "stream",
     "text": [
      "X_train.shape = (46328, 9), X_test.shape = (5148, 9)\n",
      "y_train.shape = (46328,), y_test.shape = (5148,)\n"
     ]
    }
   ],
   "source": [
    "from sklearn.model_selection import train_test_split\n",
    "\n",
    "X_train, X_test, y_train, y_test = train_test_split(df[column_names], df.grades, test_size=Config.test_size, random_state=Config.random_seed, stratify=df.grades)\n",
    "print(f\"{X_train.shape = }, {X_test.shape = }\")\n",
    "print(f\"{y_train.shape = }, {y_test.shape = }\")"
   ]
  },
  {
   "cell_type": "code",
   "execution_count": 41,
   "metadata": {},
   "outputs": [
    {
     "data": {
      "text/plain": [
       "(46328, 9)"
      ]
     },
     "execution_count": 41,
     "metadata": {},
     "output_type": "execute_result"
    }
   ],
   "source": [
    "X_train[numerical_columns].shape"
   ]
  },
  {
   "cell_type": "code",
   "execution_count": 42,
   "metadata": {},
   "outputs": [
    {
     "data": {
      "text/html": [
       "<style>#sk-container-id-1 {color: black;background-color: white;}#sk-container-id-1 pre{padding: 0;}#sk-container-id-1 div.sk-toggleable {background-color: white;}#sk-container-id-1 label.sk-toggleable__label {cursor: pointer;display: block;width: 100%;margin-bottom: 0;padding: 0.3em;box-sizing: border-box;text-align: center;}#sk-container-id-1 label.sk-toggleable__label-arrow:before {content: \"▸\";float: left;margin-right: 0.25em;color: #696969;}#sk-container-id-1 label.sk-toggleable__label-arrow:hover:before {color: black;}#sk-container-id-1 div.sk-estimator:hover label.sk-toggleable__label-arrow:before {color: black;}#sk-container-id-1 div.sk-toggleable__content {max-height: 0;max-width: 0;overflow: hidden;text-align: left;background-color: #f0f8ff;}#sk-container-id-1 div.sk-toggleable__content pre {margin: 0.2em;color: black;border-radius: 0.25em;background-color: #f0f8ff;}#sk-container-id-1 input.sk-toggleable__control:checked~div.sk-toggleable__content {max-height: 200px;max-width: 100%;overflow: auto;}#sk-container-id-1 input.sk-toggleable__control:checked~label.sk-toggleable__label-arrow:before {content: \"▾\";}#sk-container-id-1 div.sk-estimator input.sk-toggleable__control:checked~label.sk-toggleable__label {background-color: #d4ebff;}#sk-container-id-1 div.sk-label input.sk-toggleable__control:checked~label.sk-toggleable__label {background-color: #d4ebff;}#sk-container-id-1 input.sk-hidden--visually {border: 0;clip: rect(1px 1px 1px 1px);clip: rect(1px, 1px, 1px, 1px);height: 1px;margin: -1px;overflow: hidden;padding: 0;position: absolute;width: 1px;}#sk-container-id-1 div.sk-estimator {font-family: monospace;background-color: #f0f8ff;border: 1px dotted black;border-radius: 0.25em;box-sizing: border-box;margin-bottom: 0.5em;}#sk-container-id-1 div.sk-estimator:hover {background-color: #d4ebff;}#sk-container-id-1 div.sk-parallel-item::after {content: \"\";width: 100%;border-bottom: 1px solid gray;flex-grow: 1;}#sk-container-id-1 div.sk-label:hover label.sk-toggleable__label {background-color: #d4ebff;}#sk-container-id-1 div.sk-serial::before {content: \"\";position: absolute;border-left: 1px solid gray;box-sizing: border-box;top: 0;bottom: 0;left: 50%;z-index: 0;}#sk-container-id-1 div.sk-serial {display: flex;flex-direction: column;align-items: center;background-color: white;padding-right: 0.2em;padding-left: 0.2em;position: relative;}#sk-container-id-1 div.sk-item {position: relative;z-index: 1;}#sk-container-id-1 div.sk-parallel {display: flex;align-items: stretch;justify-content: center;background-color: white;position: relative;}#sk-container-id-1 div.sk-item::before, #sk-container-id-1 div.sk-parallel-item::before {content: \"\";position: absolute;border-left: 1px solid gray;box-sizing: border-box;top: 0;bottom: 0;left: 50%;z-index: -1;}#sk-container-id-1 div.sk-parallel-item {display: flex;flex-direction: column;z-index: 1;position: relative;background-color: white;}#sk-container-id-1 div.sk-parallel-item:first-child::after {align-self: flex-end;width: 50%;}#sk-container-id-1 div.sk-parallel-item:last-child::after {align-self: flex-start;width: 50%;}#sk-container-id-1 div.sk-parallel-item:only-child::after {width: 0;}#sk-container-id-1 div.sk-dashed-wrapped {border: 1px dashed gray;margin: 0 0.4em 0.5em 0.4em;box-sizing: border-box;padding-bottom: 0.4em;background-color: white;}#sk-container-id-1 div.sk-label label {font-family: monospace;font-weight: bold;display: inline-block;line-height: 1.2em;}#sk-container-id-1 div.sk-label-container {text-align: center;}#sk-container-id-1 div.sk-container {/* jupyter's `normalize.less` sets `[hidden] { display: none; }` but bootstrap.min.css set `[hidden] { display: none !important; }` so we also need the `!important` here to be able to override the default hidden behavior on the sphinx rendered scikit-learn.org. See: https://github.com/scikit-learn/scikit-learn/issues/21755 */display: inline-block !important;position: relative;}#sk-container-id-1 div.sk-text-repr-fallback {display: none;}</style><div id=\"sk-container-id-1\" class=\"sk-top-container\"><div class=\"sk-text-repr-fallback\"><pre>CountVectorizer()</pre><b>In a Jupyter environment, please rerun this cell to show the HTML representation or trust the notebook. <br />On GitHub, the HTML representation is unable to render, please try loading this page with nbviewer.org.</b></div><div class=\"sk-container\" hidden><div class=\"sk-item\"><div class=\"sk-estimator sk-toggleable\"><input class=\"sk-toggleable__control sk-hidden--visually\" id=\"sk-estimator-id-1\" type=\"checkbox\" checked><label for=\"sk-estimator-id-1\" class=\"sk-toggleable__label sk-toggleable__label-arrow\">CountVectorizer</label><div class=\"sk-toggleable__content\"><pre>CountVectorizer()</pre></div></div></div></div></div>"
      ],
      "text/plain": [
       "CountVectorizer()"
      ]
     },
     "execution_count": 42,
     "metadata": {},
     "output_type": "execute_result"
    }
   ],
   "source": [
    "# BoW - Bag of Words\n",
    "\n",
    "from sklearn.feature_extraction.text import CountVectorizer\n",
    "\n",
    "vec = CountVectorizer(ngram_range=(1, 1))\n",
    "vec.fit(X_train.lemmas)\n"
   ]
  },
  {
   "cell_type": "code",
   "execution_count": 43,
   "metadata": {},
   "outputs": [],
   "source": [
    "bow = vec.transform(X_train.lemmas)"
   ]
  },
  {
   "cell_type": "code",
   "execution_count": 44,
   "metadata": {},
   "outputs": [],
   "source": [
    "from sklearn.linear_model import LogisticRegression\n",
    "\n",
    "log_clf = LogisticRegression(random_state=Config.random_seed,  max_iter=300)"
   ]
  },
  {
   "cell_type": "code",
   "execution_count": 45,
   "metadata": {},
   "outputs": [
    {
     "name": "stderr",
     "output_type": "stream",
     "text": [
      "/root/scripts/python/ml/.venv/lib/python3.10/site-packages/sklearn/linear_model/_logistic.py:458: ConvergenceWarning: lbfgs failed to converge (status=1):\n",
      "STOP: TOTAL NO. of ITERATIONS REACHED LIMIT.\n",
      "\n",
      "Increase the number of iterations (max_iter) or scale the data as shown in:\n",
      "    https://scikit-learn.org/stable/modules/preprocessing.html\n",
      "Please also refer to the documentation for alternative solver options:\n",
      "    https://scikit-learn.org/stable/modules/linear_model.html#logistic-regression\n",
      "  n_iter_i = _check_optimize_result(\n"
     ]
    },
    {
     "data": {
      "text/html": [
       "<style>#sk-container-id-2 {color: black;background-color: white;}#sk-container-id-2 pre{padding: 0;}#sk-container-id-2 div.sk-toggleable {background-color: white;}#sk-container-id-2 label.sk-toggleable__label {cursor: pointer;display: block;width: 100%;margin-bottom: 0;padding: 0.3em;box-sizing: border-box;text-align: center;}#sk-container-id-2 label.sk-toggleable__label-arrow:before {content: \"▸\";float: left;margin-right: 0.25em;color: #696969;}#sk-container-id-2 label.sk-toggleable__label-arrow:hover:before {color: black;}#sk-container-id-2 div.sk-estimator:hover label.sk-toggleable__label-arrow:before {color: black;}#sk-container-id-2 div.sk-toggleable__content {max-height: 0;max-width: 0;overflow: hidden;text-align: left;background-color: #f0f8ff;}#sk-container-id-2 div.sk-toggleable__content pre {margin: 0.2em;color: black;border-radius: 0.25em;background-color: #f0f8ff;}#sk-container-id-2 input.sk-toggleable__control:checked~div.sk-toggleable__content {max-height: 200px;max-width: 100%;overflow: auto;}#sk-container-id-2 input.sk-toggleable__control:checked~label.sk-toggleable__label-arrow:before {content: \"▾\";}#sk-container-id-2 div.sk-estimator input.sk-toggleable__control:checked~label.sk-toggleable__label {background-color: #d4ebff;}#sk-container-id-2 div.sk-label input.sk-toggleable__control:checked~label.sk-toggleable__label {background-color: #d4ebff;}#sk-container-id-2 input.sk-hidden--visually {border: 0;clip: rect(1px 1px 1px 1px);clip: rect(1px, 1px, 1px, 1px);height: 1px;margin: -1px;overflow: hidden;padding: 0;position: absolute;width: 1px;}#sk-container-id-2 div.sk-estimator {font-family: monospace;background-color: #f0f8ff;border: 1px dotted black;border-radius: 0.25em;box-sizing: border-box;margin-bottom: 0.5em;}#sk-container-id-2 div.sk-estimator:hover {background-color: #d4ebff;}#sk-container-id-2 div.sk-parallel-item::after {content: \"\";width: 100%;border-bottom: 1px solid gray;flex-grow: 1;}#sk-container-id-2 div.sk-label:hover label.sk-toggleable__label {background-color: #d4ebff;}#sk-container-id-2 div.sk-serial::before {content: \"\";position: absolute;border-left: 1px solid gray;box-sizing: border-box;top: 0;bottom: 0;left: 50%;z-index: 0;}#sk-container-id-2 div.sk-serial {display: flex;flex-direction: column;align-items: center;background-color: white;padding-right: 0.2em;padding-left: 0.2em;position: relative;}#sk-container-id-2 div.sk-item {position: relative;z-index: 1;}#sk-container-id-2 div.sk-parallel {display: flex;align-items: stretch;justify-content: center;background-color: white;position: relative;}#sk-container-id-2 div.sk-item::before, #sk-container-id-2 div.sk-parallel-item::before {content: \"\";position: absolute;border-left: 1px solid gray;box-sizing: border-box;top: 0;bottom: 0;left: 50%;z-index: -1;}#sk-container-id-2 div.sk-parallel-item {display: flex;flex-direction: column;z-index: 1;position: relative;background-color: white;}#sk-container-id-2 div.sk-parallel-item:first-child::after {align-self: flex-end;width: 50%;}#sk-container-id-2 div.sk-parallel-item:last-child::after {align-self: flex-start;width: 50%;}#sk-container-id-2 div.sk-parallel-item:only-child::after {width: 0;}#sk-container-id-2 div.sk-dashed-wrapped {border: 1px dashed gray;margin: 0 0.4em 0.5em 0.4em;box-sizing: border-box;padding-bottom: 0.4em;background-color: white;}#sk-container-id-2 div.sk-label label {font-family: monospace;font-weight: bold;display: inline-block;line-height: 1.2em;}#sk-container-id-2 div.sk-label-container {text-align: center;}#sk-container-id-2 div.sk-container {/* jupyter's `normalize.less` sets `[hidden] { display: none; }` but bootstrap.min.css set `[hidden] { display: none !important; }` so we also need the `!important` here to be able to override the default hidden behavior on the sphinx rendered scikit-learn.org. See: https://github.com/scikit-learn/scikit-learn/issues/21755 */display: inline-block !important;position: relative;}#sk-container-id-2 div.sk-text-repr-fallback {display: none;}</style><div id=\"sk-container-id-2\" class=\"sk-top-container\"><div class=\"sk-text-repr-fallback\"><pre>LogisticRegression(max_iter=300, random_state=42)</pre><b>In a Jupyter environment, please rerun this cell to show the HTML representation or trust the notebook. <br />On GitHub, the HTML representation is unable to render, please try loading this page with nbviewer.org.</b></div><div class=\"sk-container\" hidden><div class=\"sk-item\"><div class=\"sk-estimator sk-toggleable\"><input class=\"sk-toggleable__control sk-hidden--visually\" id=\"sk-estimator-id-2\" type=\"checkbox\" checked><label for=\"sk-estimator-id-2\" class=\"sk-toggleable__label sk-toggleable__label-arrow\">LogisticRegression</label><div class=\"sk-toggleable__content\"><pre>LogisticRegression(max_iter=300, random_state=42)</pre></div></div></div></div></div>"
      ],
      "text/plain": [
       "LogisticRegression(max_iter=300, random_state=42)"
      ]
     },
     "execution_count": 45,
     "metadata": {},
     "output_type": "execute_result"
    }
   ],
   "source": [
    "log_clf.fit(bow, y_train)"
   ]
  },
  {
   "cell_type": "code",
   "execution_count": 46,
   "metadata": {},
   "outputs": [],
   "source": [
    "log_pred = log_clf.predict(vec.transform(X_test.lemmas))"
   ]
  },
  {
   "cell_type": "code",
   "execution_count": 47,
   "metadata": {},
   "outputs": [
    {
     "data": {
      "text/plain": [
       "<Axes: >"
      ]
     },
     "execution_count": 47,
     "metadata": {},
     "output_type": "execute_result"
    },
    {
     "data": {
      "image/png": "[encoded data removed]",
      "text/plain": [
       "<Figure size 640x480 with 1 Axes>"
      ]
     },
     "metadata": {},
     "output_type": "display_data"
    }
   ],
   "source": [
    "pd.Series(log_pred).hist()"
   ]
  },
  {
   "cell_type": "code",
   "execution_count": 48,
   "metadata": {},
   "outputs": [
    {
     "name": "stdout",
     "output_type": "stream",
     "text": [
      "Classification report:\n",
      "              precision    recall  f1-score   support\n",
      "\n",
      "           1       0.78      0.85      0.82      2774\n",
      "           2       0.23      0.16      0.19       563\n",
      "           3       0.12      0.09      0.11       236\n",
      "           4       0.14      0.09      0.11       152\n",
      "           5       0.88      0.90      0.89      1423\n",
      "\n",
      "    accuracy                           0.73      5148\n",
      "   macro avg       0.43      0.42      0.42      5148\n",
      "weighted avg       0.70      0.73      0.71      5148\n",
      "\n",
      "Confusion matrix:\n",
      "[[2361  245   89   15   64]\n",
      " [ 408   91   34    7   23]\n",
      " [ 149   39   22   11   15]\n",
      " [  37   10   17   13   75]\n",
      " [  58   17   14   47 1287]]\n",
      "\n",
      "f1 numerical columns: 53.442%\n",
      "f1 bias (only ones): 37.401%\n",
      "f1 cat boost numerical columns: 55.173%\n",
      "f1 CountVectorizer ngram_range=(1, 1): 71.479%\n"
     ]
    }
   ],
   "source": [
    "from sklearn.metrics import confusion_matrix\n",
    "\n",
    "print_results(y_test, log_pred, name='CountVectorizer ngram_range=(1, 1)')"
   ]
  },
  {
   "cell_type": "code",
   "execution_count": 49,
   "metadata": {},
   "outputs": [],
   "source": [
    "# Функция для отправки тестовых данных\n",
    "def make_submission(classificator, vectorizer, test_data, filename='my_submission.csv'):\n",
    "    test_bow = vectorizer.transform(test_data)\n",
    "    test_predict = classificator.predict(test_bow)\n",
    "\n",
    "    test_answer = pd.DataFrame(test_predict, columns=['grades'], index=test_df.index)\n",
    "    test_answer.to_csv(filename, index_label='inds')"
   ]
  },
  {
   "cell_type": "code",
   "execution_count": null,
   "metadata": {},
   "outputs": [],
   "source": [
    "# создаю тестовые данные\n",
    "\n",
    "# make_submission(\n",
    "#     vectorizer=vec,\n",
    "#     test_data=test_df.lemmas,\n",
    "#     classificator=log_clf,\n",
    "#     filename='my_answer_count_vectorizer_1_1_log.csv',\n",
    "# )\n"
   ]
  },
  {
   "cell_type": "code",
   "execution_count": 50,
   "metadata": {},
   "outputs": [
    {
     "name": "stdout",
     "output_type": "stream",
     "text": [
      "Размер словаря для 2-грамм: 1597515\n"
     ]
    }
   ],
   "source": [
    "# Использую для векторизации ngram_range=(2, 2)\n",
    "\n",
    "from sklearn.feature_extraction.text import CountVectorizer\n",
    "\n",
    "vec2 = CountVectorizer(ngram_range=(2, 2))\n",
    "bow2 = vec2.fit_transform(X_train.lemmas)\n",
    "print(f\"Размер словаря для 2-грамм: {bow2.shape[1]}\")\n"
   ]
  },
  {
   "cell_type": "code",
   "execution_count": 51,
   "metadata": {},
   "outputs": [
    {
     "name": "stderr",
     "output_type": "stream",
     "text": [
      "/root/scripts/python/ml/.venv/lib/python3.10/site-packages/sklearn/linear_model/_logistic.py:458: ConvergenceWarning: lbfgs failed to converge (status=1):\n",
      "STOP: TOTAL NO. of ITERATIONS REACHED LIMIT.\n",
      "\n",
      "Increase the number of iterations (max_iter) or scale the data as shown in:\n",
      "    https://scikit-learn.org/stable/modules/preprocessing.html\n",
      "Please also refer to the documentation for alternative solver options:\n",
      "    https://scikit-learn.org/stable/modules/linear_model.html#logistic-regression\n",
      "  n_iter_i = _check_optimize_result(\n"
     ]
    },
    {
     "data": {
      "text/html": [
       "<style>#sk-container-id-3 {color: black;background-color: white;}#sk-container-id-3 pre{padding: 0;}#sk-container-id-3 div.sk-toggleable {background-color: white;}#sk-container-id-3 label.sk-toggleable__label {cursor: pointer;display: block;width: 100%;margin-bottom: 0;padding: 0.3em;box-sizing: border-box;text-align: center;}#sk-container-id-3 label.sk-toggleable__label-arrow:before {content: \"▸\";float: left;margin-right: 0.25em;color: #696969;}#sk-container-id-3 label.sk-toggleable__label-arrow:hover:before {color: black;}#sk-container-id-3 div.sk-estimator:hover label.sk-toggleable__label-arrow:before {color: black;}#sk-container-id-3 div.sk-toggleable__content {max-height: 0;max-width: 0;overflow: hidden;text-align: left;background-color: #f0f8ff;}#sk-container-id-3 div.sk-toggleable__content pre {margin: 0.2em;color: black;border-radius: 0.25em;background-color: #f0f8ff;}#sk-container-id-3 input.sk-toggleable__control:checked~div.sk-toggleable__content {max-height: 200px;max-width: 100%;overflow: auto;}#sk-container-id-3 input.sk-toggleable__control:checked~label.sk-toggleable__label-arrow:before {content: \"▾\";}#sk-container-id-3 div.sk-estimator input.sk-toggleable__control:checked~label.sk-toggleable__label {background-color: #d4ebff;}#sk-container-id-3 div.sk-label input.sk-toggleable__control:checked~label.sk-toggleable__label {background-color: #d4ebff;}#sk-container-id-3 input.sk-hidden--visually {border: 0;clip: rect(1px 1px 1px 1px);clip: rect(1px, 1px, 1px, 1px);height: 1px;margin: -1px;overflow: hidden;padding: 0;position: absolute;width: 1px;}#sk-container-id-3 div.sk-estimator {font-family: monospace;background-color: #f0f8ff;border: 1px dotted black;border-radius: 0.25em;box-sizing: border-box;margin-bottom: 0.5em;}#sk-container-id-3 div.sk-estimator:hover {background-color: #d4ebff;}#sk-container-id-3 div.sk-parallel-item::after {content: \"\";width: 100%;border-bottom: 1px solid gray;flex-grow: 1;}#sk-container-id-3 div.sk-label:hover label.sk-toggleable__label {background-color: #d4ebff;}#sk-container-id-3 div.sk-serial::before {content: \"\";position: absolute;border-left: 1px solid gray;box-sizing: border-box;top: 0;bottom: 0;left: 50%;z-index: 0;}#sk-container-id-3 div.sk-serial {display: flex;flex-direction: column;align-items: center;background-color: white;padding-right: 0.2em;padding-left: 0.2em;position: relative;}#sk-container-id-3 div.sk-item {position: relative;z-index: 1;}#sk-container-id-3 div.sk-parallel {display: flex;align-items: stretch;justify-content: center;background-color: white;position: relative;}#sk-container-id-3 div.sk-item::before, #sk-container-id-3 div.sk-parallel-item::before {content: \"\";position: absolute;border-left: 1px solid gray;box-sizing: border-box;top: 0;bottom: 0;left: 50%;z-index: -1;}#sk-container-id-3 div.sk-parallel-item {display: flex;flex-direction: column;z-index: 1;position: relative;background-color: white;}#sk-container-id-3 div.sk-parallel-item:first-child::after {align-self: flex-end;width: 50%;}#sk-container-id-3 div.sk-parallel-item:last-child::after {align-self: flex-start;width: 50%;}#sk-container-id-3 div.sk-parallel-item:only-child::after {width: 0;}#sk-container-id-3 div.sk-dashed-wrapped {border: 1px dashed gray;margin: 0 0.4em 0.5em 0.4em;box-sizing: border-box;padding-bottom: 0.4em;background-color: white;}#sk-container-id-3 div.sk-label label {font-family: monospace;font-weight: bold;display: inline-block;line-height: 1.2em;}#sk-container-id-3 div.sk-label-container {text-align: center;}#sk-container-id-3 div.sk-container {/* jupyter's `normalize.less` sets `[hidden] { display: none; }` but bootstrap.min.css set `[hidden] { display: none !important; }` so we also need the `!important` here to be able to override the default hidden behavior on the sphinx rendered scikit-learn.org. See: https://github.com/scikit-learn/scikit-learn/issues/21755 */display: inline-block !important;position: relative;}#sk-container-id-3 div.sk-text-repr-fallback {display: none;}</style><div id=\"sk-container-id-3\" class=\"sk-top-container\"><div class=\"sk-text-repr-fallback\"><pre>LogisticRegression()</pre><b>In a Jupyter environment, please rerun this cell to show the HTML representation or trust the notebook. <br />On GitHub, the HTML representation is unable to render, please try loading this page with nbviewer.org.</b></div><div class=\"sk-container\" hidden><div class=\"sk-item\"><div class=\"sk-estimator sk-toggleable\"><input class=\"sk-toggleable__control sk-hidden--visually\" id=\"sk-estimator-id-3\" type=\"checkbox\" checked><label for=\"sk-estimator-id-3\" class=\"sk-toggleable__label sk-toggleable__label-arrow\">LogisticRegression</label><div class=\"sk-toggleable__content\"><pre>LogisticRegression()</pre></div></div></div></div></div>"
      ],
      "text/plain": [
       "LogisticRegression()"
      ]
     },
     "execution_count": 51,
     "metadata": {},
     "output_type": "execute_result"
    }
   ],
   "source": [
    "log2 = LogisticRegression(max_iter=100)\n",
    "log2.fit(bow2, y_train,)"
   ]
  },
  {
   "cell_type": "code",
   "execution_count": 52,
   "metadata": {},
   "outputs": [
    {
     "name": "stdout",
     "output_type": "stream",
     "text": [
      "Classification report:\n",
      "              precision    recall  f1-score   support\n",
      "\n",
      "           1       0.75      0.96      0.84      2774\n",
      "           2       0.28      0.05      0.08       563\n",
      "           3       0.19      0.02      0.03       236\n",
      "           4       0.08      0.01      0.01       152\n",
      "           5       0.88      0.89      0.89      1423\n",
      "\n",
      "    accuracy                           0.77      5148\n",
      "   macro avg       0.44      0.39      0.37      5148\n",
      "weighted avg       0.69      0.77      0.71      5148\n",
      "\n",
      "Confusion matrix:\n",
      "[[2667   49    7    2   49]\n",
      " [ 507   28    3    2   23]\n",
      " [ 194   14    4    3   21]\n",
      " [  65    5    5    1   76]\n",
      " [ 142    3    2    4 1272]]\n",
      "\n",
      "f1 numerical columns: 53.442%\n",
      "f1 bias (only ones): 37.401%\n",
      "f1 cat boost numerical columns: 55.173%\n",
      "f1 CountVectorizer ngram_range=(1, 1): 71.479%\n",
      "f1 CountVectorizer ngram_range=(2, 2): 70.928%\n"
     ]
    }
   ],
   "source": [
    "log2_pred = log2.predict(vec2.transform(X_test.lemmas))\n",
    "\n",
    "print_results(y_test, log2_pred, name='CountVectorizer ngram_range=(2, 2)')"
   ]
  },
  {
   "cell_type": "code",
   "execution_count": 53,
   "metadata": {},
   "outputs": [],
   "source": [
    "# ngram range= (1, 2)\n",
    "\n",
    "vec12 = CountVectorizer(ngram_range=(1, 2))\n",
    "bow12 = vec12.fit_transform(X_train.lemmas)"
   ]
  },
  {
   "cell_type": "code",
   "execution_count": 54,
   "metadata": {},
   "outputs": [
    {
     "data": {
      "text/plain": [
       "((46328, 59584), (46328, 1597515), (46328, 1657099))"
      ]
     },
     "execution_count": 54,
     "metadata": {},
     "output_type": "execute_result"
    }
   ],
   "source": [
    "bow.shape, bow2.shape, bow12.shape"
   ]
  },
  {
   "cell_type": "code",
   "execution_count": 55,
   "metadata": {},
   "outputs": [
    {
     "name": "stderr",
     "output_type": "stream",
     "text": [
      "/root/scripts/python/ml/.venv/lib/python3.10/site-packages/sklearn/linear_model/_logistic.py:458: ConvergenceWarning: lbfgs failed to converge (status=1):\n",
      "STOP: TOTAL NO. of ITERATIONS REACHED LIMIT.\n",
      "\n",
      "Increase the number of iterations (max_iter) or scale the data as shown in:\n",
      "    https://scikit-learn.org/stable/modules/preprocessing.html\n",
      "Please also refer to the documentation for alternative solver options:\n",
      "    https://scikit-learn.org/stable/modules/linear_model.html#logistic-regression\n",
      "  n_iter_i = _check_optimize_result(\n"
     ]
    },
    {
     "data": {
      "text/html": [
       "<style>#sk-container-id-4 {color: black;background-color: white;}#sk-container-id-4 pre{padding: 0;}#sk-container-id-4 div.sk-toggleable {background-color: white;}#sk-container-id-4 label.sk-toggleable__label {cursor: pointer;display: block;width: 100%;margin-bottom: 0;padding: 0.3em;box-sizing: border-box;text-align: center;}#sk-container-id-4 label.sk-toggleable__label-arrow:before {content: \"▸\";float: left;margin-right: 0.25em;color: #696969;}#sk-container-id-4 label.sk-toggleable__label-arrow:hover:before {color: black;}#sk-container-id-4 div.sk-estimator:hover label.sk-toggleable__label-arrow:before {color: black;}#sk-container-id-4 div.sk-toggleable__content {max-height: 0;max-width: 0;overflow: hidden;text-align: left;background-color: #f0f8ff;}#sk-container-id-4 div.sk-toggleable__content pre {margin: 0.2em;color: black;border-radius: 0.25em;background-color: #f0f8ff;}#sk-container-id-4 input.sk-toggleable__control:checked~div.sk-toggleable__content {max-height: 200px;max-width: 100%;overflow: auto;}#sk-container-id-4 input.sk-toggleable__control:checked~label.sk-toggleable__label-arrow:before {content: \"▾\";}#sk-container-id-4 div.sk-estimator input.sk-toggleable__control:checked~label.sk-toggleable__label {background-color: #d4ebff;}#sk-container-id-4 div.sk-label input.sk-toggleable__control:checked~label.sk-toggleable__label {background-color: #d4ebff;}#sk-container-id-4 input.sk-hidden--visually {border: 0;clip: rect(1px 1px 1px 1px);clip: rect(1px, 1px, 1px, 1px);height: 1px;margin: -1px;overflow: hidden;padding: 0;position: absolute;width: 1px;}#sk-container-id-4 div.sk-estimator {font-family: monospace;background-color: #f0f8ff;border: 1px dotted black;border-radius: 0.25em;box-sizing: border-box;margin-bottom: 0.5em;}#sk-container-id-4 div.sk-estimator:hover {background-color: #d4ebff;}#sk-container-id-4 div.sk-parallel-item::after {content: \"\";width: 100%;border-bottom: 1px solid gray;flex-grow: 1;}#sk-container-id-4 div.sk-label:hover label.sk-toggleable__label {background-color: #d4ebff;}#sk-container-id-4 div.sk-serial::before {content: \"\";position: absolute;border-left: 1px solid gray;box-sizing: border-box;top: 0;bottom: 0;left: 50%;z-index: 0;}#sk-container-id-4 div.sk-serial {display: flex;flex-direction: column;align-items: center;background-color: white;padding-right: 0.2em;padding-left: 0.2em;position: relative;}#sk-container-id-4 div.sk-item {position: relative;z-index: 1;}#sk-container-id-4 div.sk-parallel {display: flex;align-items: stretch;justify-content: center;background-color: white;position: relative;}#sk-container-id-4 div.sk-item::before, #sk-container-id-4 div.sk-parallel-item::before {content: \"\";position: absolute;border-left: 1px solid gray;box-sizing: border-box;top: 0;bottom: 0;left: 50%;z-index: -1;}#sk-container-id-4 div.sk-parallel-item {display: flex;flex-direction: column;z-index: 1;position: relative;background-color: white;}#sk-container-id-4 div.sk-parallel-item:first-child::after {align-self: flex-end;width: 50%;}#sk-container-id-4 div.sk-parallel-item:last-child::after {align-self: flex-start;width: 50%;}#sk-container-id-4 div.sk-parallel-item:only-child::after {width: 0;}#sk-container-id-4 div.sk-dashed-wrapped {border: 1px dashed gray;margin: 0 0.4em 0.5em 0.4em;box-sizing: border-box;padding-bottom: 0.4em;background-color: white;}#sk-container-id-4 div.sk-label label {font-family: monospace;font-weight: bold;display: inline-block;line-height: 1.2em;}#sk-container-id-4 div.sk-label-container {text-align: center;}#sk-container-id-4 div.sk-container {/* jupyter's `normalize.less` sets `[hidden] { display: none; }` but bootstrap.min.css set `[hidden] { display: none !important; }` so we also need the `!important` here to be able to override the default hidden behavior on the sphinx rendered scikit-learn.org. See: https://github.com/scikit-learn/scikit-learn/issues/21755 */display: inline-block !important;position: relative;}#sk-container-id-4 div.sk-text-repr-fallback {display: none;}</style><div id=\"sk-container-id-4\" class=\"sk-top-container\"><div class=\"sk-text-repr-fallback\"><pre>LogisticRegression(max_iter=200)</pre><b>In a Jupyter environment, please rerun this cell to show the HTML representation or trust the notebook. <br />On GitHub, the HTML representation is unable to render, please try loading this page with nbviewer.org.</b></div><div class=\"sk-container\" hidden><div class=\"sk-item\"><div class=\"sk-estimator sk-toggleable\"><input class=\"sk-toggleable__control sk-hidden--visually\" id=\"sk-estimator-id-4\" type=\"checkbox\" checked><label for=\"sk-estimator-id-4\" class=\"sk-toggleable__label sk-toggleable__label-arrow\">LogisticRegression</label><div class=\"sk-toggleable__content\"><pre>LogisticRegression(max_iter=200)</pre></div></div></div></div></div>"
      ],
      "text/plain": [
       "LogisticRegression(max_iter=200)"
      ]
     },
     "execution_count": 55,
     "metadata": {},
     "output_type": "execute_result"
    }
   ],
   "source": [
    "log12 = LogisticRegression(max_iter=200)\n",
    "log12.fit(bow12, y_train)"
   ]
  },
  {
   "cell_type": "code",
   "execution_count": 56,
   "metadata": {},
   "outputs": [
    {
     "name": "stdout",
     "output_type": "stream",
     "text": [
      "Classification report:\n",
      "              precision    recall  f1-score   support\n",
      "\n",
      "           1       0.77      0.93      0.84      2774\n",
      "           2       0.27      0.10      0.15       563\n",
      "           3       0.18      0.06      0.09       236\n",
      "           4       0.19      0.07      0.10       152\n",
      "           5       0.89      0.93      0.91      1423\n",
      "\n",
      "    accuracy                           0.77      5148\n",
      "   macro avg       0.46      0.42      0.42      5148\n",
      "weighted avg       0.71      0.77      0.73      5148\n",
      "\n",
      "Confusion matrix:\n",
      "[[2581  113   31    8   41]\n",
      " [ 469   56   15    6   17]\n",
      " [ 165   28   15    9   19]\n",
      " [  44    6   14   10   78]\n",
      " [  76    3    7   19 1318]]\n",
      "\n",
      "f1 numerical columns: 53.442%\n",
      "f1 bias (only ones): 37.401%\n",
      "f1 cat boost numerical columns: 55.173%\n",
      "f1 CountVectorizer ngram_range=(1, 1): 71.479%\n",
      "f1 CountVectorizer ngram_range=(2, 2): 70.928%\n",
      "f1 CountVectorizer ngram_range=(1, 2): 73.007%\n"
     ]
    }
   ],
   "source": [
    "bow12_test = vec12.transform(X_test.lemmas)\n",
    "log12_pred = log12.predict(bow12_test)\n",
    "\n",
    "print_results(y_test, log12_pred, name='CountVectorizer ngram_range=(1, 2)')"
   ]
  },
  {
   "cell_type": "code",
   "execution_count": null,
   "metadata": {},
   "outputs": [],
   "source": [
    "# сделаем тестовые данные для CountVectorizer(ngram_range=(1, 2))\n",
    "test_bow = vec12.transform(test_df.lemmas)\n",
    "test_predict = log12.predict(test_bow)\n",
    "\n",
    "test_answer = pd.DataFrame(test_predict, columns=['grades'], index=test_df.index)\n",
    "test_answer.to_csv('my_submission_count_vectorizer_1_2_log.csv', index_label='inds')"
   ]
  },
  {
   "cell_type": "code",
   "execution_count": 57,
   "metadata": {},
   "outputs": [
    {
     "data": {
      "text/html": [
       "<style>#sk-container-id-5 {color: black;background-color: white;}#sk-container-id-5 pre{padding: 0;}#sk-container-id-5 div.sk-toggleable {background-color: white;}#sk-container-id-5 label.sk-toggleable__label {cursor: pointer;display: block;width: 100%;margin-bottom: 0;padding: 0.3em;box-sizing: border-box;text-align: center;}#sk-container-id-5 label.sk-toggleable__label-arrow:before {content: \"▸\";float: left;margin-right: 0.25em;color: #696969;}#sk-container-id-5 label.sk-toggleable__label-arrow:hover:before {color: black;}#sk-container-id-5 div.sk-estimator:hover label.sk-toggleable__label-arrow:before {color: black;}#sk-container-id-5 div.sk-toggleable__content {max-height: 0;max-width: 0;overflow: hidden;text-align: left;background-color: #f0f8ff;}#sk-container-id-5 div.sk-toggleable__content pre {margin: 0.2em;color: black;border-radius: 0.25em;background-color: #f0f8ff;}#sk-container-id-5 input.sk-toggleable__control:checked~div.sk-toggleable__content {max-height: 200px;max-width: 100%;overflow: auto;}#sk-container-id-5 input.sk-toggleable__control:checked~label.sk-toggleable__label-arrow:before {content: \"▾\";}#sk-container-id-5 div.sk-estimator input.sk-toggleable__control:checked~label.sk-toggleable__label {background-color: #d4ebff;}#sk-container-id-5 div.sk-label input.sk-toggleable__control:checked~label.sk-toggleable__label {background-color: #d4ebff;}#sk-container-id-5 input.sk-hidden--visually {border: 0;clip: rect(1px 1px 1px 1px);clip: rect(1px, 1px, 1px, 1px);height: 1px;margin: -1px;overflow: hidden;padding: 0;position: absolute;width: 1px;}#sk-container-id-5 div.sk-estimator {font-family: monospace;background-color: #f0f8ff;border: 1px dotted black;border-radius: 0.25em;box-sizing: border-box;margin-bottom: 0.5em;}#sk-container-id-5 div.sk-estimator:hover {background-color: #d4ebff;}#sk-container-id-5 div.sk-parallel-item::after {content: \"\";width: 100%;border-bottom: 1px solid gray;flex-grow: 1;}#sk-container-id-5 div.sk-label:hover label.sk-toggleable__label {background-color: #d4ebff;}#sk-container-id-5 div.sk-serial::before {content: \"\";position: absolute;border-left: 1px solid gray;box-sizing: border-box;top: 0;bottom: 0;left: 50%;z-index: 0;}#sk-container-id-5 div.sk-serial {display: flex;flex-direction: column;align-items: center;background-color: white;padding-right: 0.2em;padding-left: 0.2em;position: relative;}#sk-container-id-5 div.sk-item {position: relative;z-index: 1;}#sk-container-id-5 div.sk-parallel {display: flex;align-items: stretch;justify-content: center;background-color: white;position: relative;}#sk-container-id-5 div.sk-item::before, #sk-container-id-5 div.sk-parallel-item::before {content: \"\";position: absolute;border-left: 1px solid gray;box-sizing: border-box;top: 0;bottom: 0;left: 50%;z-index: -1;}#sk-container-id-5 div.sk-parallel-item {display: flex;flex-direction: column;z-index: 1;position: relative;background-color: white;}#sk-container-id-5 div.sk-parallel-item:first-child::after {align-self: flex-end;width: 50%;}#sk-container-id-5 div.sk-parallel-item:last-child::after {align-self: flex-start;width: 50%;}#sk-container-id-5 div.sk-parallel-item:only-child::after {width: 0;}#sk-container-id-5 div.sk-dashed-wrapped {border: 1px dashed gray;margin: 0 0.4em 0.5em 0.4em;box-sizing: border-box;padding-bottom: 0.4em;background-color: white;}#sk-container-id-5 div.sk-label label {font-family: monospace;font-weight: bold;display: inline-block;line-height: 1.2em;}#sk-container-id-5 div.sk-label-container {text-align: center;}#sk-container-id-5 div.sk-container {/* jupyter's `normalize.less` sets `[hidden] { display: none; }` but bootstrap.min.css set `[hidden] { display: none !important; }` so we also need the `!important` here to be able to override the default hidden behavior on the sphinx rendered scikit-learn.org. See: https://github.com/scikit-learn/scikit-learn/issues/21755 */display: inline-block !important;position: relative;}#sk-container-id-5 div.sk-text-repr-fallback {display: none;}</style><div id=\"sk-container-id-5\" class=\"sk-top-container\"><div class=\"sk-text-repr-fallback\"><pre>AdaBoostClassifier(n_estimators=100)</pre><b>In a Jupyter environment, please rerun this cell to show the HTML representation or trust the notebook. <br />On GitHub, the HTML representation is unable to render, please try loading this page with nbviewer.org.</b></div><div class=\"sk-container\" hidden><div class=\"sk-item\"><div class=\"sk-estimator sk-toggleable\"><input class=\"sk-toggleable__control sk-hidden--visually\" id=\"sk-estimator-id-5\" type=\"checkbox\" checked><label for=\"sk-estimator-id-5\" class=\"sk-toggleable__label sk-toggleable__label-arrow\">AdaBoostClassifier</label><div class=\"sk-toggleable__content\"><pre>AdaBoostClassifier(n_estimators=100)</pre></div></div></div></div></div>"
      ],
      "text/plain": [
       "AdaBoostClassifier(n_estimators=100)"
      ]
     },
     "execution_count": 57,
     "metadata": {},
     "output_type": "execute_result"
    }
   ],
   "source": [
    "# import microsoft boost classifier\n",
    "from sklearn.ensemble import AdaBoostClassifier\n",
    "ada = AdaBoostClassifier(n_estimators=100)\n",
    "\n",
    "ada.fit(bow12, y_train, )"
   ]
  },
  {
   "cell_type": "code",
   "execution_count": 58,
   "metadata": {},
   "outputs": [
    {
     "name": "stdout",
     "output_type": "stream",
     "text": [
      "Classification report:\n",
      "              precision    recall  f1-score   support\n",
      "\n",
      "           1       0.74      0.96      0.83      2774\n",
      "           2       0.64      0.02      0.03       563\n",
      "           3       0.00      0.00      0.00       236\n",
      "           4       0.25      0.04      0.07       152\n",
      "           5       0.83      0.87      0.85      1423\n",
      "\n",
      "    accuracy                           0.76      5148\n",
      "   macro avg       0.49      0.38      0.36      5148\n",
      "weighted avg       0.70      0.76      0.69      5148\n",
      "\n",
      "Confusion matrix:\n",
      "[[2671    4    1    7   91]\n",
      " [ 511    9    1    2   40]\n",
      " [ 197    1    0    3   35]\n",
      " [  65    0    1    6   80]\n",
      " [ 184    0    0    6 1233]]\n",
      "\n",
      "f1 numerical columns: 53.442%\n",
      "f1 bias (only ones): 37.401%\n",
      "f1 cat boost numerical columns: 55.173%\n",
      "f1 CountVectorizer ngram_range=(1, 1): 71.479%\n",
      "f1 CountVectorizer ngram_range=(2, 2): 70.928%\n",
      "f1 CountVectorizer ngram_range=(1, 2): 73.007%\n",
      "f1 AdaBoost CountVectorizer(ngram_range=(1, 2)): 68.994%\n"
     ]
    }
   ],
   "source": [
    "ada_pred = ada.predict(bow12_test)\n",
    "\n",
    "print_results(y_test, ada_pred, name='AdaBoost CountVectorizer(ngram_range=(1, 2))')"
   ]
  },
  {
   "cell_type": "code",
   "execution_count": null,
   "metadata": {},
   "outputs": [],
   "source": [
    "# AdaBoost показал чуть худшую метрику"
   ]
  },
  {
   "cell_type": "code",
   "execution_count": 59,
   "metadata": {},
   "outputs": [
    {
     "name": "stderr",
     "output_type": "stream",
     "text": [
      "[nltk_data] Downloading package punkt to /root/nltk_data...\n",
      "[nltk_data]   Package punkt is already up-to-date!\n",
      "/root/scripts/python/ml/.venv/lib/python3.10/site-packages/sklearn/feature_extraction/text.py:528: UserWarning: The parameter 'token_pattern' will not be used since 'tokenizer' is not None'\n",
      "  warnings.warn(\n"
     ]
    }
   ],
   "source": [
    "# теперь веткоризавтор на основе подсчета tf-idf\n",
    "nltk.download('punkt')\n",
    "from sklearn.feature_extraction.text import TfidfVectorizer\n",
    "from nltk.tokenize import word_tokenize\n",
    "\n",
    "tf_vec1 = TfidfVectorizer(ngram_range=(1, 1), tokenizer=word_tokenize)\n",
    "tf_bow1 = tf_vec1.fit_transform(X_train.lemmas)"
   ]
  },
  {
   "cell_type": "code",
   "execution_count": 60,
   "metadata": {},
   "outputs": [
    {
     "data": {
      "text/html": [
       "<style>#sk-container-id-6 {color: black;background-color: white;}#sk-container-id-6 pre{padding: 0;}#sk-container-id-6 div.sk-toggleable {background-color: white;}#sk-container-id-6 label.sk-toggleable__label {cursor: pointer;display: block;width: 100%;margin-bottom: 0;padding: 0.3em;box-sizing: border-box;text-align: center;}#sk-container-id-6 label.sk-toggleable__label-arrow:before {content: \"▸\";float: left;margin-right: 0.25em;color: #696969;}#sk-container-id-6 label.sk-toggleable__label-arrow:hover:before {color: black;}#sk-container-id-6 div.sk-estimator:hover label.sk-toggleable__label-arrow:before {color: black;}#sk-container-id-6 div.sk-toggleable__content {max-height: 0;max-width: 0;overflow: hidden;text-align: left;background-color: #f0f8ff;}#sk-container-id-6 div.sk-toggleable__content pre {margin: 0.2em;color: black;border-radius: 0.25em;background-color: #f0f8ff;}#sk-container-id-6 input.sk-toggleable__control:checked~div.sk-toggleable__content {max-height: 200px;max-width: 100%;overflow: auto;}#sk-container-id-6 input.sk-toggleable__control:checked~label.sk-toggleable__label-arrow:before {content: \"▾\";}#sk-container-id-6 div.sk-estimator input.sk-toggleable__control:checked~label.sk-toggleable__label {background-color: #d4ebff;}#sk-container-id-6 div.sk-label input.sk-toggleable__control:checked~label.sk-toggleable__label {background-color: #d4ebff;}#sk-container-id-6 input.sk-hidden--visually {border: 0;clip: rect(1px 1px 1px 1px);clip: rect(1px, 1px, 1px, 1px);height: 1px;margin: -1px;overflow: hidden;padding: 0;position: absolute;width: 1px;}#sk-container-id-6 div.sk-estimator {font-family: monospace;background-color: #f0f8ff;border: 1px dotted black;border-radius: 0.25em;box-sizing: border-box;margin-bottom: 0.5em;}#sk-container-id-6 div.sk-estimator:hover {background-color: #d4ebff;}#sk-container-id-6 div.sk-parallel-item::after {content: \"\";width: 100%;border-bottom: 1px solid gray;flex-grow: 1;}#sk-container-id-6 div.sk-label:hover label.sk-toggleable__label {background-color: #d4ebff;}#sk-container-id-6 div.sk-serial::before {content: \"\";position: absolute;border-left: 1px solid gray;box-sizing: border-box;top: 0;bottom: 0;left: 50%;z-index: 0;}#sk-container-id-6 div.sk-serial {display: flex;flex-direction: column;align-items: center;background-color: white;padding-right: 0.2em;padding-left: 0.2em;position: relative;}#sk-container-id-6 div.sk-item {position: relative;z-index: 1;}#sk-container-id-6 div.sk-parallel {display: flex;align-items: stretch;justify-content: center;background-color: white;position: relative;}#sk-container-id-6 div.sk-item::before, #sk-container-id-6 div.sk-parallel-item::before {content: \"\";position: absolute;border-left: 1px solid gray;box-sizing: border-box;top: 0;bottom: 0;left: 50%;z-index: -1;}#sk-container-id-6 div.sk-parallel-item {display: flex;flex-direction: column;z-index: 1;position: relative;background-color: white;}#sk-container-id-6 div.sk-parallel-item:first-child::after {align-self: flex-end;width: 50%;}#sk-container-id-6 div.sk-parallel-item:last-child::after {align-self: flex-start;width: 50%;}#sk-container-id-6 div.sk-parallel-item:only-child::after {width: 0;}#sk-container-id-6 div.sk-dashed-wrapped {border: 1px dashed gray;margin: 0 0.4em 0.5em 0.4em;box-sizing: border-box;padding-bottom: 0.4em;background-color: white;}#sk-container-id-6 div.sk-label label {font-family: monospace;font-weight: bold;display: inline-block;line-height: 1.2em;}#sk-container-id-6 div.sk-label-container {text-align: center;}#sk-container-id-6 div.sk-container {/* jupyter's `normalize.less` sets `[hidden] { display: none; }` but bootstrap.min.css set `[hidden] { display: none !important; }` so we also need the `!important` here to be able to override the default hidden behavior on the sphinx rendered scikit-learn.org. See: https://github.com/scikit-learn/scikit-learn/issues/21755 */display: inline-block !important;position: relative;}#sk-container-id-6 div.sk-text-repr-fallback {display: none;}</style><div id=\"sk-container-id-6\" class=\"sk-top-container\"><div class=\"sk-text-repr-fallback\"><pre>LogisticRegression(max_iter=300)</pre><b>In a Jupyter environment, please rerun this cell to show the HTML representation or trust the notebook. <br />On GitHub, the HTML representation is unable to render, please try loading this page with nbviewer.org.</b></div><div class=\"sk-container\" hidden><div class=\"sk-item\"><div class=\"sk-estimator sk-toggleable\"><input class=\"sk-toggleable__control sk-hidden--visually\" id=\"sk-estimator-id-6\" type=\"checkbox\" checked><label for=\"sk-estimator-id-6\" class=\"sk-toggleable__label sk-toggleable__label-arrow\">LogisticRegression</label><div class=\"sk-toggleable__content\"><pre>LogisticRegression(max_iter=300)</pre></div></div></div></div></div>"
      ],
      "text/plain": [
       "LogisticRegression(max_iter=300)"
      ]
     },
     "execution_count": 60,
     "metadata": {},
     "output_type": "execute_result"
    }
   ],
   "source": [
    "tf_log1 = LogisticRegression(max_iter=300)\n",
    "tf_log1.fit(tf_bow1, y_train)"
   ]
  },
  {
   "cell_type": "code",
   "execution_count": 62,
   "metadata": {},
   "outputs": [
    {
     "name": "stdout",
     "output_type": "stream",
     "text": [
      "Classification report:\n",
      "              precision    recall  f1-score   support\n",
      "\n",
      "           1       0.75      0.98      0.85      2774\n",
      "           2       0.20      0.02      0.03       563\n",
      "           3       0.18      0.01      0.02       236\n",
      "           4       0.50      0.03      0.06       152\n",
      "           5       0.90      0.92      0.91      1423\n",
      "\n",
      "    accuracy                           0.78      5148\n",
      "   macro avg       0.50      0.39      0.38      5148\n",
      "weighted avg       0.70      0.78      0.72      5148\n",
      "\n",
      "Confusion matrix:\n",
      "[[2712   23    3    1   35]\n",
      " [ 537   10    3    0   13]\n",
      " [ 200   12    3    1   20]\n",
      " [  57    3    6    5   81]\n",
      " [ 105    3    2    3 1310]]\n",
      "\n",
      "f1 numerical columns: 53.442%\n",
      "f1 bias (only ones): 37.401%\n",
      "f1 cat boost numerical columns: 55.173%\n",
      "f1 CountVectorizer ngram_range=(1, 1): 71.479%\n",
      "f1 CountVectorizer ngram_range=(2, 2): 70.928%\n",
      "f1 CountVectorizer ngram_range=(1, 2): 73.007%\n",
      "f1 AdaBoost CountVectorizer(ngram_range=(1, 2)): 68.994%\n",
      "f1 TF-IDF ngram=(1, 1): 71.551%\n"
     ]
    }
   ],
   "source": [
    "tf_bow1_test = tf_vec1.transform(X_test.lemmas)\n",
    "tf_log1_pred = tf_log1.predict(tf_bow1_test)\n",
    "\n",
    "print_results(y_test, tf_log1_pred, name='TF-IDF ngram=(1, 1)')"
   ]
  },
  {
   "cell_type": "code",
   "execution_count": null,
   "metadata": {},
   "outputs": [],
   "source": [
    "test_tf_bow = tf_vec1.transform(test_df.lemmas)\n",
    "test_tf_predict = tf_log1.predict(test_tf_bow)\n",
    "\n",
    "test_answer = pd.DataFrame(test_tf_predict, columns=['grades'], index=test_df.index)\n",
    "test_answer.to_csv('my_submission_tf_idf_ngrams=1_1.csv', index_label='inds')"
   ]
  },
  {
   "cell_type": "code",
   "execution_count": 63,
   "metadata": {},
   "outputs": [
    {
     "data": {
      "text/html": [
       "<style>#sk-container-id-7 {color: black;background-color: white;}#sk-container-id-7 pre{padding: 0;}#sk-container-id-7 div.sk-toggleable {background-color: white;}#sk-container-id-7 label.sk-toggleable__label {cursor: pointer;display: block;width: 100%;margin-bottom: 0;padding: 0.3em;box-sizing: border-box;text-align: center;}#sk-container-id-7 label.sk-toggleable__label-arrow:before {content: \"▸\";float: left;margin-right: 0.25em;color: #696969;}#sk-container-id-7 label.sk-toggleable__label-arrow:hover:before {color: black;}#sk-container-id-7 div.sk-estimator:hover label.sk-toggleable__label-arrow:before {color: black;}#sk-container-id-7 div.sk-toggleable__content {max-height: 0;max-width: 0;overflow: hidden;text-align: left;background-color: #f0f8ff;}#sk-container-id-7 div.sk-toggleable__content pre {margin: 0.2em;color: black;border-radius: 0.25em;background-color: #f0f8ff;}#sk-container-id-7 input.sk-toggleable__control:checked~div.sk-toggleable__content {max-height: 200px;max-width: 100%;overflow: auto;}#sk-container-id-7 input.sk-toggleable__control:checked~label.sk-toggleable__label-arrow:before {content: \"▾\";}#sk-container-id-7 div.sk-estimator input.sk-toggleable__control:checked~label.sk-toggleable__label {background-color: #d4ebff;}#sk-container-id-7 div.sk-label input.sk-toggleable__control:checked~label.sk-toggleable__label {background-color: #d4ebff;}#sk-container-id-7 input.sk-hidden--visually {border: 0;clip: rect(1px 1px 1px 1px);clip: rect(1px, 1px, 1px, 1px);height: 1px;margin: -1px;overflow: hidden;padding: 0;position: absolute;width: 1px;}#sk-container-id-7 div.sk-estimator {font-family: monospace;background-color: #f0f8ff;border: 1px dotted black;border-radius: 0.25em;box-sizing: border-box;margin-bottom: 0.5em;}#sk-container-id-7 div.sk-estimator:hover {background-color: #d4ebff;}#sk-container-id-7 div.sk-parallel-item::after {content: \"\";width: 100%;border-bottom: 1px solid gray;flex-grow: 1;}#sk-container-id-7 div.sk-label:hover label.sk-toggleable__label {background-color: #d4ebff;}#sk-container-id-7 div.sk-serial::before {content: \"\";position: absolute;border-left: 1px solid gray;box-sizing: border-box;top: 0;bottom: 0;left: 50%;z-index: 0;}#sk-container-id-7 div.sk-serial {display: flex;flex-direction: column;align-items: center;background-color: white;padding-right: 0.2em;padding-left: 0.2em;position: relative;}#sk-container-id-7 div.sk-item {position: relative;z-index: 1;}#sk-container-id-7 div.sk-parallel {display: flex;align-items: stretch;justify-content: center;background-color: white;position: relative;}#sk-container-id-7 div.sk-item::before, #sk-container-id-7 div.sk-parallel-item::before {content: \"\";position: absolute;border-left: 1px solid gray;box-sizing: border-box;top: 0;bottom: 0;left: 50%;z-index: -1;}#sk-container-id-7 div.sk-parallel-item {display: flex;flex-direction: column;z-index: 1;position: relative;background-color: white;}#sk-container-id-7 div.sk-parallel-item:first-child::after {align-self: flex-end;width: 50%;}#sk-container-id-7 div.sk-parallel-item:last-child::after {align-self: flex-start;width: 50%;}#sk-container-id-7 div.sk-parallel-item:only-child::after {width: 0;}#sk-container-id-7 div.sk-dashed-wrapped {border: 1px dashed gray;margin: 0 0.4em 0.5em 0.4em;box-sizing: border-box;padding-bottom: 0.4em;background-color: white;}#sk-container-id-7 div.sk-label label {font-family: monospace;font-weight: bold;display: inline-block;line-height: 1.2em;}#sk-container-id-7 div.sk-label-container {text-align: center;}#sk-container-id-7 div.sk-container {/* jupyter's `normalize.less` sets `[hidden] { display: none; }` but bootstrap.min.css set `[hidden] { display: none !important; }` so we also need the `!important` here to be able to override the default hidden behavior on the sphinx rendered scikit-learn.org. See: https://github.com/scikit-learn/scikit-learn/issues/21755 */display: inline-block !important;position: relative;}#sk-container-id-7 div.sk-text-repr-fallback {display: none;}</style><div id=\"sk-container-id-7\" class=\"sk-top-container\"><div class=\"sk-text-repr-fallback\"><pre>AdaBoostClassifier(n_estimators=100)</pre><b>In a Jupyter environment, please rerun this cell to show the HTML representation or trust the notebook. <br />On GitHub, the HTML representation is unable to render, please try loading this page with nbviewer.org.</b></div><div class=\"sk-container\" hidden><div class=\"sk-item\"><div class=\"sk-estimator sk-toggleable\"><input class=\"sk-toggleable__control sk-hidden--visually\" id=\"sk-estimator-id-7\" type=\"checkbox\" checked><label for=\"sk-estimator-id-7\" class=\"sk-toggleable__label sk-toggleable__label-arrow\">AdaBoostClassifier</label><div class=\"sk-toggleable__content\"><pre>AdaBoostClassifier(n_estimators=100)</pre></div></div></div></div></div>"
      ],
      "text/plain": [
       "AdaBoostClassifier(n_estimators=100)"
      ]
     },
     "execution_count": 63,
     "metadata": {},
     "output_type": "execute_result"
    }
   ],
   "source": [
    "# Ada Boost Classifier for tf-idf Vectorizer\n",
    "\n",
    "ada = AdaBoostClassifier(n_estimators=100)\n",
    "ada.fit(tf_bow1, y_train)\n"
   ]
  },
  {
   "cell_type": "code",
   "execution_count": 64,
   "metadata": {},
   "outputs": [
    {
     "name": "stdout",
     "output_type": "stream",
     "text": [
      "Classification report:\n",
      "              precision    recall  f1-score   support\n",
      "\n",
      "           1       0.74      0.97      0.84      2774\n",
      "           2       0.00      0.00      0.00       563\n",
      "           3       0.00      0.00      0.00       236\n",
      "           4       0.30      0.07      0.12       152\n",
      "           5       0.84      0.88      0.86      1423\n",
      "\n",
      "    accuracy                           0.77      5148\n",
      "   macro avg       0.38      0.38      0.36      5148\n",
      "weighted avg       0.64      0.77      0.69      5148\n",
      "\n",
      "Confusion matrix:\n",
      "[[2681    0    0    6   87]\n",
      " [ 516    0    0    3   44]\n",
      " [ 196    0    0    9   31]\n",
      " [  61    0    2   11   78]\n",
      " [ 161    0    0    8 1254]]\n",
      "\n",
      "f1 numerical columns: 53.442%\n",
      "f1 bias (only ones): 37.401%\n",
      "f1 cat boost numerical columns: 55.173%\n",
      "f1 CountVectorizer ngram_range=(1, 1): 71.479%\n",
      "f1 CountVectorizer ngram_range=(2, 2): 70.928%\n",
      "f1 CountVectorizer ngram_range=(1, 2): 73.007%\n",
      "f1 AdaBoost CountVectorizer(ngram_range=(1, 2)): 68.994%\n",
      "f1 TF-IDF ngram=(1, 1): 71.551%\n",
      "f1 AdaBoost TF-IDF ngrams=1_1: 69.333%\n"
     ]
    }
   ],
   "source": [
    "ada_pred = ada.predict(tf_bow1_test)\n",
    "\n",
    "print_results(y_test, ada_pred, name='AdaBoost TF-IDF ngrams=1_1')"
   ]
  },
  {
   "cell_type": "code",
   "execution_count": 65,
   "metadata": {},
   "outputs": [
    {
     "name": "stderr",
     "output_type": "stream",
     "text": [
      "/root/scripts/python/ml/.venv/lib/python3.10/site-packages/sklearn/feature_extraction/text.py:528: UserWarning: The parameter 'token_pattern' will not be used since 'tokenizer' is not None'\n",
      "  warnings.warn(\n"
     ]
    }
   ],
   "source": [
    "## tf-idf for ngram_range=(1, 2)\n",
    "\n",
    "tf_vec12 = TfidfVectorizer(ngram_range=(1, 2), stop_words=['russian'], tokenizer=word_tokenize)\n",
    "tf_vec12.fit(X_train.lemmas)\n",
    "\n",
    "tf_bow12 = tf_vec12.transform(X_train.lemmas)\n",
    "tf_bow12_test = tf_vec12.transform(X_test.lemmas)"
   ]
  },
  {
   "cell_type": "code",
   "execution_count": 66,
   "metadata": {},
   "outputs": [
    {
     "name": "stdout",
     "output_type": "stream",
     "text": [
      "Classification report:\n",
      "              precision    recall  f1-score   support\n",
      "\n",
      "           1       0.74      0.99      0.85      2774\n",
      "           2       0.21      0.01      0.01       563\n",
      "           3       0.33      0.00      0.01       236\n",
      "           4       0.00      0.00      0.00       152\n",
      "           5       0.90      0.91      0.91      1423\n",
      "\n",
      "    accuracy                           0.78      5148\n",
      "   macro avg       0.44      0.38      0.35      5148\n",
      "weighted avg       0.69      0.78      0.71      5148\n",
      "\n",
      "Confusion matrix:\n",
      "[[2736    5    0    1   32]\n",
      " [ 547    3    0    0   13]\n",
      " [ 214    3    1    0   18]\n",
      " [  66    2    2    0   82]\n",
      " [ 121    1    0    0 1301]]\n",
      "\n",
      "f1 numerical columns: 53.442%\n",
      "f1 bias (only ones): 37.401%\n",
      "f1 cat boost numerical columns: 55.173%\n",
      "f1 CountVectorizer ngram_range=(1, 1): 71.479%\n",
      "f1 CountVectorizer ngram_range=(2, 2): 70.928%\n",
      "f1 CountVectorizer ngram_range=(1, 2): 73.007%\n",
      "f1 AdaBoost CountVectorizer(ngram_range=(1, 2)): 68.994%\n",
      "f1 TF-IDF ngram=(1, 1): 71.551%\n",
      "f1 AdaBoost TF-IDF ngrams=1_1: 69.333%\n",
      "f1 TF-IDF ngrams=(1, 2): 70.879%\n"
     ]
    },
    {
     "name": "stderr",
     "output_type": "stream",
     "text": [
      "/root/scripts/python/ml/.venv/lib/python3.10/site-packages/sklearn/linear_model/_logistic.py:458: ConvergenceWarning: lbfgs failed to converge (status=1):\n",
      "STOP: TOTAL NO. of ITERATIONS REACHED LIMIT.\n",
      "\n",
      "Increase the number of iterations (max_iter) or scale the data as shown in:\n",
      "    https://scikit-learn.org/stable/modules/preprocessing.html\n",
      "Please also refer to the documentation for alternative solver options:\n",
      "    https://scikit-learn.org/stable/modules/linear_model.html#logistic-regression\n",
      "  n_iter_i = _check_optimize_result(\n"
     ]
    }
   ],
   "source": [
    "tf_log12 = LogisticRegression(max_iter=100)\n",
    "tf_log12.fit(tf_bow12, y_train)\n"
   ]
  },
  {
   "cell_type": "code",
   "execution_count": 67,
   "metadata": {},
   "outputs": [
    {
     "name": "stdout",
     "output_type": "stream",
     "text": [
      "Classification report:\n",
      "              precision    recall  f1-score   support\n",
      "\n",
      "           1       0.74      0.99      0.85      2774\n",
      "           2       0.21      0.01      0.01       563\n",
      "           3       0.33      0.00      0.01       236\n",
      "           4       0.00      0.00      0.00       152\n",
      "           5       0.90      0.91      0.91      1423\n",
      "\n",
      "    accuracy                           0.78      5148\n",
      "   macro avg       0.44      0.38      0.35      5148\n",
      "weighted avg       0.69      0.78      0.71      5148\n",
      "\n",
      "Confusion matrix:\n",
      "[[2736    5    0    1   32]\n",
      " [ 547    3    0    0   13]\n",
      " [ 214    3    1    0   18]\n",
      " [  66    2    2    0   82]\n",
      " [ 121    1    0    0 1301]]\n",
      "\n",
      "f1 numerical columns: 53.442%\n",
      "f1 bias (only ones): 37.401%\n",
      "f1 cat boost numerical columns: 55.173%\n",
      "f1 CountVectorizer ngram_range=(1, 1): 71.479%\n",
      "f1 CountVectorizer ngram_range=(2, 2): 70.928%\n",
      "f1 CountVectorizer ngram_range=(1, 2): 73.007%\n",
      "f1 AdaBoost CountVectorizer(ngram_range=(1, 2)): 68.994%\n",
      "f1 TF-IDF ngram=(1, 1): 71.551%\n",
      "f1 AdaBoost TF-IDF ngrams=1_1: 69.333%\n",
      "f1 TF-IDF ngrams=(1, 2): 70.879%\n"
     ]
    }
   ],
   "source": [
    "tf_log12_pred = tf_log12.predict(tf_bow12_test)\n",
    "\n",
    "print_results(y_test, tf_log12_pred, name='TF-IDF ngrams=(1, 2)')"
   ]
  },
  {
   "cell_type": "code",
   "execution_count": 68,
   "metadata": {},
   "outputs": [
    {
     "name": "stdout",
     "output_type": "stream",
     "text": [
      " Размер словаря:22213\n"
     ]
    }
   ],
   "source": [
    "# использую символьные н-граммы\n",
    "\n",
    "ch_vec = CountVectorizer(analyzer='char_wb', ngram_range=(3, 3), )\n",
    "ch_vec.fit(X_train.lemmas)\n",
    "print(f\" Размер словаря:{len(ch_vec.vocabulary_)}\")"
   ]
  },
  {
   "cell_type": "code",
   "execution_count": 69,
   "metadata": {},
   "outputs": [],
   "source": [
    "bow_ch1 = ch_vec.transform(X_train.lemmas)\n",
    "bow_ch1_test = ch_vec.transform(X_test.lemmas)"
   ]
  },
  {
   "cell_type": "code",
   "execution_count": 70,
   "metadata": {},
   "outputs": [],
   "source": [
    "ch1_log = LogisticRegression(\n",
    "    multi_class='multinomial',\n",
    "    max_iter=200,\n",
    "    random_state=Config.random_seed\n",
    ")"
   ]
  },
  {
   "cell_type": "code",
   "execution_count": 71,
   "metadata": {},
   "outputs": [
    {
     "name": "stderr",
     "output_type": "stream",
     "text": [
      "/root/scripts/python/ml/.venv/lib/python3.10/site-packages/sklearn/linear_model/_logistic.py:458: ConvergenceWarning: lbfgs failed to converge (status=1):\n",
      "STOP: TOTAL NO. of ITERATIONS REACHED LIMIT.\n",
      "\n",
      "Increase the number of iterations (max_iter) or scale the data as shown in:\n",
      "    https://scikit-learn.org/stable/modules/preprocessing.html\n",
      "Please also refer to the documentation for alternative solver options:\n",
      "    https://scikit-learn.org/stable/modules/linear_model.html#logistic-regression\n",
      "  n_iter_i = _check_optimize_result(\n"
     ]
    }
   ],
   "source": [
    "ch1_log.fit(bow_ch1, y_train)\n",
    "None"
   ]
  },
  {
   "cell_type": "code",
   "execution_count": 72,
   "metadata": {},
   "outputs": [
    {
     "name": "stdout",
     "output_type": "stream",
     "text": [
      "Classification report:\n",
      "              precision    recall  f1-score   support\n",
      "\n",
      "           1       0.76      0.94      0.84      2774\n",
      "           2       0.23      0.06      0.09       563\n",
      "           3       0.12      0.03      0.05       236\n",
      "           4       0.25      0.09      0.13       152\n",
      "           5       0.88      0.91      0.89      1423\n",
      "\n",
      "    accuracy                           0.77      5148\n",
      "   macro avg       0.45      0.41      0.40      5148\n",
      "weighted avg       0.69      0.77      0.72      5148\n",
      "\n",
      "Confusion matrix:\n",
      "[[2607   78   19   12   58]\n",
      " [ 489   33   15    5   21]\n",
      " [ 179   20    7   10   20]\n",
      " [  46    3   10   14   79]\n",
      " [  97    9    6   15 1296]]\n",
      "\n",
      "f1 numerical columns: 53.442%\n",
      "f1 bias (only ones): 37.401%\n",
      "f1 cat boost numerical columns: 55.173%\n",
      "f1 CountVectorizer ngram_range=(1, 1): 71.479%\n",
      "f1 CountVectorizer ngram_range=(2, 2): 70.928%\n",
      "f1 CountVectorizer ngram_range=(1, 2): 73.007%\n",
      "f1 AdaBoost CountVectorizer(ngram_range=(1, 2)): 68.994%\n",
      "f1 TF-IDF ngram=(1, 1): 71.551%\n",
      "f1 AdaBoost TF-IDF ngrams=1_1: 69.333%\n",
      "f1 TF-IDF ngrams=(1, 2): 70.879%\n",
      "f1 TF-IDF chars ngrams=(3, 3) : 71.745%\n"
     ]
    }
   ],
   "source": [
    "ch1_pred = ch1_log.predict(bow_ch1_test)\n",
    "\n",
    "print_results(y_test, ch1_pred, name='TF-IDF chars ngrams=(3, 3) ')"
   ]
  },
  {
   "cell_type": "code",
   "execution_count": 73,
   "metadata": {},
   "outputs": [
    {
     "name": "stdout",
     "output_type": "stream",
     "text": [
      "Размер словаря:75756\n"
     ]
    }
   ],
   "source": [
    "# применю н-граммы к оригинальному тексту\n",
    "ch_vec = CountVectorizer(analyzer='char_wb', ngram_range=(3, 3))\n",
    "ch_vec.fit(X_train.feeds)\n",
    "print(f\"Размер словаря:{len(ch_vec.vocabulary_)}\")"
   ]
  },
  {
   "cell_type": "code",
   "execution_count": 74,
   "metadata": {},
   "outputs": [],
   "source": [
    "bow_ch2 = ch_vec.transform(X_train.feeds.apply(lambda x: x.casefold()))\n",
    "bow_ch2_test = ch_vec.transform(X_test.feeds.apply(lambda x: x.casefold()))"
   ]
  },
  {
   "cell_type": "code",
   "execution_count": 75,
   "metadata": {},
   "outputs": [
    {
     "name": "stderr",
     "output_type": "stream",
     "text": [
      "/root/scripts/python/ml/.venv/lib/python3.10/site-packages/sklearn/linear_model/_logistic.py:458: ConvergenceWarning: lbfgs failed to converge (status=1):\n",
      "STOP: TOTAL NO. of ITERATIONS REACHED LIMIT.\n",
      "\n",
      "Increase the number of iterations (max_iter) or scale the data as shown in:\n",
      "    https://scikit-learn.org/stable/modules/preprocessing.html\n",
      "Please also refer to the documentation for alternative solver options:\n",
      "    https://scikit-learn.org/stable/modules/linear_model.html#logistic-regression\n",
      "  n_iter_i = _check_optimize_result(\n"
     ]
    }
   ],
   "source": [
    "ch2_log = LogisticRegression(\n",
    "    multi_class='multinomial', \n",
    "    max_iter=200,\n",
    "    random_state=Config.random_seed,\n",
    ")\n",
    "ch2_log.fit(bow_ch2, y_train)\n",
    "None"
   ]
  },
  {
   "cell_type": "code",
   "execution_count": 76,
   "metadata": {},
   "outputs": [
    {
     "name": "stdout",
     "output_type": "stream",
     "text": [
      "Classification report:\n",
      "              precision    recall  f1-score   support\n",
      "\n",
      "           1       0.78      0.89      0.83      2774\n",
      "           2       0.24      0.14      0.17       563\n",
      "           3       0.14      0.06      0.09       236\n",
      "           4       0.21      0.12      0.16       152\n",
      "           5       0.88      0.91      0.90      1423\n",
      "\n",
      "    accuracy                           0.75      5148\n",
      "   macro avg       0.45      0.42      0.43      5148\n",
      "weighted avg       0.70      0.75      0.72      5148\n",
      "\n",
      "Confusion matrix:\n",
      "[[2456  196   41   15   66]\n",
      " [ 428   77   29    9   20]\n",
      " [ 162   31   15   14   14]\n",
      " [  36   10   15   19   72]\n",
      " [  77   10    7   32 1297]]\n",
      "\n",
      "f1 numerical columns: 53.442%\n",
      "f1 bias (only ones): 37.401%\n",
      "f1 cat boost numerical columns: 55.173%\n",
      "f1 CountVectorizer ngram_range=(1, 1): 71.479%\n",
      "f1 CountVectorizer ngram_range=(2, 2): 70.928%\n",
      "f1 CountVectorizer ngram_range=(1, 2): 73.007%\n",
      "f1 AdaBoost CountVectorizer(ngram_range=(1, 2)): 68.994%\n",
      "f1 TF-IDF ngram=(1, 1): 71.551%\n",
      "f1 AdaBoost TF-IDF ngrams=1_1: 69.333%\n",
      "f1 TF-IDF ngrams=(1, 2): 70.879%\n",
      "f1 TF-IDF chars ngrams=(3, 3) : 71.745%\n",
      "f1 TF-IDF feeds chars_wb ngrams=(3, 3): 72.171%\n"
     ]
    }
   ],
   "source": [
    "ch2_pred = ch2_log.predict(bow_ch2_test)\n",
    "\n",
    "print_results(y_test, ch2_pred, name='TF-IDF feeds chars_wb ngrams=(3, 3)')"
   ]
  },
  {
   "cell_type": "code",
   "execution_count": 77,
   "metadata": {},
   "outputs": [
    {
     "name": "stdout",
     "output_type": "stream",
     "text": [
      "Размер словаря = 609599\n"
     ]
    }
   ],
   "source": [
    "# Векториризация TF-IDF 5х5 по исходным данным\n",
    "\n",
    "vec = TfidfVectorizer(\n",
    "    lowercase=True, \n",
    "    ngram_range=(5, 5), \n",
    "    analyzer='char_wb',\n",
    "    )\n",
    "\n",
    "vec.fit(X_train.feeds.apply(lambda x: x.casefold()))\n",
    "print(f\"Размер словаря = {vec.vocabulary_.__len__()}\")"
   ]
  },
  {
   "cell_type": "code",
   "execution_count": 78,
   "metadata": {},
   "outputs": [],
   "source": [
    "bow = vec.transform(X_train.feeds.apply(lambda x: x.casefold()))\n",
    "bow_test = vec.transform(X_test.feeds.apply(lambda x: x.casefold()))"
   ]
  },
  {
   "cell_type": "code",
   "execution_count": 80,
   "metadata": {},
   "outputs": [
    {
     "name": "stderr",
     "output_type": "stream",
     "text": [
      "/root/scripts/python/ml/.venv/lib/python3.10/site-packages/sklearn/linear_model/_logistic.py:458: ConvergenceWarning: lbfgs failed to converge (status=1):\n",
      "STOP: TOTAL NO. of ITERATIONS REACHED LIMIT.\n",
      "\n",
      "Increase the number of iterations (max_iter) or scale the data as shown in:\n",
      "    https://scikit-learn.org/stable/modules/preprocessing.html\n",
      "Please also refer to the documentation for alternative solver options:\n",
      "    https://scikit-learn.org/stable/modules/linear_model.html#logistic-regression\n",
      "  n_iter_i = _check_optimize_result(\n"
     ]
    }
   ],
   "source": [
    "lr = LogisticRegression(max_iter=100, multi_class='multinomial', random_state=Config.random_seed)\n",
    "lr.fit(bow, y_train)\n",
    "None"
   ]
  },
  {
   "cell_type": "code",
   "execution_count": 81,
   "metadata": {},
   "outputs": [
    {
     "name": "stdout",
     "output_type": "stream",
     "text": [
      "Classification report:\n",
      "              precision    recall  f1-score   support\n",
      "\n",
      "           1       0.98      0.75      0.85      3613\n",
      "           2       0.02      0.19      0.03        47\n",
      "           3       0.01      0.14      0.02        14\n",
      "           4       0.02      0.38      0.04         8\n",
      "           5       0.93      0.90      0.92      1466\n",
      "\n",
      "    accuracy                           0.79      5148\n",
      "   macro avg       0.39      0.47      0.37      5148\n",
      "weighted avg       0.95      0.79      0.86      5148\n",
      "\n",
      "Confusion matrix:\n",
      "[[2724  538  203   54   94]\n",
      " [  20    9   12    2    4]\n",
      " [   1    3    2    6    2]\n",
      " [   1    1    2    3    1]\n",
      " [  28   12   17   87 1322]]\n",
      "\n",
      "f1 numerical columns: 53.442%\n",
      "f1 bias (only ones): 37.401%\n",
      "f1 cat boost numerical columns: 55.173%\n",
      "f1 CountVectorizer ngram_range=(1, 1): 71.479%\n",
      "f1 CountVectorizer ngram_range=(2, 2): 70.928%\n",
      "f1 CountVectorizer ngram_range=(1, 2): 73.007%\n",
      "f1 AdaBoost CountVectorizer(ngram_range=(1, 2)): 68.994%\n",
      "f1 TF-IDF ngram=(1, 1): 71.551%\n",
      "f1 AdaBoost TF-IDF ngrams=1_1: 69.333%\n",
      "f1 TF-IDF ngrams=(1, 2): 70.879%\n",
      "f1 TF-IDF chars ngrams=(3, 3) : 71.745%\n",
      "f1 TF-IDF feeds chars_wb ngrams=(3, 3): 72.171%\n",
      "f1 TF-IDF char_wd feeds ngrams=(5, 5): 85.964%\n"
     ]
    }
   ],
   "source": [
    "lr_pred = lr.predict(bow_test)\n",
    "print_results(lr_pred, y_test, name='TF-IDF char_wb feeds ngrams=(5, 5)')"
   ]
  },
  {
   "cell_type": "code",
   "execution_count": 97,
   "metadata": {},
   "outputs": [],
   "source": [
    "vec = TfidfVectorizer(analyzer='char_wb', ngram_range=(5, 6), min_df=0.0001, max_df=1.0)\n",
    "X = vec.fit_transform(X_train.feeds.apply(lambda x: x.casefold()))"
   ]
  },
  {
   "cell_type": "code",
   "execution_count": 98,
   "metadata": {},
   "outputs": [
    {
     "name": "stdout",
     "output_type": "stream",
     "text": [
      "Размер словаря: 280327\n"
     ]
    }
   ],
   "source": [
    "print(f\"Размер словаря: {len(vec.vocabulary_)}\")"
   ]
  },
  {
   "cell_type": "code",
   "execution_count": 99,
   "metadata": {},
   "outputs": [
    {
     "name": "stderr",
     "output_type": "stream",
     "text": [
      "/root/scripts/python/ml/.venv/lib/python3.10/site-packages/sklearn/linear_model/_logistic.py:458: ConvergenceWarning: lbfgs failed to converge (status=1):\n",
      "STOP: TOTAL NO. of ITERATIONS REACHED LIMIT.\n",
      "\n",
      "Increase the number of iterations (max_iter) or scale the data as shown in:\n",
      "    https://scikit-learn.org/stable/modules/preprocessing.html\n",
      "Please also refer to the documentation for alternative solver options:\n",
      "    https://scikit-learn.org/stable/modules/linear_model.html#logistic-regression\n",
      "  n_iter_i = _check_optimize_result(\n"
     ]
    },
    {
     "data": {
      "text/html": [
       "<style>#sk-container-id-11 {color: black;background-color: white;}#sk-container-id-11 pre{padding: 0;}#sk-container-id-11 div.sk-toggleable {background-color: white;}#sk-container-id-11 label.sk-toggleable__label {cursor: pointer;display: block;width: 100%;margin-bottom: 0;padding: 0.3em;box-sizing: border-box;text-align: center;}#sk-container-id-11 label.sk-toggleable__label-arrow:before {content: \"▸\";float: left;margin-right: 0.25em;color: #696969;}#sk-container-id-11 label.sk-toggleable__label-arrow:hover:before {color: black;}#sk-container-id-11 div.sk-estimator:hover label.sk-toggleable__label-arrow:before {color: black;}#sk-container-id-11 div.sk-toggleable__content {max-height: 0;max-width: 0;overflow: hidden;text-align: left;background-color: #f0f8ff;}#sk-container-id-11 div.sk-toggleable__content pre {margin: 0.2em;color: black;border-radius: 0.25em;background-color: #f0f8ff;}#sk-container-id-11 input.sk-toggleable__control:checked~div.sk-toggleable__content {max-height: 200px;max-width: 100%;overflow: auto;}#sk-container-id-11 input.sk-toggleable__control:checked~label.sk-toggleable__label-arrow:before {content: \"▾\";}#sk-container-id-11 div.sk-estimator input.sk-toggleable__control:checked~label.sk-toggleable__label {background-color: #d4ebff;}#sk-container-id-11 div.sk-label input.sk-toggleable__control:checked~label.sk-toggleable__label {background-color: #d4ebff;}#sk-container-id-11 input.sk-hidden--visually {border: 0;clip: rect(1px 1px 1px 1px);clip: rect(1px, 1px, 1px, 1px);height: 1px;margin: -1px;overflow: hidden;padding: 0;position: absolute;width: 1px;}#sk-container-id-11 div.sk-estimator {font-family: monospace;background-color: #f0f8ff;border: 1px dotted black;border-radius: 0.25em;box-sizing: border-box;margin-bottom: 0.5em;}#sk-container-id-11 div.sk-estimator:hover {background-color: #d4ebff;}#sk-container-id-11 div.sk-parallel-item::after {content: \"\";width: 100%;border-bottom: 1px solid gray;flex-grow: 1;}#sk-container-id-11 div.sk-label:hover label.sk-toggleable__label {background-color: #d4ebff;}#sk-container-id-11 div.sk-serial::before {content: \"\";position: absolute;border-left: 1px solid gray;box-sizing: border-box;top: 0;bottom: 0;left: 50%;z-index: 0;}#sk-container-id-11 div.sk-serial {display: flex;flex-direction: column;align-items: center;background-color: white;padding-right: 0.2em;padding-left: 0.2em;position: relative;}#sk-container-id-11 div.sk-item {position: relative;z-index: 1;}#sk-container-id-11 div.sk-parallel {display: flex;align-items: stretch;justify-content: center;background-color: white;position: relative;}#sk-container-id-11 div.sk-item::before, #sk-container-id-11 div.sk-parallel-item::before {content: \"\";position: absolute;border-left: 1px solid gray;box-sizing: border-box;top: 0;bottom: 0;left: 50%;z-index: -1;}#sk-container-id-11 div.sk-parallel-item {display: flex;flex-direction: column;z-index: 1;position: relative;background-color: white;}#sk-container-id-11 div.sk-parallel-item:first-child::after {align-self: flex-end;width: 50%;}#sk-container-id-11 div.sk-parallel-item:last-child::after {align-self: flex-start;width: 50%;}#sk-container-id-11 div.sk-parallel-item:only-child::after {width: 0;}#sk-container-id-11 div.sk-dashed-wrapped {border: 1px dashed gray;margin: 0 0.4em 0.5em 0.4em;box-sizing: border-box;padding-bottom: 0.4em;background-color: white;}#sk-container-id-11 div.sk-label label {font-family: monospace;font-weight: bold;display: inline-block;line-height: 1.2em;}#sk-container-id-11 div.sk-label-container {text-align: center;}#sk-container-id-11 div.sk-container {/* jupyter's `normalize.less` sets `[hidden] { display: none; }` but bootstrap.min.css set `[hidden] { display: none !important; }` so we also need the `!important` here to be able to override the default hidden behavior on the sphinx rendered scikit-learn.org. See: https://github.com/scikit-learn/scikit-learn/issues/21755 */display: inline-block !important;position: relative;}#sk-container-id-11 div.sk-text-repr-fallback {display: none;}</style><div id=\"sk-container-id-11\" class=\"sk-top-container\"><div class=\"sk-text-repr-fallback\"><pre>LogisticRegression(multi_class=&#x27;multinomial&#x27;, random_state=42)</pre><b>In a Jupyter environment, please rerun this cell to show the HTML representation or trust the notebook. <br />On GitHub, the HTML representation is unable to render, please try loading this page with nbviewer.org.</b></div><div class=\"sk-container\" hidden><div class=\"sk-item\"><div class=\"sk-estimator sk-toggleable\"><input class=\"sk-toggleable__control sk-hidden--visually\" id=\"sk-estimator-id-11\" type=\"checkbox\" checked><label for=\"sk-estimator-id-11\" class=\"sk-toggleable__label sk-toggleable__label-arrow\">LogisticRegression</label><div class=\"sk-toggleable__content\"><pre>LogisticRegression(multi_class=&#x27;multinomial&#x27;, random_state=42)</pre></div></div></div></div></div>"
      ],
      "text/plain": [
       "LogisticRegression(multi_class='multinomial', random_state=42)"
      ]
     },
     "execution_count": 99,
     "metadata": {},
     "output_type": "execute_result"
    }
   ],
   "source": [
    "clf = LogisticRegression(max_iter=100, multi_class='multinomial', random_state=Config.random_seed)\n",
    "clf.fit(X, y_train)\n"
   ]
  },
  {
   "cell_type": "code",
   "execution_count": 100,
   "metadata": {},
   "outputs": [
    {
     "name": "stdout",
     "output_type": "stream",
     "text": [
      "Classification report:\n",
      "              precision    recall  f1-score   support\n",
      "\n",
      "           1       0.98      0.75      0.85      3623\n",
      "           2       0.01      0.13      0.02        39\n",
      "           3       0.01      0.15      0.02        13\n",
      "           4       0.02      0.50      0.04         6\n",
      "           5       0.93      0.90      0.91      1467\n",
      "\n",
      "    accuracy                           0.79      5148\n",
      "   macro avg       0.39      0.49      0.37      5148\n",
      "weighted avg       0.96      0.79      0.86      5148\n",
      "\n",
      "Confusion matrix:\n",
      "[[2723  542  210   53   95]\n",
      " [  18    5    7    2    7]\n",
      " [   0    2    2    7    2]\n",
      " [   1    1    1    3    0]\n",
      " [  32   13   16   87 1319]]\n",
      "\n",
      "f1 numerical columns: 53.442%\n",
      "f1 bias (only ones): 37.401%\n",
      "f1 cat boost numerical columns: 55.173%\n",
      "f1 CountVectorizer ngram_range=(1, 1): 71.479%\n",
      "f1 CountVectorizer ngram_range=(2, 2): 70.928%\n",
      "f1 CountVectorizer ngram_range=(1, 2): 73.007%\n",
      "f1 AdaBoost CountVectorizer(ngram_range=(1, 2)): 68.994%\n",
      "f1 TF-IDF ngram=(1, 1): 71.551%\n",
      "f1 AdaBoost TF-IDF ngrams=1_1: 69.333%\n",
      "f1 TF-IDF ngrams=(1, 2): 70.879%\n",
      "f1 TF-IDF chars ngrams=(3, 3) : 71.745%\n",
      "f1 TF-IDF feeds chars_wb ngrams=(3, 3): 72.171%\n",
      "f1 TF-IDF char_wd feeds ngrams=(5, 5): 85.964%\n",
      "f1 TF-IDF char_wb feeds ngrams=(3, 5): 84.329%\n",
      "f1 TF-IDF char_wb feeds ngrams=(5, 6): 85.611%\n",
      "f1 TF-IDF char_wb feeds ngrams=(5, 6) min_df=0.0001: 85.947%\n"
     ]
    }
   ],
   "source": [
    "bow_test = vec.transform(X_test.feeds.apply(lambda x: x.casefold()))\n",
    "clf_pred = clf.predict(bow_test)\n",
    "\n",
    "print_results(clf_pred, y_test, name='TF-IDF char_wb feeds ngrams=(5, 6) min_df=0.0001')"
   ]
  },
  {
   "cell_type": "code",
   "execution_count": 85,
   "metadata": {},
   "outputs": [],
   "source": [
    "make_submission(\n",
    "    classificator=clf,\n",
    "    vectorizer=vec,\n",
    "    test_data=test_df['feeds'].apply(lambda x: x.casefold()),\n",
    "    filename='my_submission-tfidf_5_6_char_wb-feeds-logreg.csv'\n",
    ")"
   ]
  },
  {
   "cell_type": "code",
   "execution_count": null,
   "metadata": {},
   "outputs": [],
   "source": [
    "# разобраться с кодировкой и почему не работает pymystem3\n",
    "# добавить столбцы c числеными метриками\n",
    "# перенести диапазон с 1-5 на 0-4 включительно"
   ]
  }
 ],
 "metadata": {
  "kernelspec": {
   "display_name": ".venv",
   "language": "python",
   "name": "python3"
  },
  "language_info": {
   "codemirror_mode": {
    "name": "ipython",
    "version": 3
   },
   "file_extension": ".py",
   "mimetype": "text/x-python",
   "name": "python",
   "nbconvert_exporter": "python",
   "pygments_lexer": "ipython3",
   "version": "3.10.11"
  },
  "orig_nbformat": 4
 },
 "nbformat": 4,
 "nbformat_minor": 2
}
